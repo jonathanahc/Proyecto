{
  "nbformat": 4,
  "nbformat_minor": 0,
  "metadata": {
    "colab": {
      "provenance": [],
      "include_colab_link": true
    },
    "kernelspec": {
      "name": "python3",
      "display_name": "Python 3"
    },
    "language_info": {
      "name": "python"
    }
  },
  "cells": [
    {
      "cell_type": "markdown",
      "metadata": {
        "id": "view-in-github",
        "colab_type": "text"
      },
      "source": [
        "<a href=\"https://colab.research.google.com/github/jonathanahc/Proyecto/blob/main/ProyectoProgADAP_255497NvaVersion.ipynb\" target=\"_parent\"><img src=\"https://colab.research.google.com/assets/colab-badge.svg\" alt=\"Open In Colab\"/></a>"
      ]
    },
    {
      "cell_type": "markdown",
      "source": [
        "# **Proyecto de Programación para Analítica Descriptiva y Predictiva**\n",
        "## Nombre del Proyecto: Consumo y Costo del Agua en Nueva York\n",
        "## Grupo: A\n",
        "## Autor: Jonathan Adrian Herrera Castro\n",
        "## Matrícula: 255497\n",
        "## Fecha: 08/03/2025"
      ],
      "metadata": {
        "id": "V5SiSwjFaQ8j"
      }
    },
    {
      "cell_type": "markdown",
      "source": [
        "# **1. Introducción**\n",
        "\n",
        "## **- Descripción del problema:** el objetivo de este análisis es examinar el consumo de agua en la ciudad de Nueva York y su costo asociado, con el fin de identificar tendencias y algunos factores que influyen en su variación. Se analizarán patrones de consumo en distintas zonas y sectores de febrero del 2013 hasta 2023.\n",
        "\n",
        "## **- Objetivo del análisis:** comprender el consumo y costo del agua en Nueva York para identificar patrones y factores que afectan su variabilidad. Este análisis tiene como impacto en el tema de la optimización el uso del agua, la planificación de tarifas y establecer algunas estrategias de sostenibilidad.\n",
        "\n",
        "## **- Fuente de datos:** los datos utilizados en este análisis provienen de NYC Open Data, una plataforma que ofrece bases de datos de acceso público. La información fue proporcionada por la Autoridad de Vivienda de la Ciudad de Nueva York (NYCHA, por sus siglas en inglés).\n"
      ],
      "metadata": {
        "id": "6ljsvIIXbAHF"
      }
    },
    {
      "cell_type": "markdown",
      "source": [
        "# **2. Información General del Conjunto de Datos**\n",
        "\n",
        "El conjunto de datos sobre el consumo y costo del agua en Nueva York pertenece a la categoría de gestión de recursos hídricos urbanos, que abarca el análisis y control de la distribución de agua potable y la fijación de tarifas. Los datos recopilados incluyen información sobre el volumen de agua consumido en diferentes áreas de la ciudad, las tarifas establecidas para los consumidores, patrones de consumo y variaciones de precios. La fuente principal de estos datos es la Autoridad de Vivienda de la Ciudad de Nueva York (NYCHA, por sus siglas en inglés), los informes y los datos sobre el consumo de agua se publican anualmente y están disponibles al público en su sitio web oficial.\n",
        "\n",
        "El enlace para acceder a la base de datos es:\n",
        "[Water Consumption And Cost (2013 - Feb 2025)](https://data.cityofnewyork.us/Housing-Development/Water-Consumption-And-Cost-2013-Feb-2025-/66be-66yr/about_data)\n",
        "\n",
        "Estos datos se pueden encontrar en formato CSV lo cual facilita su acceso y análisis y son utilizados para diversos fines como el análisis - planificación de políticas públicas, gestión - mantenimiento de infraestructura y para pronósticos y ajustes tarifarios."
      ],
      "metadata": {
        "id": "R2awiYXqa6Tv"
      }
    },
    {
      "cell_type": "markdown",
      "source": [
        "#**3.Descripción del Conjunto de Datos**\n",
        "\n",
        "- Deberás escribir el número de filas, columnas\n",
        "- Tipos de datos de las columnas,\n",
        "- Nombres de las columnas\n",
        "- Descripción estadística de cada una de las columnas\n",
        "\n",
        "RECUERDA AGREGAR UNA O VARIAS CELDAS DE CÓDIGO"
      ],
      "metadata": {
        "id": "oKCLUQvPcSOm"
      }
    },
    {
      "cell_type": "markdown",
      "source": [
        "# **4. Limpieza y Transformación del Conjunto de Datos**\n",
        "\n",
        "Para cada una de las siguientes subsecciones deberás explicar qué hiciste y qué obtuviste como resultado\n",
        "\n",
        "- Normalización de Nombres de Columnas: Explicar qué pasos o procesos aplicaste para normalizar los nombres de las columnas (muestra también el código). Muestra el antes y después.\n",
        "- Corrección de Tipos de Datos: Explicar qué columnas corregiste el tipo de datos(numérico, categórico, texto, fecha) - Muestra el código de todo este proceso de corrección antes y después.\n",
        "- Limpieza, Transformación y Normalización de Datos Categóricos: Explica qué pasos realizaste para tratar los datos categóricos. Muestra el código sobre el proceso que realizaste\n",
        "- Datos Perdidos: Describe cuántos datos perdidos hay por columna, los pasos que realizaste para detectar, tratar y finalmente cómo quedó el conjunto de datos después del tratamiento.  Muestra el código de cuántos datos perdidos tiene cada columna y luego aplica una estrategia para tratar estos datos. Justifica la decisión que elegiste para trata este problema.\n",
        "- Limpieza, Transformación y Normalización de Datos Temporales: Explica qué pasos realizaste para tratar los datos Temporales. Muestra el código sobre el proceso que realizaste\n",
        "- Outliers: Explica qué pasos realizaste para detectar y tratar los outliers. Muestra el código sobre el proceso que realizaste.\n",
        "\n",
        "RECUERDA AGREGAR UNA O VARIAS CELDAS DE CÓDIGO"
      ],
      "metadata": {
        "id": "X9IGmbabpuTz"
      }
    },
    {
      "cell_type": "markdown",
      "source": [
        "# **5. Análisis Descriptivo de Datos**\n",
        "\n",
        "## - Preguntas a responder con el AD\n",
        "## - Explicación de Estadísticas Básicas Aplicadas, Visualización de Datos con Gráficos, y Resumen de las respuestas"
      ],
      "metadata": {
        "id": "3gERzOTAfuOL"
      }
    },
    {
      "cell_type": "markdown",
      "source": [
        "# **6. Análisis Exploratorio de los Datos**\n",
        "\n",
        "## - Preguntas a responder\n",
        "## - Estadísticas Empleadas, visualización y Resumen de las respuestas encontradas.\n",
        "\n",
        "RECUERDA AGREGAR UNA O VARIAS CELDAS DE CÓDIGO"
      ],
      "metadata": {
        "id": "_s8IXMLsfrI5"
      }
    },
    {
      "cell_type": "markdown",
      "source": [],
      "metadata": {
        "id": "AvV5oAjUqVcs"
      }
    },
    {
      "cell_type": "markdown",
      "source": [
        "# **7. Análisis Predictivo**\n",
        "\n",
        "## - Preprocesamiento para Análisis Predictivo: Problemas, Técnicas y Código\n",
        "\n",
        "## - Modelado Predictivo\n",
        "### - Modelo elegido y parámetros\n",
        "### - Entrenamiento y Evaluación\n",
        "## - Resultados\n",
        "RECUERDA AGREGAR UNA O VARIAS CELDAS DE CÓDIGO"
      ],
      "metadata": {
        "id": "D8irLVFimFqa"
      }
    },
    {
      "cell_type": "markdown",
      "source": [
        "# **8. Conclusiones y Trabajos Futuros**\n",
        "\n",
        "## - Resumen del trabajo realizado, hallazgos y posibles mejoras\n",
        "\n",
        "RECUERDA AGREGAR UNA O VARIAS CELDAS DE CÓDIGO"
      ],
      "metadata": {
        "id": "8ESQV5mmmSRI"
      }
    }
  ]
}