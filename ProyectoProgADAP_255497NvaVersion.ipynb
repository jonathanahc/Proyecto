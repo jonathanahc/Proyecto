{
  "nbformat": 4,
  "nbformat_minor": 0,
  "metadata": {
    "colab": {
      "provenance": [],
      "include_colab_link": true
    },
    "kernelspec": {
      "name": "python3",
      "display_name": "Python 3"
    },
    "language_info": {
      "name": "python"
    }
  },
  "cells": [
    {
      "cell_type": "markdown",
      "metadata": {
        "id": "view-in-github",
        "colab_type": "text"
      },
      "source": [
        "<a href=\"https://colab.research.google.com/github/jonathanahc/Proyecto/blob/main/ProyectoProgADAP_255497NvaVersion.ipynb\" target=\"_parent\"><img src=\"https://colab.research.google.com/assets/colab-badge.svg\" alt=\"Open In Colab\"/></a>"
      ]
    },
    {
      "cell_type": "markdown",
      "source": [
        "# **Proyecto de Programación para Analítica Descriptiva y Predictiva**\n",
        "## Nombre del Proyecto: Consumo y Costo del Agua en Nueva York\n",
        "## Grupo: A\n",
        "## Autor: Jonathan Adrian Herrera Castro\n",
        "## Matrícula: 255497\n",
        "## Fecha: 08/03/2025"
      ],
      "metadata": {
        "id": "V5SiSwjFaQ8j"
      }
    },
    {
      "cell_type": "markdown",
      "source": [
        "# **1. Introducción**\n",
        "\n"
      ],
      "metadata": {
        "id": "6ljsvIIXbAHF"
      }
    },
    {
      "cell_type": "markdown",
      "source": [
        "## **- Descripción del problema:** el objetivo de este análisis es examinar el consumo de agua en la ciudad de Nueva York y su costo asociado, con el fin de identificar tendencias y algunos factores que influyen en su variación. Se analizarán patrones de consumo en distintas zonas y sectores de febrero del 2013 hasta 2023.\n",
        "\n",
        "## **- Objetivo del análisis:** comprender el consumo y costo del agua en Nueva York para identificar patrones y factores que afectan su variabilidad. Este análisis tiene como impacto en el tema de la optimización el uso del agua, la planificación de tarifas y establecer algunas estrategias de sostenibilidad.\n",
        "\n",
        "## **- Fuente de datos:** los datos utilizados en este análisis provienen de NYC Open Data, una plataforma que ofrece bases de datos de acceso público. La información fue proporcionada por la Autoridad de Vivienda de la Ciudad de Nueva York (NYCHA, por sus siglas en inglés)."
      ],
      "metadata": {
        "id": "BHKv7XW_RUPN"
      }
    },
    {
      "cell_type": "markdown",
      "source": [
        "# **2. Información General del Conjunto de Datos**"
      ],
      "metadata": {
        "id": "R2awiYXqa6Tv"
      }
    },
    {
      "cell_type": "markdown",
      "source": [
        "El conjunto de datos sobre el consumo y costo del agua en Nueva York pertenece a la categoría de gestión de recursos hídricos urbanos, que abarca el análisis y control de la distribución de agua potable y la fijación de tarifas. Los datos recopilados incluyen información sobre el volumen de agua consumido en diferentes áreas de la ciudad, las tarifas establecidas para los consumidores, patrones de consumo y variaciones de precios. La fuente principal de estos datos es la Autoridad de Vivienda de la Ciudad de Nueva York (NYCHA, por sus siglas en inglés), los informes y los datos sobre el consumo de agua se publican anualmente y están disponibles al público en su sitio web oficial.\n",
        "\n",
        "El enlace para acceder a la base de datos es:\n",
        "[Water Consumption And Cost (2013 - Feb 2025)](https://data.cityofnewyork.us/Housing-Development/Water-Consumption-And-Cost-2013-Feb-2025-/66be-66yr/about_data)\n",
        "\n",
        "Estos datos se pueden encontrar en formato CSV lo cual facilita su acceso y análisis y son utilizados para diversos fines como el análisis - planificación de políticas públicas, gestión - mantenimiento de infraestructura y para pronósticos y ajustes tarifarios."
      ],
      "metadata": {
        "id": "cV1ZyvU1Ro4d"
      }
    },
    {
      "cell_type": "markdown",
      "source": [
        "#**3. Descripción del Conjunto de Datos**\n"
      ],
      "metadata": {
        "id": "oKCLUQvPcSOm"
      }
    },
    {
      "cell_type": "markdown",
      "source": [
        "Como primera fase, se emplearon diversas librerías para facilitar el proceso de carga del archivo CSV. La primera librería utilizada fue google.colab, la cual establece la conexión a la carpeta Drive donde se encuentra almacenado el archivo. Además, se importaron las librerías Pandas y Re para interactuar con los datos."
      ],
      "metadata": {
        "id": "LR8SNmK46aWy"
      }
    },
    {
      "cell_type": "code",
      "source": [
        "from google.colab import drive\n",
        "drive.mount('/content/drive')\n",
        "\n",
        "import pandas as pd\n",
        "import re\n",
        "import numpy as np\n",
        "import matplotlib.pyplot as plt\n",
        "import seaborn as sns\n",
        "from scipy.stats.mstats import winsorize"
      ],
      "metadata": {
        "colab": {
          "base_uri": "https://localhost:8080/"
        },
        "id": "4gCGfL6yKTwq",
        "outputId": "d8df7129-e3af-4f9e-cabd-180c6cc2c1a4"
      },
      "execution_count": 26,
      "outputs": [
        {
          "output_type": "stream",
          "name": "stdout",
          "text": [
            "Drive already mounted at /content/drive; to attempt to forcibly remount, call drive.mount(\"/content/drive\", force_remount=True).\n"
          ]
        }
      ]
    },
    {
      "cell_type": "markdown",
      "source": [
        "Con esta sentencia, se cargó el archivo CSV en un dataframe sin presentar inconvenientes durante el proceso."
      ],
      "metadata": {
        "id": "ToukKbAJKaow"
      }
    },
    {
      "cell_type": "code",
      "source": [
        "df = pd.read_csv('/content/drive/MyDrive/ProyectoProgramacion/Water_Consumption_And_Cost__2013_-_Feb_2023__20250216.csv', engine=\"python\")"
      ],
      "metadata": {
        "id": "dX_WdeeULMnE"
      },
      "execution_count": 28,
      "outputs": []
    },
    {
      "cell_type": "markdown",
      "source": [
        "Una vez cargado el archivo, se validó que los datos se mostrarán correctamente."
      ],
      "metadata": {
        "id": "QK-wQCUKLckz"
      }
    },
    {
      "cell_type": "code",
      "source": [
        "df.head(3)"
      ],
      "metadata": {
        "colab": {
          "base_uri": "https://localhost:8080/",
          "height": 366
        },
        "id": "Vop5hkgKLfGB",
        "outputId": "f1c3d48f-a2c7-4d3b-a021-3938507dc84b"
      },
      "execution_count": 29,
      "outputs": [
        {
          "output_type": "execute_result",
          "data": {
            "text/plain": [
              "  Development Name   Borough   Account Name Location Meter AMR Meter Scope  \\\n",
              "0    HOWARD AVENUE  BROOKLYN  HOWARD AVENUE   BLD 02       AMR         NaN   \n",
              "1     BAISLEY PARK    QUEENS   BAISLEY PARK   BLD 09       AMR      BLD 09   \n",
              "2     BAISLEY PARK    QUEENS   BAISLEY PARK   BLD 09       AMR      BLD 09   \n",
              "\n",
              "   TDS #  EDP  RC Code Funding Source  ... Service End Date # days  \\\n",
              "0  339.0  782  K033900        FEDERAL  ...       04/23/2020   31.0   \n",
              "1   91.0  240  Q009100        FEDERAL  ...       01/26/2020   34.0   \n",
              "2   91.0  240  Q009100        FEDERAL  ...       02/24/2020   29.0   \n",
              "\n",
              "   Meter Number Estimated Current Charges             Rate Class  \\\n",
              "0     E11310572         N         2945.22  Basic Water and Sewer   \n",
              "1     K13060723         N          196.35  Basic Water and Sewer   \n",
              "2     K13060723         N          258.35  Basic Water and Sewer   \n",
              "\n",
              "   Bill Analyzed Consumption (HCF) Water&Sewer Charges  Other Charges  \n",
              "0            Yes               285             2945.22            0.0  \n",
              "1            Yes                19              196.35            0.0  \n",
              "2            Yes                25              258.35            0.0  \n",
              "\n",
              "[3 rows x 25 columns]"
            ],
            "text/html": [
              "\n",
              "  <div id=\"df-361a59ea-510f-4c72-b76f-6f3e1078a9bd\" class=\"colab-df-container\">\n",
              "    <div>\n",
              "<style scoped>\n",
              "    .dataframe tbody tr th:only-of-type {\n",
              "        vertical-align: middle;\n",
              "    }\n",
              "\n",
              "    .dataframe tbody tr th {\n",
              "        vertical-align: top;\n",
              "    }\n",
              "\n",
              "    .dataframe thead th {\n",
              "        text-align: right;\n",
              "    }\n",
              "</style>\n",
              "<table border=\"1\" class=\"dataframe\">\n",
              "  <thead>\n",
              "    <tr style=\"text-align: right;\">\n",
              "      <th></th>\n",
              "      <th>Development Name</th>\n",
              "      <th>Borough</th>\n",
              "      <th>Account Name</th>\n",
              "      <th>Location</th>\n",
              "      <th>Meter AMR</th>\n",
              "      <th>Meter Scope</th>\n",
              "      <th>TDS #</th>\n",
              "      <th>EDP</th>\n",
              "      <th>RC Code</th>\n",
              "      <th>Funding Source</th>\n",
              "      <th>...</th>\n",
              "      <th>Service End Date</th>\n",
              "      <th># days</th>\n",
              "      <th>Meter Number</th>\n",
              "      <th>Estimated</th>\n",
              "      <th>Current Charges</th>\n",
              "      <th>Rate Class</th>\n",
              "      <th>Bill Analyzed</th>\n",
              "      <th>Consumption (HCF)</th>\n",
              "      <th>Water&amp;Sewer Charges</th>\n",
              "      <th>Other Charges</th>\n",
              "    </tr>\n",
              "  </thead>\n",
              "  <tbody>\n",
              "    <tr>\n",
              "      <th>0</th>\n",
              "      <td>HOWARD AVENUE</td>\n",
              "      <td>BROOKLYN</td>\n",
              "      <td>HOWARD AVENUE</td>\n",
              "      <td>BLD 02</td>\n",
              "      <td>AMR</td>\n",
              "      <td>NaN</td>\n",
              "      <td>339.0</td>\n",
              "      <td>782</td>\n",
              "      <td>K033900</td>\n",
              "      <td>FEDERAL</td>\n",
              "      <td>...</td>\n",
              "      <td>04/23/2020</td>\n",
              "      <td>31.0</td>\n",
              "      <td>E11310572</td>\n",
              "      <td>N</td>\n",
              "      <td>2945.22</td>\n",
              "      <td>Basic Water and Sewer</td>\n",
              "      <td>Yes</td>\n",
              "      <td>285</td>\n",
              "      <td>2945.22</td>\n",
              "      <td>0.0</td>\n",
              "    </tr>\n",
              "    <tr>\n",
              "      <th>1</th>\n",
              "      <td>BAISLEY PARK</td>\n",
              "      <td>QUEENS</td>\n",
              "      <td>BAISLEY PARK</td>\n",
              "      <td>BLD 09</td>\n",
              "      <td>AMR</td>\n",
              "      <td>BLD 09</td>\n",
              "      <td>91.0</td>\n",
              "      <td>240</td>\n",
              "      <td>Q009100</td>\n",
              "      <td>FEDERAL</td>\n",
              "      <td>...</td>\n",
              "      <td>01/26/2020</td>\n",
              "      <td>34.0</td>\n",
              "      <td>K13060723</td>\n",
              "      <td>N</td>\n",
              "      <td>196.35</td>\n",
              "      <td>Basic Water and Sewer</td>\n",
              "      <td>Yes</td>\n",
              "      <td>19</td>\n",
              "      <td>196.35</td>\n",
              "      <td>0.0</td>\n",
              "    </tr>\n",
              "    <tr>\n",
              "      <th>2</th>\n",
              "      <td>BAISLEY PARK</td>\n",
              "      <td>QUEENS</td>\n",
              "      <td>BAISLEY PARK</td>\n",
              "      <td>BLD 09</td>\n",
              "      <td>AMR</td>\n",
              "      <td>BLD 09</td>\n",
              "      <td>91.0</td>\n",
              "      <td>240</td>\n",
              "      <td>Q009100</td>\n",
              "      <td>FEDERAL</td>\n",
              "      <td>...</td>\n",
              "      <td>02/24/2020</td>\n",
              "      <td>29.0</td>\n",
              "      <td>K13060723</td>\n",
              "      <td>N</td>\n",
              "      <td>258.35</td>\n",
              "      <td>Basic Water and Sewer</td>\n",
              "      <td>Yes</td>\n",
              "      <td>25</td>\n",
              "      <td>258.35</td>\n",
              "      <td>0.0</td>\n",
              "    </tr>\n",
              "  </tbody>\n",
              "</table>\n",
              "<p>3 rows × 25 columns</p>\n",
              "</div>\n",
              "    <div class=\"colab-df-buttons\">\n",
              "\n",
              "  <div class=\"colab-df-container\">\n",
              "    <button class=\"colab-df-convert\" onclick=\"convertToInteractive('df-361a59ea-510f-4c72-b76f-6f3e1078a9bd')\"\n",
              "            title=\"Convert this dataframe to an interactive table.\"\n",
              "            style=\"display:none;\">\n",
              "\n",
              "  <svg xmlns=\"http://www.w3.org/2000/svg\" height=\"24px\" viewBox=\"0 -960 960 960\">\n",
              "    <path d=\"M120-120v-720h720v720H120Zm60-500h600v-160H180v160Zm220 220h160v-160H400v160Zm0 220h160v-160H400v160ZM180-400h160v-160H180v160Zm440 0h160v-160H620v160ZM180-180h160v-160H180v160Zm440 0h160v-160H620v160Z\"/>\n",
              "  </svg>\n",
              "    </button>\n",
              "\n",
              "  <style>\n",
              "    .colab-df-container {\n",
              "      display:flex;\n",
              "      gap: 12px;\n",
              "    }\n",
              "\n",
              "    .colab-df-convert {\n",
              "      background-color: #E8F0FE;\n",
              "      border: none;\n",
              "      border-radius: 50%;\n",
              "      cursor: pointer;\n",
              "      display: none;\n",
              "      fill: #1967D2;\n",
              "      height: 32px;\n",
              "      padding: 0 0 0 0;\n",
              "      width: 32px;\n",
              "    }\n",
              "\n",
              "    .colab-df-convert:hover {\n",
              "      background-color: #E2EBFA;\n",
              "      box-shadow: 0px 1px 2px rgba(60, 64, 67, 0.3), 0px 1px 3px 1px rgba(60, 64, 67, 0.15);\n",
              "      fill: #174EA6;\n",
              "    }\n",
              "\n",
              "    .colab-df-buttons div {\n",
              "      margin-bottom: 4px;\n",
              "    }\n",
              "\n",
              "    [theme=dark] .colab-df-convert {\n",
              "      background-color: #3B4455;\n",
              "      fill: #D2E3FC;\n",
              "    }\n",
              "\n",
              "    [theme=dark] .colab-df-convert:hover {\n",
              "      background-color: #434B5C;\n",
              "      box-shadow: 0px 1px 3px 1px rgba(0, 0, 0, 0.15);\n",
              "      filter: drop-shadow(0px 1px 2px rgba(0, 0, 0, 0.3));\n",
              "      fill: #FFFFFF;\n",
              "    }\n",
              "  </style>\n",
              "\n",
              "    <script>\n",
              "      const buttonEl =\n",
              "        document.querySelector('#df-361a59ea-510f-4c72-b76f-6f3e1078a9bd button.colab-df-convert');\n",
              "      buttonEl.style.display =\n",
              "        google.colab.kernel.accessAllowed ? 'block' : 'none';\n",
              "\n",
              "      async function convertToInteractive(key) {\n",
              "        const element = document.querySelector('#df-361a59ea-510f-4c72-b76f-6f3e1078a9bd');\n",
              "        const dataTable =\n",
              "          await google.colab.kernel.invokeFunction('convertToInteractive',\n",
              "                                                    [key], {});\n",
              "        if (!dataTable) return;\n",
              "\n",
              "        const docLinkHtml = 'Like what you see? Visit the ' +\n",
              "          '<a target=\"_blank\" href=https://colab.research.google.com/notebooks/data_table.ipynb>data table notebook</a>'\n",
              "          + ' to learn more about interactive tables.';\n",
              "        element.innerHTML = '';\n",
              "        dataTable['output_type'] = 'display_data';\n",
              "        await google.colab.output.renderOutput(dataTable, element);\n",
              "        const docLink = document.createElement('div');\n",
              "        docLink.innerHTML = docLinkHtml;\n",
              "        element.appendChild(docLink);\n",
              "      }\n",
              "    </script>\n",
              "  </div>\n",
              "\n",
              "\n",
              "<div id=\"df-47999824-e495-4d61-ae8d-bdaeed7d3c7c\">\n",
              "  <button class=\"colab-df-quickchart\" onclick=\"quickchart('df-47999824-e495-4d61-ae8d-bdaeed7d3c7c')\"\n",
              "            title=\"Suggest charts\"\n",
              "            style=\"display:none;\">\n",
              "\n",
              "<svg xmlns=\"http://www.w3.org/2000/svg\" height=\"24px\"viewBox=\"0 0 24 24\"\n",
              "     width=\"24px\">\n",
              "    <g>\n",
              "        <path d=\"M19 3H5c-1.1 0-2 .9-2 2v14c0 1.1.9 2 2 2h14c1.1 0 2-.9 2-2V5c0-1.1-.9-2-2-2zM9 17H7v-7h2v7zm4 0h-2V7h2v10zm4 0h-2v-4h2v4z\"/>\n",
              "    </g>\n",
              "</svg>\n",
              "  </button>\n",
              "\n",
              "<style>\n",
              "  .colab-df-quickchart {\n",
              "      --bg-color: #E8F0FE;\n",
              "      --fill-color: #1967D2;\n",
              "      --hover-bg-color: #E2EBFA;\n",
              "      --hover-fill-color: #174EA6;\n",
              "      --disabled-fill-color: #AAA;\n",
              "      --disabled-bg-color: #DDD;\n",
              "  }\n",
              "\n",
              "  [theme=dark] .colab-df-quickchart {\n",
              "      --bg-color: #3B4455;\n",
              "      --fill-color: #D2E3FC;\n",
              "      --hover-bg-color: #434B5C;\n",
              "      --hover-fill-color: #FFFFFF;\n",
              "      --disabled-bg-color: #3B4455;\n",
              "      --disabled-fill-color: #666;\n",
              "  }\n",
              "\n",
              "  .colab-df-quickchart {\n",
              "    background-color: var(--bg-color);\n",
              "    border: none;\n",
              "    border-radius: 50%;\n",
              "    cursor: pointer;\n",
              "    display: none;\n",
              "    fill: var(--fill-color);\n",
              "    height: 32px;\n",
              "    padding: 0;\n",
              "    width: 32px;\n",
              "  }\n",
              "\n",
              "  .colab-df-quickchart:hover {\n",
              "    background-color: var(--hover-bg-color);\n",
              "    box-shadow: 0 1px 2px rgba(60, 64, 67, 0.3), 0 1px 3px 1px rgba(60, 64, 67, 0.15);\n",
              "    fill: var(--button-hover-fill-color);\n",
              "  }\n",
              "\n",
              "  .colab-df-quickchart-complete:disabled,\n",
              "  .colab-df-quickchart-complete:disabled:hover {\n",
              "    background-color: var(--disabled-bg-color);\n",
              "    fill: var(--disabled-fill-color);\n",
              "    box-shadow: none;\n",
              "  }\n",
              "\n",
              "  .colab-df-spinner {\n",
              "    border: 2px solid var(--fill-color);\n",
              "    border-color: transparent;\n",
              "    border-bottom-color: var(--fill-color);\n",
              "    animation:\n",
              "      spin 1s steps(1) infinite;\n",
              "  }\n",
              "\n",
              "  @keyframes spin {\n",
              "    0% {\n",
              "      border-color: transparent;\n",
              "      border-bottom-color: var(--fill-color);\n",
              "      border-left-color: var(--fill-color);\n",
              "    }\n",
              "    20% {\n",
              "      border-color: transparent;\n",
              "      border-left-color: var(--fill-color);\n",
              "      border-top-color: var(--fill-color);\n",
              "    }\n",
              "    30% {\n",
              "      border-color: transparent;\n",
              "      border-left-color: var(--fill-color);\n",
              "      border-top-color: var(--fill-color);\n",
              "      border-right-color: var(--fill-color);\n",
              "    }\n",
              "    40% {\n",
              "      border-color: transparent;\n",
              "      border-right-color: var(--fill-color);\n",
              "      border-top-color: var(--fill-color);\n",
              "    }\n",
              "    60% {\n",
              "      border-color: transparent;\n",
              "      border-right-color: var(--fill-color);\n",
              "    }\n",
              "    80% {\n",
              "      border-color: transparent;\n",
              "      border-right-color: var(--fill-color);\n",
              "      border-bottom-color: var(--fill-color);\n",
              "    }\n",
              "    90% {\n",
              "      border-color: transparent;\n",
              "      border-bottom-color: var(--fill-color);\n",
              "    }\n",
              "  }\n",
              "</style>\n",
              "\n",
              "  <script>\n",
              "    async function quickchart(key) {\n",
              "      const quickchartButtonEl =\n",
              "        document.querySelector('#' + key + ' button');\n",
              "      quickchartButtonEl.disabled = true;  // To prevent multiple clicks.\n",
              "      quickchartButtonEl.classList.add('colab-df-spinner');\n",
              "      try {\n",
              "        const charts = await google.colab.kernel.invokeFunction(\n",
              "            'suggestCharts', [key], {});\n",
              "      } catch (error) {\n",
              "        console.error('Error during call to suggestCharts:', error);\n",
              "      }\n",
              "      quickchartButtonEl.classList.remove('colab-df-spinner');\n",
              "      quickchartButtonEl.classList.add('colab-df-quickchart-complete');\n",
              "    }\n",
              "    (() => {\n",
              "      let quickchartButtonEl =\n",
              "        document.querySelector('#df-47999824-e495-4d61-ae8d-bdaeed7d3c7c button');\n",
              "      quickchartButtonEl.style.display =\n",
              "        google.colab.kernel.accessAllowed ? 'block' : 'none';\n",
              "    })();\n",
              "  </script>\n",
              "</div>\n",
              "\n",
              "    </div>\n",
              "  </div>\n"
            ],
            "application/vnd.google.colaboratory.intrinsic+json": {
              "type": "dataframe",
              "variable_name": "df"
            }
          },
          "metadata": {},
          "execution_count": 29
        }
      ]
    },
    {
      "cell_type": "markdown",
      "source": [
        "Utilizando la función Shape, se realizó un conteo del número de filas y columnas del dataframe."
      ],
      "metadata": {
        "id": "BjhJgJfPLnWE"
      }
    },
    {
      "cell_type": "code",
      "source": [
        "print(f\"Filas: {df.shape[0]}, Columnas: {df.shape[1]}\")"
      ],
      "metadata": {
        "colab": {
          "base_uri": "https://localhost:8080/"
        },
        "id": "RmxIL8ECLrOW",
        "outputId": "bc65a8ee-c517-4a45-cf7b-d5832d97510d"
      },
      "execution_count": 30,
      "outputs": [
        {
          "output_type": "stream",
          "name": "stdout",
          "text": [
            "Filas: 50315, Columnas: 25\n"
          ]
        }
      ]
    },
    {
      "cell_type": "markdown",
      "source": [
        "Después del conteo, se utilizó la función Info con la cual se obtuvó la información sobre las columnas, incluyendo el nombre y el tipo de dato de cada una."
      ],
      "metadata": {
        "id": "wyudn6xsM2Uy"
      }
    },
    {
      "cell_type": "code",
      "source": [
        "df.info()"
      ],
      "metadata": {
        "colab": {
          "base_uri": "https://localhost:8080/"
        },
        "id": "fnoKnxzUM43k",
        "outputId": "fc8369c7-44ed-44b1-aa74-4bdf3440931d"
      },
      "execution_count": 31,
      "outputs": [
        {
          "output_type": "stream",
          "name": "stdout",
          "text": [
            "<class 'pandas.core.frame.DataFrame'>\n",
            "RangeIndex: 50315 entries, 0 to 50314\n",
            "Data columns (total 25 columns):\n",
            " #   Column               Non-Null Count  Dtype  \n",
            "---  ------               --------------  -----  \n",
            " 0   Development Name     50255 non-null  object \n",
            " 1   Borough              50315 non-null  object \n",
            " 2   Account Name         50315 non-null  object \n",
            " 3   Location             49487 non-null  object \n",
            " 4   Meter AMR            49805 non-null  object \n",
            " 5   Meter Scope          12782 non-null  object \n",
            " 6   TDS #                50255 non-null  float64\n",
            " 7   EDP                  50315 non-null  int64  \n",
            " 8   RC Code              50315 non-null  object \n",
            " 9   Funding Source       50239 non-null  object \n",
            " 10  AMP #                50193 non-null  object \n",
            " 11  Vendor Name          50315 non-null  object \n",
            " 12  UMIS BILL ID         50315 non-null  int64  \n",
            " 13  Revenue Month        50315 non-null  object \n",
            " 14  Service Start Date   50308 non-null  object \n",
            " 15  Service End Date     50308 non-null  object \n",
            " 16  # days               50308 non-null  float64\n",
            " 17  Meter Number         50315 non-null  object \n",
            " 18  Estimated            50315 non-null  object \n",
            " 19  Current Charges      50315 non-null  float64\n",
            " 20  Rate Class           50279 non-null  object \n",
            " 21  Bill Analyzed        50315 non-null  object \n",
            " 22  Consumption (HCF)    50315 non-null  int64  \n",
            " 23  Water&Sewer Charges  50315 non-null  float64\n",
            " 24  Other Charges        50315 non-null  float64\n",
            "dtypes: float64(5), int64(3), object(17)\n",
            "memory usage: 9.6+ MB\n"
          ]
        }
      ]
    },
    {
      "cell_type": "markdown",
      "source": [
        "Con la función Describe se proporcionó un resumen estadístico de cada columna."
      ],
      "metadata": {
        "id": "dXIKaXQXNl1N"
      }
    },
    {
      "cell_type": "code",
      "source": [
        "df.describe(include='all')"
      ],
      "metadata": {
        "colab": {
          "base_uri": "https://localhost:8080/",
          "height": 513
        },
        "id": "5IfE2XSnOGVZ",
        "outputId": "10c8d238-85d7-45fa-ce20-d293d5d41822"
      },
      "execution_count": 32,
      "outputs": [
        {
          "output_type": "execute_result",
          "data": {
            "text/plain": [
              "                        Development Name Borough  \\\n",
              "count                              50255   50315   \n",
              "unique                               110       7   \n",
              "top     FHA REPOSSESSED HOUSES (GROUP V)     FHA   \n",
              "freq                                4765   23460   \n",
              "mean                                 NaN     NaN   \n",
              "std                                  NaN     NaN   \n",
              "min                                  NaN     NaN   \n",
              "25%                                  NaN     NaN   \n",
              "50%                                  NaN     NaN   \n",
              "75%                                  NaN     NaN   \n",
              "max                                  NaN     NaN   \n",
              "\n",
              "                            Account Name Location Meter AMR       Meter Scope  \\\n",
              "count                              50315    49487     49805             12782   \n",
              "unique                               117      305         3                59   \n",
              "top     FHA REPOSSESSED HOUSES (GROUP V)   BLD 01       AMR  Community Center   \n",
              "freq                                4759     4459     43782              1228   \n",
              "mean                                 NaN      NaN       NaN               NaN   \n",
              "std                                  NaN      NaN       NaN               NaN   \n",
              "min                                  NaN      NaN       NaN               NaN   \n",
              "25%                                  NaN      NaN       NaN               NaN   \n",
              "50%                                  NaN      NaN       NaN               NaN   \n",
              "75%                                  NaN      NaN       NaN               NaN   \n",
              "max                                  NaN      NaN       NaN               NaN   \n",
              "\n",
              "               TDS #           EDP  RC Code Funding Source  ...  \\\n",
              "count   50255.000000  50315.000000    50315          50239  ...   \n",
              "unique           NaN           NaN      114              6  ...   \n",
              "top              NaN           NaN  Q026000        FEDERAL  ...   \n",
              "freq             NaN           NaN     4765          45346  ...   \n",
              "mean      258.871794    463.205764      NaN            NaN  ...   \n",
              "std       101.467018    185.109210      NaN            NaN  ...   \n",
              "min         1.000000    200.000000      NaN            NaN  ...   \n",
              "25%       209.000000    325.000000      NaN            NaN  ...   \n",
              "50%       273.000000    396.000000      NaN            NaN  ...   \n",
              "75%       338.000000    637.000000      NaN            NaN  ...   \n",
              "max       559.000000    999.000000      NaN            NaN  ...   \n",
              "\n",
              "       Service End Date        # days  Meter Number Estimated Current Charges  \\\n",
              "count             50308  50308.000000         50315     50315    50315.000000   \n",
              "unique             1114           NaN           795         2             NaN   \n",
              "top          03/24/2019           NaN    UN-METERED         N             NaN   \n",
              "freq                594           NaN           179     41499             NaN   \n",
              "mean                NaN     33.182953           NaN       NaN     2150.221066   \n",
              "std                 NaN     53.181840           NaN       NaN     5623.852543   \n",
              "min                 NaN   -335.000000           NaN       NaN    -1748.510000   \n",
              "25%                 NaN     29.000000           NaN       NaN       46.460000   \n",
              "50%                 NaN     30.000000           NaN       NaN      197.360000   \n",
              "75%                 NaN     32.000000           NaN       NaN     2598.415000   \n",
              "max                 NaN   6968.000000           NaN       NaN   392036.460000   \n",
              "\n",
              "                   Rate Class  Bill Analyzed Consumption (HCF)  \\\n",
              "count                   50279          50315      50315.000000   \n",
              "unique                      5              2               NaN   \n",
              "top     Basic Water and Sewer            Yes               NaN   \n",
              "freq                    50175          49235               NaN   \n",
              "mean                      NaN            NaN        224.291066   \n",
              "std                       NaN            NaN       2020.962056   \n",
              "min                       NaN            NaN          0.000000   \n",
              "25%                       NaN            NaN          5.000000   \n",
              "50%                       NaN            NaN         26.000000   \n",
              "75%                       NaN            NaN        236.000000   \n",
              "max                       NaN            NaN     434200.000000   \n",
              "\n",
              "       Water&Sewer Charges  Other Charges  \n",
              "count         50315.000000   50315.000000  \n",
              "unique                 NaN            NaN  \n",
              "top                    NaN            NaN  \n",
              "freq                   NaN            NaN  \n",
              "mean           2140.327436       9.893631  \n",
              "std            5619.812518     607.714232  \n",
              "min               0.000000  -67726.830000  \n",
              "25%              46.360000       0.000000  \n",
              "50%             196.350000       0.000000  \n",
              "75%            2575.520000       0.000000  \n",
              "max          392036.460000   77796.690000  \n",
              "\n",
              "[11 rows x 25 columns]"
            ],
            "text/html": [
              "\n",
              "  <div id=\"df-eb5fd48c-a6e0-4edb-9b97-ca7118f113da\" class=\"colab-df-container\">\n",
              "    <div>\n",
              "<style scoped>\n",
              "    .dataframe tbody tr th:only-of-type {\n",
              "        vertical-align: middle;\n",
              "    }\n",
              "\n",
              "    .dataframe tbody tr th {\n",
              "        vertical-align: top;\n",
              "    }\n",
              "\n",
              "    .dataframe thead th {\n",
              "        text-align: right;\n",
              "    }\n",
              "</style>\n",
              "<table border=\"1\" class=\"dataframe\">\n",
              "  <thead>\n",
              "    <tr style=\"text-align: right;\">\n",
              "      <th></th>\n",
              "      <th>Development Name</th>\n",
              "      <th>Borough</th>\n",
              "      <th>Account Name</th>\n",
              "      <th>Location</th>\n",
              "      <th>Meter AMR</th>\n",
              "      <th>Meter Scope</th>\n",
              "      <th>TDS #</th>\n",
              "      <th>EDP</th>\n",
              "      <th>RC Code</th>\n",
              "      <th>Funding Source</th>\n",
              "      <th>...</th>\n",
              "      <th>Service End Date</th>\n",
              "      <th># days</th>\n",
              "      <th>Meter Number</th>\n",
              "      <th>Estimated</th>\n",
              "      <th>Current Charges</th>\n",
              "      <th>Rate Class</th>\n",
              "      <th>Bill Analyzed</th>\n",
              "      <th>Consumption (HCF)</th>\n",
              "      <th>Water&amp;Sewer Charges</th>\n",
              "      <th>Other Charges</th>\n",
              "    </tr>\n",
              "  </thead>\n",
              "  <tbody>\n",
              "    <tr>\n",
              "      <th>count</th>\n",
              "      <td>50255</td>\n",
              "      <td>50315</td>\n",
              "      <td>50315</td>\n",
              "      <td>49487</td>\n",
              "      <td>49805</td>\n",
              "      <td>12782</td>\n",
              "      <td>50255.000000</td>\n",
              "      <td>50315.000000</td>\n",
              "      <td>50315</td>\n",
              "      <td>50239</td>\n",
              "      <td>...</td>\n",
              "      <td>50308</td>\n",
              "      <td>50308.000000</td>\n",
              "      <td>50315</td>\n",
              "      <td>50315</td>\n",
              "      <td>50315.000000</td>\n",
              "      <td>50279</td>\n",
              "      <td>50315</td>\n",
              "      <td>50315.000000</td>\n",
              "      <td>50315.000000</td>\n",
              "      <td>50315.000000</td>\n",
              "    </tr>\n",
              "    <tr>\n",
              "      <th>unique</th>\n",
              "      <td>110</td>\n",
              "      <td>7</td>\n",
              "      <td>117</td>\n",
              "      <td>305</td>\n",
              "      <td>3</td>\n",
              "      <td>59</td>\n",
              "      <td>NaN</td>\n",
              "      <td>NaN</td>\n",
              "      <td>114</td>\n",
              "      <td>6</td>\n",
              "      <td>...</td>\n",
              "      <td>1114</td>\n",
              "      <td>NaN</td>\n",
              "      <td>795</td>\n",
              "      <td>2</td>\n",
              "      <td>NaN</td>\n",
              "      <td>5</td>\n",
              "      <td>2</td>\n",
              "      <td>NaN</td>\n",
              "      <td>NaN</td>\n",
              "      <td>NaN</td>\n",
              "    </tr>\n",
              "    <tr>\n",
              "      <th>top</th>\n",
              "      <td>FHA REPOSSESSED HOUSES (GROUP V)</td>\n",
              "      <td>FHA</td>\n",
              "      <td>FHA REPOSSESSED HOUSES (GROUP V)</td>\n",
              "      <td>BLD 01</td>\n",
              "      <td>AMR</td>\n",
              "      <td>Community Center</td>\n",
              "      <td>NaN</td>\n",
              "      <td>NaN</td>\n",
              "      <td>Q026000</td>\n",
              "      <td>FEDERAL</td>\n",
              "      <td>...</td>\n",
              "      <td>03/24/2019</td>\n",
              "      <td>NaN</td>\n",
              "      <td>UN-METERED</td>\n",
              "      <td>N</td>\n",
              "      <td>NaN</td>\n",
              "      <td>Basic Water and Sewer</td>\n",
              "      <td>Yes</td>\n",
              "      <td>NaN</td>\n",
              "      <td>NaN</td>\n",
              "      <td>NaN</td>\n",
              "    </tr>\n",
              "    <tr>\n",
              "      <th>freq</th>\n",
              "      <td>4765</td>\n",
              "      <td>23460</td>\n",
              "      <td>4759</td>\n",
              "      <td>4459</td>\n",
              "      <td>43782</td>\n",
              "      <td>1228</td>\n",
              "      <td>NaN</td>\n",
              "      <td>NaN</td>\n",
              "      <td>4765</td>\n",
              "      <td>45346</td>\n",
              "      <td>...</td>\n",
              "      <td>594</td>\n",
              "      <td>NaN</td>\n",
              "      <td>179</td>\n",
              "      <td>41499</td>\n",
              "      <td>NaN</td>\n",
              "      <td>50175</td>\n",
              "      <td>49235</td>\n",
              "      <td>NaN</td>\n",
              "      <td>NaN</td>\n",
              "      <td>NaN</td>\n",
              "    </tr>\n",
              "    <tr>\n",
              "      <th>mean</th>\n",
              "      <td>NaN</td>\n",
              "      <td>NaN</td>\n",
              "      <td>NaN</td>\n",
              "      <td>NaN</td>\n",
              "      <td>NaN</td>\n",
              "      <td>NaN</td>\n",
              "      <td>258.871794</td>\n",
              "      <td>463.205764</td>\n",
              "      <td>NaN</td>\n",
              "      <td>NaN</td>\n",
              "      <td>...</td>\n",
              "      <td>NaN</td>\n",
              "      <td>33.182953</td>\n",
              "      <td>NaN</td>\n",
              "      <td>NaN</td>\n",
              "      <td>2150.221066</td>\n",
              "      <td>NaN</td>\n",
              "      <td>NaN</td>\n",
              "      <td>224.291066</td>\n",
              "      <td>2140.327436</td>\n",
              "      <td>9.893631</td>\n",
              "    </tr>\n",
              "    <tr>\n",
              "      <th>std</th>\n",
              "      <td>NaN</td>\n",
              "      <td>NaN</td>\n",
              "      <td>NaN</td>\n",
              "      <td>NaN</td>\n",
              "      <td>NaN</td>\n",
              "      <td>NaN</td>\n",
              "      <td>101.467018</td>\n",
              "      <td>185.109210</td>\n",
              "      <td>NaN</td>\n",
              "      <td>NaN</td>\n",
              "      <td>...</td>\n",
              "      <td>NaN</td>\n",
              "      <td>53.181840</td>\n",
              "      <td>NaN</td>\n",
              "      <td>NaN</td>\n",
              "      <td>5623.852543</td>\n",
              "      <td>NaN</td>\n",
              "      <td>NaN</td>\n",
              "      <td>2020.962056</td>\n",
              "      <td>5619.812518</td>\n",
              "      <td>607.714232</td>\n",
              "    </tr>\n",
              "    <tr>\n",
              "      <th>min</th>\n",
              "      <td>NaN</td>\n",
              "      <td>NaN</td>\n",
              "      <td>NaN</td>\n",
              "      <td>NaN</td>\n",
              "      <td>NaN</td>\n",
              "      <td>NaN</td>\n",
              "      <td>1.000000</td>\n",
              "      <td>200.000000</td>\n",
              "      <td>NaN</td>\n",
              "      <td>NaN</td>\n",
              "      <td>...</td>\n",
              "      <td>NaN</td>\n",
              "      <td>-335.000000</td>\n",
              "      <td>NaN</td>\n",
              "      <td>NaN</td>\n",
              "      <td>-1748.510000</td>\n",
              "      <td>NaN</td>\n",
              "      <td>NaN</td>\n",
              "      <td>0.000000</td>\n",
              "      <td>0.000000</td>\n",
              "      <td>-67726.830000</td>\n",
              "    </tr>\n",
              "    <tr>\n",
              "      <th>25%</th>\n",
              "      <td>NaN</td>\n",
              "      <td>NaN</td>\n",
              "      <td>NaN</td>\n",
              "      <td>NaN</td>\n",
              "      <td>NaN</td>\n",
              "      <td>NaN</td>\n",
              "      <td>209.000000</td>\n",
              "      <td>325.000000</td>\n",
              "      <td>NaN</td>\n",
              "      <td>NaN</td>\n",
              "      <td>...</td>\n",
              "      <td>NaN</td>\n",
              "      <td>29.000000</td>\n",
              "      <td>NaN</td>\n",
              "      <td>NaN</td>\n",
              "      <td>46.460000</td>\n",
              "      <td>NaN</td>\n",
              "      <td>NaN</td>\n",
              "      <td>5.000000</td>\n",
              "      <td>46.360000</td>\n",
              "      <td>0.000000</td>\n",
              "    </tr>\n",
              "    <tr>\n",
              "      <th>50%</th>\n",
              "      <td>NaN</td>\n",
              "      <td>NaN</td>\n",
              "      <td>NaN</td>\n",
              "      <td>NaN</td>\n",
              "      <td>NaN</td>\n",
              "      <td>NaN</td>\n",
              "      <td>273.000000</td>\n",
              "      <td>396.000000</td>\n",
              "      <td>NaN</td>\n",
              "      <td>NaN</td>\n",
              "      <td>...</td>\n",
              "      <td>NaN</td>\n",
              "      <td>30.000000</td>\n",
              "      <td>NaN</td>\n",
              "      <td>NaN</td>\n",
              "      <td>197.360000</td>\n",
              "      <td>NaN</td>\n",
              "      <td>NaN</td>\n",
              "      <td>26.000000</td>\n",
              "      <td>196.350000</td>\n",
              "      <td>0.000000</td>\n",
              "    </tr>\n",
              "    <tr>\n",
              "      <th>75%</th>\n",
              "      <td>NaN</td>\n",
              "      <td>NaN</td>\n",
              "      <td>NaN</td>\n",
              "      <td>NaN</td>\n",
              "      <td>NaN</td>\n",
              "      <td>NaN</td>\n",
              "      <td>338.000000</td>\n",
              "      <td>637.000000</td>\n",
              "      <td>NaN</td>\n",
              "      <td>NaN</td>\n",
              "      <td>...</td>\n",
              "      <td>NaN</td>\n",
              "      <td>32.000000</td>\n",
              "      <td>NaN</td>\n",
              "      <td>NaN</td>\n",
              "      <td>2598.415000</td>\n",
              "      <td>NaN</td>\n",
              "      <td>NaN</td>\n",
              "      <td>236.000000</td>\n",
              "      <td>2575.520000</td>\n",
              "      <td>0.000000</td>\n",
              "    </tr>\n",
              "    <tr>\n",
              "      <th>max</th>\n",
              "      <td>NaN</td>\n",
              "      <td>NaN</td>\n",
              "      <td>NaN</td>\n",
              "      <td>NaN</td>\n",
              "      <td>NaN</td>\n",
              "      <td>NaN</td>\n",
              "      <td>559.000000</td>\n",
              "      <td>999.000000</td>\n",
              "      <td>NaN</td>\n",
              "      <td>NaN</td>\n",
              "      <td>...</td>\n",
              "      <td>NaN</td>\n",
              "      <td>6968.000000</td>\n",
              "      <td>NaN</td>\n",
              "      <td>NaN</td>\n",
              "      <td>392036.460000</td>\n",
              "      <td>NaN</td>\n",
              "      <td>NaN</td>\n",
              "      <td>434200.000000</td>\n",
              "      <td>392036.460000</td>\n",
              "      <td>77796.690000</td>\n",
              "    </tr>\n",
              "  </tbody>\n",
              "</table>\n",
              "<p>11 rows × 25 columns</p>\n",
              "</div>\n",
              "    <div class=\"colab-df-buttons\">\n",
              "\n",
              "  <div class=\"colab-df-container\">\n",
              "    <button class=\"colab-df-convert\" onclick=\"convertToInteractive('df-eb5fd48c-a6e0-4edb-9b97-ca7118f113da')\"\n",
              "            title=\"Convert this dataframe to an interactive table.\"\n",
              "            style=\"display:none;\">\n",
              "\n",
              "  <svg xmlns=\"http://www.w3.org/2000/svg\" height=\"24px\" viewBox=\"0 -960 960 960\">\n",
              "    <path d=\"M120-120v-720h720v720H120Zm60-500h600v-160H180v160Zm220 220h160v-160H400v160Zm0 220h160v-160H400v160ZM180-400h160v-160H180v160Zm440 0h160v-160H620v160ZM180-180h160v-160H180v160Zm440 0h160v-160H620v160Z\"/>\n",
              "  </svg>\n",
              "    </button>\n",
              "\n",
              "  <style>\n",
              "    .colab-df-container {\n",
              "      display:flex;\n",
              "      gap: 12px;\n",
              "    }\n",
              "\n",
              "    .colab-df-convert {\n",
              "      background-color: #E8F0FE;\n",
              "      border: none;\n",
              "      border-radius: 50%;\n",
              "      cursor: pointer;\n",
              "      display: none;\n",
              "      fill: #1967D2;\n",
              "      height: 32px;\n",
              "      padding: 0 0 0 0;\n",
              "      width: 32px;\n",
              "    }\n",
              "\n",
              "    .colab-df-convert:hover {\n",
              "      background-color: #E2EBFA;\n",
              "      box-shadow: 0px 1px 2px rgba(60, 64, 67, 0.3), 0px 1px 3px 1px rgba(60, 64, 67, 0.15);\n",
              "      fill: #174EA6;\n",
              "    }\n",
              "\n",
              "    .colab-df-buttons div {\n",
              "      margin-bottom: 4px;\n",
              "    }\n",
              "\n",
              "    [theme=dark] .colab-df-convert {\n",
              "      background-color: #3B4455;\n",
              "      fill: #D2E3FC;\n",
              "    }\n",
              "\n",
              "    [theme=dark] .colab-df-convert:hover {\n",
              "      background-color: #434B5C;\n",
              "      box-shadow: 0px 1px 3px 1px rgba(0, 0, 0, 0.15);\n",
              "      filter: drop-shadow(0px 1px 2px rgba(0, 0, 0, 0.3));\n",
              "      fill: #FFFFFF;\n",
              "    }\n",
              "  </style>\n",
              "\n",
              "    <script>\n",
              "      const buttonEl =\n",
              "        document.querySelector('#df-eb5fd48c-a6e0-4edb-9b97-ca7118f113da button.colab-df-convert');\n",
              "      buttonEl.style.display =\n",
              "        google.colab.kernel.accessAllowed ? 'block' : 'none';\n",
              "\n",
              "      async function convertToInteractive(key) {\n",
              "        const element = document.querySelector('#df-eb5fd48c-a6e0-4edb-9b97-ca7118f113da');\n",
              "        const dataTable =\n",
              "          await google.colab.kernel.invokeFunction('convertToInteractive',\n",
              "                                                    [key], {});\n",
              "        if (!dataTable) return;\n",
              "\n",
              "        const docLinkHtml = 'Like what you see? Visit the ' +\n",
              "          '<a target=\"_blank\" href=https://colab.research.google.com/notebooks/data_table.ipynb>data table notebook</a>'\n",
              "          + ' to learn more about interactive tables.';\n",
              "        element.innerHTML = '';\n",
              "        dataTable['output_type'] = 'display_data';\n",
              "        await google.colab.output.renderOutput(dataTable, element);\n",
              "        const docLink = document.createElement('div');\n",
              "        docLink.innerHTML = docLinkHtml;\n",
              "        element.appendChild(docLink);\n",
              "      }\n",
              "    </script>\n",
              "  </div>\n",
              "\n",
              "\n",
              "<div id=\"df-04f905c7-5a3d-46fb-b710-22b96000d3f6\">\n",
              "  <button class=\"colab-df-quickchart\" onclick=\"quickchart('df-04f905c7-5a3d-46fb-b710-22b96000d3f6')\"\n",
              "            title=\"Suggest charts\"\n",
              "            style=\"display:none;\">\n",
              "\n",
              "<svg xmlns=\"http://www.w3.org/2000/svg\" height=\"24px\"viewBox=\"0 0 24 24\"\n",
              "     width=\"24px\">\n",
              "    <g>\n",
              "        <path d=\"M19 3H5c-1.1 0-2 .9-2 2v14c0 1.1.9 2 2 2h14c1.1 0 2-.9 2-2V5c0-1.1-.9-2-2-2zM9 17H7v-7h2v7zm4 0h-2V7h2v10zm4 0h-2v-4h2v4z\"/>\n",
              "    </g>\n",
              "</svg>\n",
              "  </button>\n",
              "\n",
              "<style>\n",
              "  .colab-df-quickchart {\n",
              "      --bg-color: #E8F0FE;\n",
              "      --fill-color: #1967D2;\n",
              "      --hover-bg-color: #E2EBFA;\n",
              "      --hover-fill-color: #174EA6;\n",
              "      --disabled-fill-color: #AAA;\n",
              "      --disabled-bg-color: #DDD;\n",
              "  }\n",
              "\n",
              "  [theme=dark] .colab-df-quickchart {\n",
              "      --bg-color: #3B4455;\n",
              "      --fill-color: #D2E3FC;\n",
              "      --hover-bg-color: #434B5C;\n",
              "      --hover-fill-color: #FFFFFF;\n",
              "      --disabled-bg-color: #3B4455;\n",
              "      --disabled-fill-color: #666;\n",
              "  }\n",
              "\n",
              "  .colab-df-quickchart {\n",
              "    background-color: var(--bg-color);\n",
              "    border: none;\n",
              "    border-radius: 50%;\n",
              "    cursor: pointer;\n",
              "    display: none;\n",
              "    fill: var(--fill-color);\n",
              "    height: 32px;\n",
              "    padding: 0;\n",
              "    width: 32px;\n",
              "  }\n",
              "\n",
              "  .colab-df-quickchart:hover {\n",
              "    background-color: var(--hover-bg-color);\n",
              "    box-shadow: 0 1px 2px rgba(60, 64, 67, 0.3), 0 1px 3px 1px rgba(60, 64, 67, 0.15);\n",
              "    fill: var(--button-hover-fill-color);\n",
              "  }\n",
              "\n",
              "  .colab-df-quickchart-complete:disabled,\n",
              "  .colab-df-quickchart-complete:disabled:hover {\n",
              "    background-color: var(--disabled-bg-color);\n",
              "    fill: var(--disabled-fill-color);\n",
              "    box-shadow: none;\n",
              "  }\n",
              "\n",
              "  .colab-df-spinner {\n",
              "    border: 2px solid var(--fill-color);\n",
              "    border-color: transparent;\n",
              "    border-bottom-color: var(--fill-color);\n",
              "    animation:\n",
              "      spin 1s steps(1) infinite;\n",
              "  }\n",
              "\n",
              "  @keyframes spin {\n",
              "    0% {\n",
              "      border-color: transparent;\n",
              "      border-bottom-color: var(--fill-color);\n",
              "      border-left-color: var(--fill-color);\n",
              "    }\n",
              "    20% {\n",
              "      border-color: transparent;\n",
              "      border-left-color: var(--fill-color);\n",
              "      border-top-color: var(--fill-color);\n",
              "    }\n",
              "    30% {\n",
              "      border-color: transparent;\n",
              "      border-left-color: var(--fill-color);\n",
              "      border-top-color: var(--fill-color);\n",
              "      border-right-color: var(--fill-color);\n",
              "    }\n",
              "    40% {\n",
              "      border-color: transparent;\n",
              "      border-right-color: var(--fill-color);\n",
              "      border-top-color: var(--fill-color);\n",
              "    }\n",
              "    60% {\n",
              "      border-color: transparent;\n",
              "      border-right-color: var(--fill-color);\n",
              "    }\n",
              "    80% {\n",
              "      border-color: transparent;\n",
              "      border-right-color: var(--fill-color);\n",
              "      border-bottom-color: var(--fill-color);\n",
              "    }\n",
              "    90% {\n",
              "      border-color: transparent;\n",
              "      border-bottom-color: var(--fill-color);\n",
              "    }\n",
              "  }\n",
              "</style>\n",
              "\n",
              "  <script>\n",
              "    async function quickchart(key) {\n",
              "      const quickchartButtonEl =\n",
              "        document.querySelector('#' + key + ' button');\n",
              "      quickchartButtonEl.disabled = true;  // To prevent multiple clicks.\n",
              "      quickchartButtonEl.classList.add('colab-df-spinner');\n",
              "      try {\n",
              "        const charts = await google.colab.kernel.invokeFunction(\n",
              "            'suggestCharts', [key], {});\n",
              "      } catch (error) {\n",
              "        console.error('Error during call to suggestCharts:', error);\n",
              "      }\n",
              "      quickchartButtonEl.classList.remove('colab-df-spinner');\n",
              "      quickchartButtonEl.classList.add('colab-df-quickchart-complete');\n",
              "    }\n",
              "    (() => {\n",
              "      let quickchartButtonEl =\n",
              "        document.querySelector('#df-04f905c7-5a3d-46fb-b710-22b96000d3f6 button');\n",
              "      quickchartButtonEl.style.display =\n",
              "        google.colab.kernel.accessAllowed ? 'block' : 'none';\n",
              "    })();\n",
              "  </script>\n",
              "</div>\n",
              "\n",
              "    </div>\n",
              "  </div>\n"
            ],
            "application/vnd.google.colaboratory.intrinsic+json": {
              "type": "dataframe"
            }
          },
          "metadata": {},
          "execution_count": 32
        }
      ]
    },
    {
      "cell_type": "markdown",
      "source": [
        "# **4. Limpieza y Transformación del Conjunto de Datos**\n"
      ],
      "metadata": {
        "id": "X9IGmbabpuTz"
      }
    },
    {
      "cell_type": "markdown",
      "source": [
        "Antes de proceder con la limpieza y transformación de los datos, se llevó a cabo un análisis detallado de las columnas del dataframe, basado en las estadísticas previamente calculadas. Este análisis tuvo como objetivo identificar variables irrelevantes y caracterizar la distribución de los datos para optimizar su tratamiento en las siguientes etapas del proceso.\n",
        "\n",
        "Con base en este análisis, se determinó que las columnas Meter AMR, Meter Scope, EDP, Funding Source, AMP #, Vendor Name, Estimated y Bill Analyzed serían eliminadas, ya que no aportaban un valor significativo al análisis del dataframe y presentaban una baja variabilidad en la distribución de los datos.\n",
        "\n",
        "A continuación, se presentan las gráficas que ilustran la distribución de los datos de las columnas eliminadas."
      ],
      "metadata": {
        "id": "uif8jT-zMgIA"
      }
    },
    {
      "cell_type": "code",
      "source": [
        "fig, axes = plt.subplots(nrows=4, ncols=2, figsize=(15, 20))\n",
        "axes = axes.ravel()\n",
        "\n",
        "\n",
        "columns_to_plot = ['Meter AMR', 'Meter Scope', 'EDP', 'Funding Source', 'AMP #', 'Vendor Name', 'Estimated', 'Bill Analyzed']\n",
        "\n",
        "for i, col in enumerate(columns_to_plot):\n",
        "    try:\n",
        "        if col in df.columns:\n",
        "          if df[col].dtype == 'object':\n",
        "              df[col].value_counts().plot(kind='bar', ax=axes[i])\n",
        "          else:\n",
        "              df[col].hist(ax=axes[i])\n",
        "          axes[i].set_title(f'Distribución de {col}')\n",
        "          axes[i].set_xlabel(col)\n",
        "          axes[i].set_ylabel('Frecuencia/Conteo')\n",
        "        else:\n",
        "          axes[i].set_title(f\"Column '{col}' no encontrada en Dataframe\")\n",
        "\n",
        "    except Exception as e:\n",
        "        axes[i].set_title(f\"Error al trazar {col}: {e}\")\n",
        "\n",
        "plt.tight_layout()\n",
        "plt.show()\n"
      ],
      "metadata": {
        "colab": {
          "base_uri": "https://localhost:8080/",
          "height": 1000
        },
        "id": "4k_f-lybXS39",
        "outputId": "4720676b-08eb-47fd-c282-17fd0884a2f7"
      },
      "execution_count": 40,
      "outputs": [
        {
          "output_type": "display_data",
          "data": {
            "text/plain": [
              "<Figure size 1500x2000 with 8 Axes>"
            ],
            "image/png": "[encoded data removed]"
          },
          "metadata": {}
        }
      ]
    },
    {
      "cell_type": "markdown",
      "source": [
        "A continuación se muestra el código para eliminación de las columnas."
      ],
      "metadata": {
        "id": "rHBoTJVxZXID"
      }
    },
    {
      "cell_type": "code",
      "source": [
        "df = df.drop(columns=['Meter AMR', 'Meter Scope', 'EDP', 'Funding Source', 'AMP #', 'Vendor Name', 'Estimated', 'Bill Analyzed'])"
      ],
      "metadata": {
        "id": "KY1svXqSZjk6"
      },
      "execution_count": 41,
      "outputs": []
    },
    {
      "cell_type": "markdown",
      "source": [
        "***Normalización de Nombres de Columnas***"
      ],
      "metadata": {
        "id": "nCSk9oyVSGuj"
      }
    },
    {
      "cell_type": "markdown",
      "source": [
        "Como primer paso en el proceso de normalización, se presentó una visión general de todas las columnas del DataFrame."
      ],
      "metadata": {
        "id": "mAZqL04-cA09"
      }
    },
    {
      "cell_type": "code",
      "source": [
        "df.columns"
      ],
      "metadata": {
        "colab": {
          "base_uri": "https://localhost:8080/"
        },
        "id": "eDejWEzAcV5D",
        "outputId": "0bfdf1bd-ed8f-49f1-934b-20b9aa10fb0e"
      },
      "execution_count": 42,
      "outputs": [
        {
          "output_type": "execute_result",
          "data": {
            "text/plain": [
              "Index(['Development Name', 'Borough', 'Account Name', 'Location', 'TDS #',\n",
              "       'RC Code', 'UMIS BILL ID', 'Revenue Month', 'Service Start Date',\n",
              "       'Service End Date', '# days', 'Meter Number', 'Current Charges',\n",
              "       'Rate Class', 'Consumption (HCF)', 'Water&Sewer Charges',\n",
              "       'Other Charges'],\n",
              "      dtype='object')"
            ]
          },
          "metadata": {},
          "execution_count": 42
        }
      ]
    },
    {
      "cell_type": "markdown",
      "source": [
        "A continuación, se identificaron las columnas que contenían caracteres especiales o espacios en blanco mediante una expresión regular."
      ],
      "metadata": {
        "id": "JNwRlz0CVfly"
      }
    },
    {
      "cell_type": "code",
      "source": [
        "for col in df.columns:\n",
        "    if re.search(r'[^\\w\\s]', col) or re.search(r'\\s', col):\n",
        "      print(col)"
      ],
      "metadata": {
        "colab": {
          "base_uri": "https://localhost:8080/"
        },
        "id": "D79fhq_sZuvQ",
        "outputId": "988125ee-d66a-43a6-95eb-84aaf434f9a2"
      },
      "execution_count": 43,
      "outputs": [
        {
          "output_type": "stream",
          "name": "stdout",
          "text": [
            "Development Name\n",
            "Account Name\n",
            "TDS #\n",
            "RC Code\n",
            "UMIS BILL ID\n",
            "Revenue Month\n",
            "Service Start Date\n",
            "Service End Date\n",
            "# days\n",
            "Meter Number\n",
            "Current Charges\n",
            "Rate Class\n",
            "Consumption (HCF)\n",
            "Water&Sewer Charges\n",
            "Other Charges\n"
          ]
        }
      ]
    },
    {
      "cell_type": "markdown",
      "source": [
        "Tras identificar las columnas, se procedió a su normalización mediante una expresión regular, lo que realizar esta expresión es reemplazar todos los caracteres que no sean alfanuméricos por una cadena vacía. Además, se aplicó la función lower() para convertir todos los nombres de las columnas a minúsculas."
      ],
      "metadata": {
        "id": "YE1BO1vRbV9X"
      }
    },
    {
      "cell_type": "code",
      "source": [
        "df.columns = df.columns.str.lower().str.replace(r\"\\W+\", \"\", regex=True)"
      ],
      "metadata": {
        "id": "amflNQuKfPV9"
      },
      "execution_count": 44,
      "outputs": []
    },
    {
      "cell_type": "markdown",
      "source": [
        "Una vez completada la normalización, se verificaron los nombres de todas las columnas."
      ],
      "metadata": {
        "id": "Hx-ZYGg_fT9U"
      }
    },
    {
      "cell_type": "code",
      "source": [
        "df.columns"
      ],
      "metadata": {
        "colab": {
          "base_uri": "https://localhost:8080/"
        },
        "id": "GYX0_48zfuMU",
        "outputId": "51fe2d5b-21b7-4143-d0e5-c3b992724f8f"
      },
      "execution_count": 45,
      "outputs": [
        {
          "output_type": "execute_result",
          "data": {
            "text/plain": [
              "Index(['developmentname', 'borough', 'accountname', 'location', 'tds',\n",
              "       'rccode', 'umisbillid', 'revenuemonth', 'servicestartdate',\n",
              "       'serviceenddate', 'days', 'meternumber', 'currentcharges', 'rateclass',\n",
              "       'consumptionhcf', 'watersewercharges', 'othercharges'],\n",
              "      dtype='object')"
            ]
          },
          "metadata": {},
          "execution_count": 45
        }
      ]
    },
    {
      "cell_type": "markdown",
      "source": [
        "***Limpieza, Transformación y Normalización de Datos Temporales***"
      ],
      "metadata": {
        "id": "yqs6bq6eBs93"
      }
    },
    {
      "cell_type": "markdown",
      "source": [
        "En esta sección, se trabajó con los datos temporales. Primero, la columna revenuemonth se convirtió al tipo Datetime, respetando el mismo formato presente en el archivo CSV."
      ],
      "metadata": {
        "id": "TDozpl8iB58r"
      }
    },
    {
      "cell_type": "code",
      "source": [
        "df['revenuemonth'] = pd.to_datetime(df['revenuemonth'], format='%Y-%m')"
      ],
      "metadata": {
        "id": "wXHl7zXGCA3m"
      },
      "execution_count": 46,
      "outputs": []
    },
    {
      "cell_type": "markdown",
      "source": [
        "A continuación, las columnas servicestartdate y serviceenddate se convirtieron al tipo Datetime, respetando el formato del archivo CSV.\n",
        "\n",
        "Además, se implementó una estrategia para manejar los valores nulos, la cual consistió en reemplazarlos por NaT, ya que no se observa una secuencia en los valores de dichas columnas."
      ],
      "metadata": {
        "id": "msElaGwsCM0a"
      }
    },
    {
      "cell_type": "code",
      "source": [
        "df['servicestartdate'] = pd.to_datetime(df['servicestartdate'], format='%m/%d/%Y', errors=\"coerce\")\n",
        "df['serviceenddate'] = pd.to_datetime(df['serviceenddate'], format='%m/%d/%Y', errors=\"coerce\")"
      ],
      "metadata": {
        "id": "gqb3WDfhCSmj"
      },
      "execution_count": 47,
      "outputs": []
    },
    {
      "cell_type": "markdown",
      "source": [
        "Por último, se verificó el nuevo tipo de datos en las columnas."
      ],
      "metadata": {
        "id": "yZJl7tziCk65"
      }
    },
    {
      "cell_type": "code",
      "source": [
        "df[['revenuemonth', 'servicestartdate', 'serviceenddate']].dtypes"
      ],
      "metadata": {
        "colab": {
          "base_uri": "https://localhost:8080/",
          "height": 178
        },
        "id": "pRnmv32NCljP",
        "outputId": "1e02b605-30f9-4045-b392-6c7625e342f8"
      },
      "execution_count": 48,
      "outputs": [
        {
          "output_type": "execute_result",
          "data": {
            "text/plain": [
              "revenuemonth        datetime64[ns]\n",
              "servicestartdate    datetime64[ns]\n",
              "serviceenddate      datetime64[ns]\n",
              "dtype: object"
            ],
            "text/html": [
              "<div>\n",
              "<style scoped>\n",
              "    .dataframe tbody tr th:only-of-type {\n",
              "        vertical-align: middle;\n",
              "    }\n",
              "\n",
              "    .dataframe tbody tr th {\n",
              "        vertical-align: top;\n",
              "    }\n",
              "\n",
              "    .dataframe thead th {\n",
              "        text-align: right;\n",
              "    }\n",
              "</style>\n",
              "<table border=\"1\" class=\"dataframe\">\n",
              "  <thead>\n",
              "    <tr style=\"text-align: right;\">\n",
              "      <th></th>\n",
              "      <th>0</th>\n",
              "    </tr>\n",
              "  </thead>\n",
              "  <tbody>\n",
              "    <tr>\n",
              "      <th>revenuemonth</th>\n",
              "      <td>datetime64[ns]</td>\n",
              "    </tr>\n",
              "    <tr>\n",
              "      <th>servicestartdate</th>\n",
              "      <td>datetime64[ns]</td>\n",
              "    </tr>\n",
              "    <tr>\n",
              "      <th>serviceenddate</th>\n",
              "      <td>datetime64[ns]</td>\n",
              "    </tr>\n",
              "  </tbody>\n",
              "</table>\n",
              "</div><br><label><b>dtype:</b> object</label>"
            ]
          },
          "metadata": {},
          "execution_count": 48
        }
      ]
    },
    {
      "cell_type": "markdown",
      "source": [
        "***Corrección de Tipos de Datos y Manejo de Datos Perdidos***"
      ],
      "metadata": {
        "id": "8AEf1QvZuvI8"
      }
    },
    {
      "cell_type": "markdown",
      "source": [
        "Para el proceso de corrección de tipos de datos, primero se presentó una visión general del tipo de dato en cada columna."
      ],
      "metadata": {
        "id": "c5T4FPWMIUo2"
      }
    },
    {
      "cell_type": "code",
      "source": [
        "df.dtypes"
      ],
      "metadata": {
        "colab": {
          "base_uri": "https://localhost:8080/",
          "height": 617
        },
        "id": "UHN2TtCTIpzn",
        "outputId": "f691376a-bf4f-49d5-9f24-cc32a5e3f1e1"
      },
      "execution_count": 49,
      "outputs": [
        {
          "output_type": "execute_result",
          "data": {
            "text/plain": [
              "developmentname              object\n",
              "borough                      object\n",
              "accountname                  object\n",
              "location                     object\n",
              "tds                         float64\n",
              "rccode                       object\n",
              "umisbillid                    int64\n",
              "revenuemonth         datetime64[ns]\n",
              "servicestartdate     datetime64[ns]\n",
              "serviceenddate       datetime64[ns]\n",
              "days                        float64\n",
              "meternumber                  object\n",
              "currentcharges              float64\n",
              "rateclass                    object\n",
              "consumptionhcf                int64\n",
              "watersewercharges           float64\n",
              "othercharges                float64\n",
              "dtype: object"
            ],
            "text/html": [
              "<div>\n",
              "<style scoped>\n",
              "    .dataframe tbody tr th:only-of-type {\n",
              "        vertical-align: middle;\n",
              "    }\n",
              "\n",
              "    .dataframe tbody tr th {\n",
              "        vertical-align: top;\n",
              "    }\n",
              "\n",
              "    .dataframe thead th {\n",
              "        text-align: right;\n",
              "    }\n",
              "</style>\n",
              "<table border=\"1\" class=\"dataframe\">\n",
              "  <thead>\n",
              "    <tr style=\"text-align: right;\">\n",
              "      <th></th>\n",
              "      <th>0</th>\n",
              "    </tr>\n",
              "  </thead>\n",
              "  <tbody>\n",
              "    <tr>\n",
              "      <th>developmentname</th>\n",
              "      <td>object</td>\n",
              "    </tr>\n",
              "    <tr>\n",
              "      <th>borough</th>\n",
              "      <td>object</td>\n",
              "    </tr>\n",
              "    <tr>\n",
              "      <th>accountname</th>\n",
              "      <td>object</td>\n",
              "    </tr>\n",
              "    <tr>\n",
              "      <th>location</th>\n",
              "      <td>object</td>\n",
              "    </tr>\n",
              "    <tr>\n",
              "      <th>tds</th>\n",
              "      <td>float64</td>\n",
              "    </tr>\n",
              "    <tr>\n",
              "      <th>rccode</th>\n",
              "      <td>object</td>\n",
              "    </tr>\n",
              "    <tr>\n",
              "      <th>umisbillid</th>\n",
              "      <td>int64</td>\n",
              "    </tr>\n",
              "    <tr>\n",
              "      <th>revenuemonth</th>\n",
              "      <td>datetime64[ns]</td>\n",
              "    </tr>\n",
              "    <tr>\n",
              "      <th>servicestartdate</th>\n",
              "      <td>datetime64[ns]</td>\n",
              "    </tr>\n",
              "    <tr>\n",
              "      <th>serviceenddate</th>\n",
              "      <td>datetime64[ns]</td>\n",
              "    </tr>\n",
              "    <tr>\n",
              "      <th>days</th>\n",
              "      <td>float64</td>\n",
              "    </tr>\n",
              "    <tr>\n",
              "      <th>meternumber</th>\n",
              "      <td>object</td>\n",
              "    </tr>\n",
              "    <tr>\n",
              "      <th>currentcharges</th>\n",
              "      <td>float64</td>\n",
              "    </tr>\n",
              "    <tr>\n",
              "      <th>rateclass</th>\n",
              "      <td>object</td>\n",
              "    </tr>\n",
              "    <tr>\n",
              "      <th>consumptionhcf</th>\n",
              "      <td>int64</td>\n",
              "    </tr>\n",
              "    <tr>\n",
              "      <th>watersewercharges</th>\n",
              "      <td>float64</td>\n",
              "    </tr>\n",
              "    <tr>\n",
              "      <th>othercharges</th>\n",
              "      <td>float64</td>\n",
              "    </tr>\n",
              "  </tbody>\n",
              "</table>\n",
              "</div><br><label><b>dtype:</b> object</label>"
            ]
          },
          "metadata": {},
          "execution_count": 49
        }
      ]
    },
    {
      "cell_type": "markdown",
      "source": [
        "Además de verificar el tipo de cada columna, se comprobó la presencia de datos perdidos en ellas."
      ],
      "metadata": {
        "id": "_NuMooP1p9Se"
      }
    },
    {
      "cell_type": "code",
      "source": [
        "df.isnull().sum()"
      ],
      "metadata": {
        "colab": {
          "base_uri": "https://localhost:8080/",
          "height": 617
        },
        "id": "SJM2DECuqWce",
        "outputId": "908cf618-f477-49a8-c35c-8f8b68e07c52"
      },
      "execution_count": 50,
      "outputs": [
        {
          "output_type": "execute_result",
          "data": {
            "text/plain": [
              "developmentname       60\n",
              "borough                0\n",
              "accountname            0\n",
              "location             828\n",
              "tds                   60\n",
              "rccode                 0\n",
              "umisbillid             0\n",
              "revenuemonth           0\n",
              "servicestartdate       7\n",
              "serviceenddate         7\n",
              "days                   7\n",
              "meternumber            0\n",
              "currentcharges         0\n",
              "rateclass             36\n",
              "consumptionhcf         0\n",
              "watersewercharges      0\n",
              "othercharges           0\n",
              "dtype: int64"
            ],
            "text/html": [
              "<div>\n",
              "<style scoped>\n",
              "    .dataframe tbody tr th:only-of-type {\n",
              "        vertical-align: middle;\n",
              "    }\n",
              "\n",
              "    .dataframe tbody tr th {\n",
              "        vertical-align: top;\n",
              "    }\n",
              "\n",
              "    .dataframe thead th {\n",
              "        text-align: right;\n",
              "    }\n",
              "</style>\n",
              "<table border=\"1\" class=\"dataframe\">\n",
              "  <thead>\n",
              "    <tr style=\"text-align: right;\">\n",
              "      <th></th>\n",
              "      <th>0</th>\n",
              "    </tr>\n",
              "  </thead>\n",
              "  <tbody>\n",
              "    <tr>\n",
              "      <th>developmentname</th>\n",
              "      <td>60</td>\n",
              "    </tr>\n",
              "    <tr>\n",
              "      <th>borough</th>\n",
              "      <td>0</td>\n",
              "    </tr>\n",
              "    <tr>\n",
              "      <th>accountname</th>\n",
              "      <td>0</td>\n",
              "    </tr>\n",
              "    <tr>\n",
              "      <th>location</th>\n",
              "      <td>828</td>\n",
              "    </tr>\n",
              "    <tr>\n",
              "      <th>tds</th>\n",
              "      <td>60</td>\n",
              "    </tr>\n",
              "    <tr>\n",
              "      <th>rccode</th>\n",
              "      <td>0</td>\n",
              "    </tr>\n",
              "    <tr>\n",
              "      <th>umisbillid</th>\n",
              "      <td>0</td>\n",
              "    </tr>\n",
              "    <tr>\n",
              "      <th>revenuemonth</th>\n",
              "      <td>0</td>\n",
              "    </tr>\n",
              "    <tr>\n",
              "      <th>servicestartdate</th>\n",
              "      <td>7</td>\n",
              "    </tr>\n",
              "    <tr>\n",
              "      <th>serviceenddate</th>\n",
              "      <td>7</td>\n",
              "    </tr>\n",
              "    <tr>\n",
              "      <th>days</th>\n",
              "      <td>7</td>\n",
              "    </tr>\n",
              "    <tr>\n",
              "      <th>meternumber</th>\n",
              "      <td>0</td>\n",
              "    </tr>\n",
              "    <tr>\n",
              "      <th>currentcharges</th>\n",
              "      <td>0</td>\n",
              "    </tr>\n",
              "    <tr>\n",
              "      <th>rateclass</th>\n",
              "      <td>36</td>\n",
              "    </tr>\n",
              "    <tr>\n",
              "      <th>consumptionhcf</th>\n",
              "      <td>0</td>\n",
              "    </tr>\n",
              "    <tr>\n",
              "      <th>watersewercharges</th>\n",
              "      <td>0</td>\n",
              "    </tr>\n",
              "    <tr>\n",
              "      <th>othercharges</th>\n",
              "      <td>0</td>\n",
              "    </tr>\n",
              "  </tbody>\n",
              "</table>\n",
              "</div><br><label><b>dtype:</b> int64</label>"
            ]
          },
          "metadata": {},
          "execution_count": 50
        }
      ]
    },
    {
      "cell_type": "markdown",
      "source": [
        "Después de revisar los valores nulos se procedió con la corrección de los tipos de datos. Primero, las columnas tds y days fueron convertidas a tipo Int, ya que contienen únicamente valores enteros.\n",
        "\n",
        "Para los valores nulos, se aplicó la estrategia de interpolación, dado que los datos siguen una secuencia lógica, lo que permite estimar los valores faltantes en función de sus vecinos."
      ],
      "metadata": {
        "id": "QogB-Zo9Sxa0"
      }
    },
    {
      "cell_type": "code",
      "source": [
        "df['tds'] = df['tds'].interpolate().astype(int)\n",
        "df['days'] = df['days'].interpolate().astype(int)"
      ],
      "metadata": {
        "id": "5EsI11XNUCDv"
      },
      "execution_count": 51,
      "outputs": []
    },
    {
      "cell_type": "markdown",
      "source": [
        "Las columnas rccode y meternumber fueron convertidas al tipo Str.\n"
      ],
      "metadata": {
        "id": "KrL6ZHtNUz1l"
      }
    },
    {
      "cell_type": "code",
      "source": [
        "df['rccode'] = df['rccode'].astype(str)\n",
        "df['meternumber'] = df['meternumber'].astype(str)"
      ],
      "metadata": {
        "id": "ZSRzmWdNZjvv"
      },
      "execution_count": 54,
      "outputs": []
    },
    {
      "cell_type": "markdown",
      "source": [
        "Finalmente, las columnas restantes de tipo object fueron convertidas a category para optimizar el uso de memoria.\n",
        "\n",
        "En cuanto a los valores nulos, se aplicó la estrategia de imputación por moda, ya que cada columna contenía un término recurrente, considerado el valor más probable para reemplazar los datos perdidos."
      ],
      "metadata": {
        "id": "aNPgWRxDaA9O"
      }
    },
    {
      "cell_type": "code",
      "source": [
        "columnas = df.select_dtypes(include=['object']).columns\n",
        "\n",
        "for col in columnas:\n",
        "    moda = df[col].mode()[0]\n",
        "    df[col] = df[col].fillna(moda).astype('category')"
      ],
      "metadata": {
        "id": "G76cp1VSaIzV"
      },
      "execution_count": 55,
      "outputs": []
    },
    {
      "cell_type": "markdown",
      "source": [
        "Después de haber realizado el proceso de la corrección y limpieza, se verificó el nuevo tipo de dato en las columnas."
      ],
      "metadata": {
        "id": "03xnNHqJa-aV"
      }
    },
    {
      "cell_type": "code",
      "source": [
        "df.dtypes"
      ],
      "metadata": {
        "colab": {
          "base_uri": "https://localhost:8080/",
          "height": 617
        },
        "id": "-hsDwf7pbERi",
        "outputId": "1989631b-caec-4510-db15-d330f574387e"
      },
      "execution_count": 56,
      "outputs": [
        {
          "output_type": "execute_result",
          "data": {
            "text/plain": [
              "developmentname            category\n",
              "borough                    category\n",
              "accountname                category\n",
              "location                   category\n",
              "tds                           int64\n",
              "rccode                     category\n",
              "umisbillid                    int64\n",
              "revenuemonth         datetime64[ns]\n",
              "servicestartdate     datetime64[ns]\n",
              "serviceenddate       datetime64[ns]\n",
              "days                          int64\n",
              "meternumber                category\n",
              "currentcharges              float64\n",
              "rateclass                  category\n",
              "consumptionhcf                int64\n",
              "watersewercharges           float64\n",
              "othercharges                float64\n",
              "dtype: object"
            ],
            "text/html": [
              "<div>\n",
              "<style scoped>\n",
              "    .dataframe tbody tr th:only-of-type {\n",
              "        vertical-align: middle;\n",
              "    }\n",
              "\n",
              "    .dataframe tbody tr th {\n",
              "        vertical-align: top;\n",
              "    }\n",
              "\n",
              "    .dataframe thead th {\n",
              "        text-align: right;\n",
              "    }\n",
              "</style>\n",
              "<table border=\"1\" class=\"dataframe\">\n",
              "  <thead>\n",
              "    <tr style=\"text-align: right;\">\n",
              "      <th></th>\n",
              "      <th>0</th>\n",
              "    </tr>\n",
              "  </thead>\n",
              "  <tbody>\n",
              "    <tr>\n",
              "      <th>developmentname</th>\n",
              "      <td>category</td>\n",
              "    </tr>\n",
              "    <tr>\n",
              "      <th>borough</th>\n",
              "      <td>category</td>\n",
              "    </tr>\n",
              "    <tr>\n",
              "      <th>accountname</th>\n",
              "      <td>category</td>\n",
              "    </tr>\n",
              "    <tr>\n",
              "      <th>location</th>\n",
              "      <td>category</td>\n",
              "    </tr>\n",
              "    <tr>\n",
              "      <th>tds</th>\n",
              "      <td>int64</td>\n",
              "    </tr>\n",
              "    <tr>\n",
              "      <th>rccode</th>\n",
              "      <td>category</td>\n",
              "    </tr>\n",
              "    <tr>\n",
              "      <th>umisbillid</th>\n",
              "      <td>int64</td>\n",
              "    </tr>\n",
              "    <tr>\n",
              "      <th>revenuemonth</th>\n",
              "      <td>datetime64[ns]</td>\n",
              "    </tr>\n",
              "    <tr>\n",
              "      <th>servicestartdate</th>\n",
              "      <td>datetime64[ns]</td>\n",
              "    </tr>\n",
              "    <tr>\n",
              "      <th>serviceenddate</th>\n",
              "      <td>datetime64[ns]</td>\n",
              "    </tr>\n",
              "    <tr>\n",
              "      <th>days</th>\n",
              "      <td>int64</td>\n",
              "    </tr>\n",
              "    <tr>\n",
              "      <th>meternumber</th>\n",
              "      <td>category</td>\n",
              "    </tr>\n",
              "    <tr>\n",
              "      <th>currentcharges</th>\n",
              "      <td>float64</td>\n",
              "    </tr>\n",
              "    <tr>\n",
              "      <th>rateclass</th>\n",
              "      <td>category</td>\n",
              "    </tr>\n",
              "    <tr>\n",
              "      <th>consumptionhcf</th>\n",
              "      <td>int64</td>\n",
              "    </tr>\n",
              "    <tr>\n",
              "      <th>watersewercharges</th>\n",
              "      <td>float64</td>\n",
              "    </tr>\n",
              "    <tr>\n",
              "      <th>othercharges</th>\n",
              "      <td>float64</td>\n",
              "    </tr>\n",
              "  </tbody>\n",
              "</table>\n",
              "</div><br><label><b>dtype:</b> object</label>"
            ]
          },
          "metadata": {},
          "execution_count": 56
        }
      ]
    },
    {
      "cell_type": "markdown",
      "source": [
        "Además, se realizó una nueva validación de los valores nulos.\n",
        "\n",
        "Cabe destacar que en las columnas servicestartdate y serviceenddate, los valores nulos se representan como NaT."
      ],
      "metadata": {
        "id": "Kbl1M073zG9V"
      }
    },
    {
      "cell_type": "code",
      "source": [
        "df.isnull().sum()"
      ],
      "metadata": {
        "colab": {
          "base_uri": "https://localhost:8080/",
          "height": 617
        },
        "id": "OqRKG9rKbvJ4",
        "outputId": "1dd7a271-4cfb-46c1-fed9-639adc99a74c"
      },
      "execution_count": 57,
      "outputs": [
        {
          "output_type": "execute_result",
          "data": {
            "text/plain": [
              "developmentname      0\n",
              "borough              0\n",
              "accountname          0\n",
              "location             0\n",
              "tds                  0\n",
              "rccode               0\n",
              "umisbillid           0\n",
              "revenuemonth         0\n",
              "servicestartdate     7\n",
              "serviceenddate       7\n",
              "days                 0\n",
              "meternumber          0\n",
              "currentcharges       0\n",
              "rateclass            0\n",
              "consumptionhcf       0\n",
              "watersewercharges    0\n",
              "othercharges         0\n",
              "dtype: int64"
            ],
            "text/html": [
              "<div>\n",
              "<style scoped>\n",
              "    .dataframe tbody tr th:only-of-type {\n",
              "        vertical-align: middle;\n",
              "    }\n",
              "\n",
              "    .dataframe tbody tr th {\n",
              "        vertical-align: top;\n",
              "    }\n",
              "\n",
              "    .dataframe thead th {\n",
              "        text-align: right;\n",
              "    }\n",
              "</style>\n",
              "<table border=\"1\" class=\"dataframe\">\n",
              "  <thead>\n",
              "    <tr style=\"text-align: right;\">\n",
              "      <th></th>\n",
              "      <th>0</th>\n",
              "    </tr>\n",
              "  </thead>\n",
              "  <tbody>\n",
              "    <tr>\n",
              "      <th>developmentname</th>\n",
              "      <td>0</td>\n",
              "    </tr>\n",
              "    <tr>\n",
              "      <th>borough</th>\n",
              "      <td>0</td>\n",
              "    </tr>\n",
              "    <tr>\n",
              "      <th>accountname</th>\n",
              "      <td>0</td>\n",
              "    </tr>\n",
              "    <tr>\n",
              "      <th>location</th>\n",
              "      <td>0</td>\n",
              "    </tr>\n",
              "    <tr>\n",
              "      <th>tds</th>\n",
              "      <td>0</td>\n",
              "    </tr>\n",
              "    <tr>\n",
              "      <th>rccode</th>\n",
              "      <td>0</td>\n",
              "    </tr>\n",
              "    <tr>\n",
              "      <th>umisbillid</th>\n",
              "      <td>0</td>\n",
              "    </tr>\n",
              "    <tr>\n",
              "      <th>revenuemonth</th>\n",
              "      <td>0</td>\n",
              "    </tr>\n",
              "    <tr>\n",
              "      <th>servicestartdate</th>\n",
              "      <td>7</td>\n",
              "    </tr>\n",
              "    <tr>\n",
              "      <th>serviceenddate</th>\n",
              "      <td>7</td>\n",
              "    </tr>\n",
              "    <tr>\n",
              "      <th>days</th>\n",
              "      <td>0</td>\n",
              "    </tr>\n",
              "    <tr>\n",
              "      <th>meternumber</th>\n",
              "      <td>0</td>\n",
              "    </tr>\n",
              "    <tr>\n",
              "      <th>currentcharges</th>\n",
              "      <td>0</td>\n",
              "    </tr>\n",
              "    <tr>\n",
              "      <th>rateclass</th>\n",
              "      <td>0</td>\n",
              "    </tr>\n",
              "    <tr>\n",
              "      <th>consumptionhcf</th>\n",
              "      <td>0</td>\n",
              "    </tr>\n",
              "    <tr>\n",
              "      <th>watersewercharges</th>\n",
              "      <td>0</td>\n",
              "    </tr>\n",
              "    <tr>\n",
              "      <th>othercharges</th>\n",
              "      <td>0</td>\n",
              "    </tr>\n",
              "  </tbody>\n",
              "</table>\n",
              "</div><br><label><b>dtype:</b> int64</label>"
            ]
          },
          "metadata": {},
          "execution_count": 57
        }
      ]
    },
    {
      "cell_type": "markdown",
      "source": [
        "Así quedó el DataFrame con los cambios realizados."
      ],
      "metadata": {
        "id": "zo7X1zhc4KWt"
      }
    },
    {
      "cell_type": "code",
      "source": [
        "df.head()"
      ],
      "metadata": {
        "colab": {
          "base_uri": "https://localhost:8080/",
          "height": 429
        },
        "id": "nc8Wujp622OA",
        "outputId": "1c6990b5-b38b-4d42-af9a-63a73dd57110"
      },
      "execution_count": null,
      "outputs": [
        {
          "output_type": "execute_result",
          "data": {
            "text/plain": [
              "  developmentname   borough    accountname location meteramr  \\\n",
              "0   HOWARD AVENUE  BROOKLYN  HOWARD AVENUE   BLD 02      AMR   \n",
              "1    BAISLEY PARK    QUEENS   BAISLEY PARK   BLD 09      AMR   \n",
              "2    BAISLEY PARK    QUEENS   BAISLEY PARK   BLD 09      AMR   \n",
              "3    BAISLEY PARK    QUEENS   BAISLEY PARK   BLD 09      AMR   \n",
              "4    BAISLEY PARK    QUEENS   BAISLEY PARK   BLD 09      AMR   \n",
              "\n",
              "         meterscope  tds  edp   rccode fundingsource  ... serviceenddate days  \\\n",
              "0  Community Center  339  782  K033900       FEDERAL  ...     2020-04-23   31   \n",
              "1            BLD 09   91  240  Q009100       FEDERAL  ...     2020-01-26   34   \n",
              "2            BLD 09   91  240  Q009100       FEDERAL  ...     2020-02-24   29   \n",
              "3            BLD 09   91  240  Q009100       FEDERAL  ...     2020-03-23   28   \n",
              "4            BLD 09   91  240  Q009100       FEDERAL  ...     2020-04-23   31   \n",
              "\n",
              "   meternumber estimated currentcharges              rateclass  billanalyzed  \\\n",
              "0    E11310572         N        2945.22  Basic Water and Sewer           Yes   \n",
              "1    K13060723         N         196.35  Basic Water and Sewer           Yes   \n",
              "2    K13060723         N         258.35  Basic Water and Sewer           Yes   \n",
              "3    K13060723         N         217.02  Basic Water and Sewer           Yes   \n",
              "4    K13060723         N         103.34  Basic Water and Sewer           Yes   \n",
              "\n",
              "  consumptionhcf watersewercharges  othercharges  \n",
              "0            285           2945.22           0.0  \n",
              "1             19            196.35           0.0  \n",
              "2             25            258.35           0.0  \n",
              "3             21            217.02           0.0  \n",
              "4             10            103.34           0.0  \n",
              "\n",
              "[5 rows x 25 columns]"
            ],
            "text/html": [
              "\n",
              "  <div id=\"df-a104e55e-35db-4783-9eae-7c8946cdff88\" class=\"colab-df-container\">\n",
              "    <div>\n",
              "<style scoped>\n",
              "    .dataframe tbody tr th:only-of-type {\n",
              "        vertical-align: middle;\n",
              "    }\n",
              "\n",
              "    .dataframe tbody tr th {\n",
              "        vertical-align: top;\n",
              "    }\n",
              "\n",
              "    .dataframe thead th {\n",
              "        text-align: right;\n",
              "    }\n",
              "</style>\n",
              "<table border=\"1\" class=\"dataframe\">\n",
              "  <thead>\n",
              "    <tr style=\"text-align: right;\">\n",
              "      <th></th>\n",
              "      <th>developmentname</th>\n",
              "      <th>borough</th>\n",
              "      <th>accountname</th>\n",
              "      <th>location</th>\n",
              "      <th>meteramr</th>\n",
              "      <th>meterscope</th>\n",
              "      <th>tds</th>\n",
              "      <th>edp</th>\n",
              "      <th>rccode</th>\n",
              "      <th>fundingsource</th>\n",
              "      <th>...</th>\n",
              "      <th>serviceenddate</th>\n",
              "      <th>days</th>\n",
              "      <th>meternumber</th>\n",
              "      <th>estimated</th>\n",
              "      <th>currentcharges</th>\n",
              "      <th>rateclass</th>\n",
              "      <th>billanalyzed</th>\n",
              "      <th>consumptionhcf</th>\n",
              "      <th>watersewercharges</th>\n",
              "      <th>othercharges</th>\n",
              "    </tr>\n",
              "  </thead>\n",
              "  <tbody>\n",
              "    <tr>\n",
              "      <th>0</th>\n",
              "      <td>HOWARD AVENUE</td>\n",
              "      <td>BROOKLYN</td>\n",
              "      <td>HOWARD AVENUE</td>\n",
              "      <td>BLD 02</td>\n",
              "      <td>AMR</td>\n",
              "      <td>Community Center</td>\n",
              "      <td>339</td>\n",
              "      <td>782</td>\n",
              "      <td>K033900</td>\n",
              "      <td>FEDERAL</td>\n",
              "      <td>...</td>\n",
              "      <td>2020-04-23</td>\n",
              "      <td>31</td>\n",
              "      <td>E11310572</td>\n",
              "      <td>N</td>\n",
              "      <td>2945.22</td>\n",
              "      <td>Basic Water and Sewer</td>\n",
              "      <td>Yes</td>\n",
              "      <td>285</td>\n",
              "      <td>2945.22</td>\n",
              "      <td>0.0</td>\n",
              "    </tr>\n",
              "    <tr>\n",
              "      <th>1</th>\n",
              "      <td>BAISLEY PARK</td>\n",
              "      <td>QUEENS</td>\n",
              "      <td>BAISLEY PARK</td>\n",
              "      <td>BLD 09</td>\n",
              "      <td>AMR</td>\n",
              "      <td>BLD 09</td>\n",
              "      <td>91</td>\n",
              "      <td>240</td>\n",
              "      <td>Q009100</td>\n",
              "      <td>FEDERAL</td>\n",
              "      <td>...</td>\n",
              "      <td>2020-01-26</td>\n",
              "      <td>34</td>\n",
              "      <td>K13060723</td>\n",
              "      <td>N</td>\n",
              "      <td>196.35</td>\n",
              "      <td>Basic Water and Sewer</td>\n",
              "      <td>Yes</td>\n",
              "      <td>19</td>\n",
              "      <td>196.35</td>\n",
              "      <td>0.0</td>\n",
              "    </tr>\n",
              "    <tr>\n",
              "      <th>2</th>\n",
              "      <td>BAISLEY PARK</td>\n",
              "      <td>QUEENS</td>\n",
              "      <td>BAISLEY PARK</td>\n",
              "      <td>BLD 09</td>\n",
              "      <td>AMR</td>\n",
              "      <td>BLD 09</td>\n",
              "      <td>91</td>\n",
              "      <td>240</td>\n",
              "      <td>Q009100</td>\n",
              "      <td>FEDERAL</td>\n",
              "      <td>...</td>\n",
              "      <td>2020-02-24</td>\n",
              "      <td>29</td>\n",
              "      <td>K13060723</td>\n",
              "      <td>N</td>\n",
              "      <td>258.35</td>\n",
              "      <td>Basic Water and Sewer</td>\n",
              "      <td>Yes</td>\n",
              "      <td>25</td>\n",
              "      <td>258.35</td>\n",
              "      <td>0.0</td>\n",
              "    </tr>\n",
              "    <tr>\n",
              "      <th>3</th>\n",
              "      <td>BAISLEY PARK</td>\n",
              "      <td>QUEENS</td>\n",
              "      <td>BAISLEY PARK</td>\n",
              "      <td>BLD 09</td>\n",
              "      <td>AMR</td>\n",
              "      <td>BLD 09</td>\n",
              "      <td>91</td>\n",
              "      <td>240</td>\n",
              "      <td>Q009100</td>\n",
              "      <td>FEDERAL</td>\n",
              "      <td>...</td>\n",
              "      <td>2020-03-23</td>\n",
              "      <td>28</td>\n",
              "      <td>K13060723</td>\n",
              "      <td>N</td>\n",
              "      <td>217.02</td>\n",
              "      <td>Basic Water and Sewer</td>\n",
              "      <td>Yes</td>\n",
              "      <td>21</td>\n",
              "      <td>217.02</td>\n",
              "      <td>0.0</td>\n",
              "    </tr>\n",
              "    <tr>\n",
              "      <th>4</th>\n",
              "      <td>BAISLEY PARK</td>\n",
              "      <td>QUEENS</td>\n",
              "      <td>BAISLEY PARK</td>\n",
              "      <td>BLD 09</td>\n",
              "      <td>AMR</td>\n",
              "      <td>BLD 09</td>\n",
              "      <td>91</td>\n",
              "      <td>240</td>\n",
              "      <td>Q009100</td>\n",
              "      <td>FEDERAL</td>\n",
              "      <td>...</td>\n",
              "      <td>2020-04-23</td>\n",
              "      <td>31</td>\n",
              "      <td>K13060723</td>\n",
              "      <td>N</td>\n",
              "      <td>103.34</td>\n",
              "      <td>Basic Water and Sewer</td>\n",
              "      <td>Yes</td>\n",
              "      <td>10</td>\n",
              "      <td>103.34</td>\n",
              "      <td>0.0</td>\n",
              "    </tr>\n",
              "  </tbody>\n",
              "</table>\n",
              "<p>5 rows × 25 columns</p>\n",
              "</div>\n",
              "    <div class=\"colab-df-buttons\">\n",
              "\n",
              "  <div class=\"colab-df-container\">\n",
              "    <button class=\"colab-df-convert\" onclick=\"convertToInteractive('df-a104e55e-35db-4783-9eae-7c8946cdff88')\"\n",
              "            title=\"Convert this dataframe to an interactive table.\"\n",
              "            style=\"display:none;\">\n",
              "\n",
              "  <svg xmlns=\"http://www.w3.org/2000/svg\" height=\"24px\" viewBox=\"0 -960 960 960\">\n",
              "    <path d=\"M120-120v-720h720v720H120Zm60-500h600v-160H180v160Zm220 220h160v-160H400v160Zm0 220h160v-160H400v160ZM180-400h160v-160H180v160Zm440 0h160v-160H620v160ZM180-180h160v-160H180v160Zm440 0h160v-160H620v160Z\"/>\n",
              "  </svg>\n",
              "    </button>\n",
              "\n",
              "  <style>\n",
              "    .colab-df-container {\n",
              "      display:flex;\n",
              "      gap: 12px;\n",
              "    }\n",
              "\n",
              "    .colab-df-convert {\n",
              "      background-color: #E8F0FE;\n",
              "      border: none;\n",
              "      border-radius: 50%;\n",
              "      cursor: pointer;\n",
              "      display: none;\n",
              "      fill: #1967D2;\n",
              "      height: 32px;\n",
              "      padding: 0 0 0 0;\n",
              "      width: 32px;\n",
              "    }\n",
              "\n",
              "    .colab-df-convert:hover {\n",
              "      background-color: #E2EBFA;\n",
              "      box-shadow: 0px 1px 2px rgba(60, 64, 67, 0.3), 0px 1px 3px 1px rgba(60, 64, 67, 0.15);\n",
              "      fill: #174EA6;\n",
              "    }\n",
              "\n",
              "    .colab-df-buttons div {\n",
              "      margin-bottom: 4px;\n",
              "    }\n",
              "\n",
              "    [theme=dark] .colab-df-convert {\n",
              "      background-color: #3B4455;\n",
              "      fill: #D2E3FC;\n",
              "    }\n",
              "\n",
              "    [theme=dark] .colab-df-convert:hover {\n",
              "      background-color: #434B5C;\n",
              "      box-shadow: 0px 1px 3px 1px rgba(0, 0, 0, 0.15);\n",
              "      filter: drop-shadow(0px 1px 2px rgba(0, 0, 0, 0.3));\n",
              "      fill: #FFFFFF;\n",
              "    }\n",
              "  </style>\n",
              "\n",
              "    <script>\n",
              "      const buttonEl =\n",
              "        document.querySelector('#df-a104e55e-35db-4783-9eae-7c8946cdff88 button.colab-df-convert');\n",
              "      buttonEl.style.display =\n",
              "        google.colab.kernel.accessAllowed ? 'block' : 'none';\n",
              "\n",
              "      async function convertToInteractive(key) {\n",
              "        const element = document.querySelector('#df-a104e55e-35db-4783-9eae-7c8946cdff88');\n",
              "        const dataTable =\n",
              "          await google.colab.kernel.invokeFunction('convertToInteractive',\n",
              "                                                    [key], {});\n",
              "        if (!dataTable) return;\n",
              "\n",
              "        const docLinkHtml = 'Like what you see? Visit the ' +\n",
              "          '<a target=\"_blank\" href=https://colab.research.google.com/notebooks/data_table.ipynb>data table notebook</a>'\n",
              "          + ' to learn more about interactive tables.';\n",
              "        element.innerHTML = '';\n",
              "        dataTable['output_type'] = 'display_data';\n",
              "        await google.colab.output.renderOutput(dataTable, element);\n",
              "        const docLink = document.createElement('div');\n",
              "        docLink.innerHTML = docLinkHtml;\n",
              "        element.appendChild(docLink);\n",
              "      }\n",
              "    </script>\n",
              "  </div>\n",
              "\n",
              "\n",
              "<div id=\"df-399ffc85-9386-4529-acce-6bb750eefa3d\">\n",
              "  <button class=\"colab-df-quickchart\" onclick=\"quickchart('df-399ffc85-9386-4529-acce-6bb750eefa3d')\"\n",
              "            title=\"Suggest charts\"\n",
              "            style=\"display:none;\">\n",
              "\n",
              "<svg xmlns=\"http://www.w3.org/2000/svg\" height=\"24px\"viewBox=\"0 0 24 24\"\n",
              "     width=\"24px\">\n",
              "    <g>\n",
              "        <path d=\"M19 3H5c-1.1 0-2 .9-2 2v14c0 1.1.9 2 2 2h14c1.1 0 2-.9 2-2V5c0-1.1-.9-2-2-2zM9 17H7v-7h2v7zm4 0h-2V7h2v10zm4 0h-2v-4h2v4z\"/>\n",
              "    </g>\n",
              "</svg>\n",
              "  </button>\n",
              "\n",
              "<style>\n",
              "  .colab-df-quickchart {\n",
              "      --bg-color: #E8F0FE;\n",
              "      --fill-color: #1967D2;\n",
              "      --hover-bg-color: #E2EBFA;\n",
              "      --hover-fill-color: #174EA6;\n",
              "      --disabled-fill-color: #AAA;\n",
              "      --disabled-bg-color: #DDD;\n",
              "  }\n",
              "\n",
              "  [theme=dark] .colab-df-quickchart {\n",
              "      --bg-color: #3B4455;\n",
              "      --fill-color: #D2E3FC;\n",
              "      --hover-bg-color: #434B5C;\n",
              "      --hover-fill-color: #FFFFFF;\n",
              "      --disabled-bg-color: #3B4455;\n",
              "      --disabled-fill-color: #666;\n",
              "  }\n",
              "\n",
              "  .colab-df-quickchart {\n",
              "    background-color: var(--bg-color);\n",
              "    border: none;\n",
              "    border-radius: 50%;\n",
              "    cursor: pointer;\n",
              "    display: none;\n",
              "    fill: var(--fill-color);\n",
              "    height: 32px;\n",
              "    padding: 0;\n",
              "    width: 32px;\n",
              "  }\n",
              "\n",
              "  .colab-df-quickchart:hover {\n",
              "    background-color: var(--hover-bg-color);\n",
              "    box-shadow: 0 1px 2px rgba(60, 64, 67, 0.3), 0 1px 3px 1px rgba(60, 64, 67, 0.15);\n",
              "    fill: var(--button-hover-fill-color);\n",
              "  }\n",
              "\n",
              "  .colab-df-quickchart-complete:disabled,\n",
              "  .colab-df-quickchart-complete:disabled:hover {\n",
              "    background-color: var(--disabled-bg-color);\n",
              "    fill: var(--disabled-fill-color);\n",
              "    box-shadow: none;\n",
              "  }\n",
              "\n",
              "  .colab-df-spinner {\n",
              "    border: 2px solid var(--fill-color);\n",
              "    border-color: transparent;\n",
              "    border-bottom-color: var(--fill-color);\n",
              "    animation:\n",
              "      spin 1s steps(1) infinite;\n",
              "  }\n",
              "\n",
              "  @keyframes spin {\n",
              "    0% {\n",
              "      border-color: transparent;\n",
              "      border-bottom-color: var(--fill-color);\n",
              "      border-left-color: var(--fill-color);\n",
              "    }\n",
              "    20% {\n",
              "      border-color: transparent;\n",
              "      border-left-color: var(--fill-color);\n",
              "      border-top-color: var(--fill-color);\n",
              "    }\n",
              "    30% {\n",
              "      border-color: transparent;\n",
              "      border-left-color: var(--fill-color);\n",
              "      border-top-color: var(--fill-color);\n",
              "      border-right-color: var(--fill-color);\n",
              "    }\n",
              "    40% {\n",
              "      border-color: transparent;\n",
              "      border-right-color: var(--fill-color);\n",
              "      border-top-color: var(--fill-color);\n",
              "    }\n",
              "    60% {\n",
              "      border-color: transparent;\n",
              "      border-right-color: var(--fill-color);\n",
              "    }\n",
              "    80% {\n",
              "      border-color: transparent;\n",
              "      border-right-color: var(--fill-color);\n",
              "      border-bottom-color: var(--fill-color);\n",
              "    }\n",
              "    90% {\n",
              "      border-color: transparent;\n",
              "      border-bottom-color: var(--fill-color);\n",
              "    }\n",
              "  }\n",
              "</style>\n",
              "\n",
              "  <script>\n",
              "    async function quickchart(key) {\n",
              "      const quickchartButtonEl =\n",
              "        document.querySelector('#' + key + ' button');\n",
              "      quickchartButtonEl.disabled = true;  // To prevent multiple clicks.\n",
              "      quickchartButtonEl.classList.add('colab-df-spinner');\n",
              "      try {\n",
              "        const charts = await google.colab.kernel.invokeFunction(\n",
              "            'suggestCharts', [key], {});\n",
              "      } catch (error) {\n",
              "        console.error('Error during call to suggestCharts:', error);\n",
              "      }\n",
              "      quickchartButtonEl.classList.remove('colab-df-spinner');\n",
              "      quickchartButtonEl.classList.add('colab-df-quickchart-complete');\n",
              "    }\n",
              "    (() => {\n",
              "      let quickchartButtonEl =\n",
              "        document.querySelector('#df-399ffc85-9386-4529-acce-6bb750eefa3d button');\n",
              "      quickchartButtonEl.style.display =\n",
              "        google.colab.kernel.accessAllowed ? 'block' : 'none';\n",
              "    })();\n",
              "  </script>\n",
              "</div>\n",
              "\n",
              "    </div>\n",
              "  </div>\n"
            ],
            "application/vnd.google.colaboratory.intrinsic+json": {
              "type": "dataframe",
              "variable_name": "df"
            }
          },
          "metadata": {},
          "execution_count": 32
        }
      ]
    },
    {
      "cell_type": "code",
      "source": [
        "df.describe(include='all')"
      ],
      "metadata": {
        "colab": {
          "base_uri": "https://localhost:8080/",
          "height": 600
        },
        "id": "KyGO4yM14SPj",
        "outputId": "cee53907-c123-42e7-a503-2a883171ce74"
      },
      "execution_count": null,
      "outputs": [
        {
          "output_type": "execute_result",
          "data": {
            "text/plain": [
              "                         developmentname borough  \\\n",
              "count                              50315   50315   \n",
              "unique                               110       7   \n",
              "top     FHA REPOSSESSED HOUSES (GROUP V)     FHA   \n",
              "freq                                4825   23460   \n",
              "mean                                 NaN     NaN   \n",
              "min                                  NaN     NaN   \n",
              "25%                                  NaN     NaN   \n",
              "50%                                  NaN     NaN   \n",
              "75%                                  NaN     NaN   \n",
              "max                                  NaN     NaN   \n",
              "std                                  NaN     NaN   \n",
              "\n",
              "                             accountname location meteramr        meterscope  \\\n",
              "count                              50315    50315    50315             50315   \n",
              "unique                               117      305        3                59   \n",
              "top     FHA REPOSSESSED HOUSES (GROUP V)   BLD 01      AMR  Community Center   \n",
              "freq                                4759     5287    44292             38761   \n",
              "mean                                 NaN      NaN      NaN               NaN   \n",
              "min                                  NaN      NaN      NaN               NaN   \n",
              "25%                                  NaN      NaN      NaN               NaN   \n",
              "50%                                  NaN      NaN      NaN               NaN   \n",
              "75%                                  NaN      NaN      NaN               NaN   \n",
              "max                                  NaN      NaN      NaN               NaN   \n",
              "std                                  NaN      NaN      NaN               NaN   \n",
              "\n",
              "                 tds           edp   rccode fundingsource  ...  \\\n",
              "count   50315.000000  50315.000000    50315         50315  ...   \n",
              "unique           NaN           NaN      114             6  ...   \n",
              "top              NaN           NaN  Q026000       FEDERAL  ...   \n",
              "freq             NaN           NaN     4765         45422  ...   \n",
              "mean      258.734473    463.205764      NaN           NaN  ...   \n",
              "min         1.000000    200.000000      NaN           NaN  ...   \n",
              "25%       209.000000    325.000000      NaN           NaN  ...   \n",
              "50%       273.000000    396.000000      NaN           NaN  ...   \n",
              "75%       338.000000    637.000000      NaN           NaN  ...   \n",
              "max       559.000000    999.000000      NaN           NaN  ...   \n",
              "std       101.505109    185.109210      NaN           NaN  ...   \n",
              "\n",
              "                       serviceenddate          days  meternumber estimated  \\\n",
              "count                           50308  50315.000000        50315     50315   \n",
              "unique                            NaN           NaN          795         2   \n",
              "top                               NaN           NaN   UN-METERED         N   \n",
              "freq                              NaN           NaN          179     41499   \n",
              "mean    2017-11-07 20:14:14.703029504     33.200079          NaN       NaN   \n",
              "min               2013-01-14 00:00:00   -335.000000          NaN       NaN   \n",
              "25%               2015-04-23 00:00:00     29.000000          NaN       NaN   \n",
              "50%               2017-11-23 00:00:00     30.000000          NaN       NaN   \n",
              "75%               2020-02-09 00:00:00     32.000000          NaN       NaN   \n",
              "max               2023-01-27 00:00:00   6968.000000          NaN       NaN   \n",
              "std                               NaN     53.279154          NaN       NaN   \n",
              "\n",
              "       currentcharges              rateclass  billanalyzed consumptionhcf  \\\n",
              "count    50315.000000                  50315         50315   50315.000000   \n",
              "unique            NaN                      5             2            NaN   \n",
              "top               NaN  Basic Water and Sewer           Yes            NaN   \n",
              "freq              NaN                  50211         49235            NaN   \n",
              "mean      2150.221066                    NaN           NaN     224.291066   \n",
              "min      -1748.510000                    NaN           NaN       0.000000   \n",
              "25%         46.460000                    NaN           NaN       5.000000   \n",
              "50%        197.360000                    NaN           NaN      26.000000   \n",
              "75%       2598.415000                    NaN           NaN     236.000000   \n",
              "max     392036.460000                    NaN           NaN  434200.000000   \n",
              "std       5623.852543                    NaN           NaN    2020.962056   \n",
              "\n",
              "       watersewercharges  othercharges  \n",
              "count       50315.000000  50315.000000  \n",
              "unique               NaN           NaN  \n",
              "top                  NaN           NaN  \n",
              "freq                 NaN           NaN  \n",
              "mean         2140.327436      9.893631  \n",
              "min             0.000000 -67726.830000  \n",
              "25%            46.360000      0.000000  \n",
              "50%           196.350000      0.000000  \n",
              "75%          2575.520000      0.000000  \n",
              "max        392036.460000  77796.690000  \n",
              "std          5619.812518    607.714232  \n",
              "\n",
              "[11 rows x 25 columns]"
            ],
            "text/html": [
              "\n",
              "  <div id=\"df-a648e9d7-badb-4ed4-80ef-5b611ce30090\" class=\"colab-df-container\">\n",
              "    <div>\n",
              "<style scoped>\n",
              "    .dataframe tbody tr th:only-of-type {\n",
              "        vertical-align: middle;\n",
              "    }\n",
              "\n",
              "    .dataframe tbody tr th {\n",
              "        vertical-align: top;\n",
              "    }\n",
              "\n",
              "    .dataframe thead th {\n",
              "        text-align: right;\n",
              "    }\n",
              "</style>\n",
              "<table border=\"1\" class=\"dataframe\">\n",
              "  <thead>\n",
              "    <tr style=\"text-align: right;\">\n",
              "      <th></th>\n",
              "      <th>developmentname</th>\n",
              "      <th>borough</th>\n",
              "      <th>accountname</th>\n",
              "      <th>location</th>\n",
              "      <th>meteramr</th>\n",
              "      <th>meterscope</th>\n",
              "      <th>tds</th>\n",
              "      <th>edp</th>\n",
              "      <th>rccode</th>\n",
              "      <th>fundingsource</th>\n",
              "      <th>...</th>\n",
              "      <th>serviceenddate</th>\n",
              "      <th>days</th>\n",
              "      <th>meternumber</th>\n",
              "      <th>estimated</th>\n",
              "      <th>currentcharges</th>\n",
              "      <th>rateclass</th>\n",
              "      <th>billanalyzed</th>\n",
              "      <th>consumptionhcf</th>\n",
              "      <th>watersewercharges</th>\n",
              "      <th>othercharges</th>\n",
              "    </tr>\n",
              "  </thead>\n",
              "  <tbody>\n",
              "    <tr>\n",
              "      <th>count</th>\n",
              "      <td>50315</td>\n",
              "      <td>50315</td>\n",
              "      <td>50315</td>\n",
              "      <td>50315</td>\n",
              "      <td>50315</td>\n",
              "      <td>50315</td>\n",
              "      <td>50315.000000</td>\n",
              "      <td>50315.000000</td>\n",
              "      <td>50315</td>\n",
              "      <td>50315</td>\n",
              "      <td>...</td>\n",
              "      <td>50308</td>\n",
              "      <td>50315.000000</td>\n",
              "      <td>50315</td>\n",
              "      <td>50315</td>\n",
              "      <td>50315.000000</td>\n",
              "      <td>50315</td>\n",
              "      <td>50315</td>\n",
              "      <td>50315.000000</td>\n",
              "      <td>50315.000000</td>\n",
              "      <td>50315.000000</td>\n",
              "    </tr>\n",
              "    <tr>\n",
              "      <th>unique</th>\n",
              "      <td>110</td>\n",
              "      <td>7</td>\n",
              "      <td>117</td>\n",
              "      <td>305</td>\n",
              "      <td>3</td>\n",
              "      <td>59</td>\n",
              "      <td>NaN</td>\n",
              "      <td>NaN</td>\n",
              "      <td>114</td>\n",
              "      <td>6</td>\n",
              "      <td>...</td>\n",
              "      <td>NaN</td>\n",
              "      <td>NaN</td>\n",
              "      <td>795</td>\n",
              "      <td>2</td>\n",
              "      <td>NaN</td>\n",
              "      <td>5</td>\n",
              "      <td>2</td>\n",
              "      <td>NaN</td>\n",
              "      <td>NaN</td>\n",
              "      <td>NaN</td>\n",
              "    </tr>\n",
              "    <tr>\n",
              "      <th>top</th>\n",
              "      <td>FHA REPOSSESSED HOUSES (GROUP V)</td>\n",
              "      <td>FHA</td>\n",
              "      <td>FHA REPOSSESSED HOUSES (GROUP V)</td>\n",
              "      <td>BLD 01</td>\n",
              "      <td>AMR</td>\n",
              "      <td>Community Center</td>\n",
              "      <td>NaN</td>\n",
              "      <td>NaN</td>\n",
              "      <td>Q026000</td>\n",
              "      <td>FEDERAL</td>\n",
              "      <td>...</td>\n",
              "      <td>NaN</td>\n",
              "      <td>NaN</td>\n",
              "      <td>UN-METERED</td>\n",
              "      <td>N</td>\n",
              "      <td>NaN</td>\n",
              "      <td>Basic Water and Sewer</td>\n",
              "      <td>Yes</td>\n",
              "      <td>NaN</td>\n",
              "      <td>NaN</td>\n",
              "      <td>NaN</td>\n",
              "    </tr>\n",
              "    <tr>\n",
              "      <th>freq</th>\n",
              "      <td>4825</td>\n",
              "      <td>23460</td>\n",
              "      <td>4759</td>\n",
              "      <td>5287</td>\n",
              "      <td>44292</td>\n",
              "      <td>38761</td>\n",
              "      <td>NaN</td>\n",
              "      <td>NaN</td>\n",
              "      <td>4765</td>\n",
              "      <td>45422</td>\n",
              "      <td>...</td>\n",
              "      <td>NaN</td>\n",
              "      <td>NaN</td>\n",
              "      <td>179</td>\n",
              "      <td>41499</td>\n",
              "      <td>NaN</td>\n",
              "      <td>50211</td>\n",
              "      <td>49235</td>\n",
              "      <td>NaN</td>\n",
              "      <td>NaN</td>\n",
              "      <td>NaN</td>\n",
              "    </tr>\n",
              "    <tr>\n",
              "      <th>mean</th>\n",
              "      <td>NaN</td>\n",
              "      <td>NaN</td>\n",
              "      <td>NaN</td>\n",
              "      <td>NaN</td>\n",
              "      <td>NaN</td>\n",
              "      <td>NaN</td>\n",
              "      <td>258.734473</td>\n",
              "      <td>463.205764</td>\n",
              "      <td>NaN</td>\n",
              "      <td>NaN</td>\n",
              "      <td>...</td>\n",
              "      <td>2017-11-07 20:14:14.703029504</td>\n",
              "      <td>33.200079</td>\n",
              "      <td>NaN</td>\n",
              "      <td>NaN</td>\n",
              "      <td>2150.221066</td>\n",
              "      <td>NaN</td>\n",
              "      <td>NaN</td>\n",
              "      <td>224.291066</td>\n",
              "      <td>2140.327436</td>\n",
              "      <td>9.893631</td>\n",
              "    </tr>\n",
              "    <tr>\n",
              "      <th>min</th>\n",
              "      <td>NaN</td>\n",
              "      <td>NaN</td>\n",
              "      <td>NaN</td>\n",
              "      <td>NaN</td>\n",
              "      <td>NaN</td>\n",
              "      <td>NaN</td>\n",
              "      <td>1.000000</td>\n",
              "      <td>200.000000</td>\n",
              "      <td>NaN</td>\n",
              "      <td>NaN</td>\n",
              "      <td>...</td>\n",
              "      <td>2013-01-14 00:00:00</td>\n",
              "      <td>-335.000000</td>\n",
              "      <td>NaN</td>\n",
              "      <td>NaN</td>\n",
              "      <td>-1748.510000</td>\n",
              "      <td>NaN</td>\n",
              "      <td>NaN</td>\n",
              "      <td>0.000000</td>\n",
              "      <td>0.000000</td>\n",
              "      <td>-67726.830000</td>\n",
              "    </tr>\n",
              "    <tr>\n",
              "      <th>25%</th>\n",
              "      <td>NaN</td>\n",
              "      <td>NaN</td>\n",
              "      <td>NaN</td>\n",
              "      <td>NaN</td>\n",
              "      <td>NaN</td>\n",
              "      <td>NaN</td>\n",
              "      <td>209.000000</td>\n",
              "      <td>325.000000</td>\n",
              "      <td>NaN</td>\n",
              "      <td>NaN</td>\n",
              "      <td>...</td>\n",
              "      <td>2015-04-23 00:00:00</td>\n",
              "      <td>29.000000</td>\n",
              "      <td>NaN</td>\n",
              "      <td>NaN</td>\n",
              "      <td>46.460000</td>\n",
              "      <td>NaN</td>\n",
              "      <td>NaN</td>\n",
              "      <td>5.000000</td>\n",
              "      <td>46.360000</td>\n",
              "      <td>0.000000</td>\n",
              "    </tr>\n",
              "    <tr>\n",
              "      <th>50%</th>\n",
              "      <td>NaN</td>\n",
              "      <td>NaN</td>\n",
              "      <td>NaN</td>\n",
              "      <td>NaN</td>\n",
              "      <td>NaN</td>\n",
              "      <td>NaN</td>\n",
              "      <td>273.000000</td>\n",
              "      <td>396.000000</td>\n",
              "      <td>NaN</td>\n",
              "      <td>NaN</td>\n",
              "      <td>...</td>\n",
              "      <td>2017-11-23 00:00:00</td>\n",
              "      <td>30.000000</td>\n",
              "      <td>NaN</td>\n",
              "      <td>NaN</td>\n",
              "      <td>197.360000</td>\n",
              "      <td>NaN</td>\n",
              "      <td>NaN</td>\n",
              "      <td>26.000000</td>\n",
              "      <td>196.350000</td>\n",
              "      <td>0.000000</td>\n",
              "    </tr>\n",
              "    <tr>\n",
              "      <th>75%</th>\n",
              "      <td>NaN</td>\n",
              "      <td>NaN</td>\n",
              "      <td>NaN</td>\n",
              "      <td>NaN</td>\n",
              "      <td>NaN</td>\n",
              "      <td>NaN</td>\n",
              "      <td>338.000000</td>\n",
              "      <td>637.000000</td>\n",
              "      <td>NaN</td>\n",
              "      <td>NaN</td>\n",
              "      <td>...</td>\n",
              "      <td>2020-02-09 00:00:00</td>\n",
              "      <td>32.000000</td>\n",
              "      <td>NaN</td>\n",
              "      <td>NaN</td>\n",
              "      <td>2598.415000</td>\n",
              "      <td>NaN</td>\n",
              "      <td>NaN</td>\n",
              "      <td>236.000000</td>\n",
              "      <td>2575.520000</td>\n",
              "      <td>0.000000</td>\n",
              "    </tr>\n",
              "    <tr>\n",
              "      <th>max</th>\n",
              "      <td>NaN</td>\n",
              "      <td>NaN</td>\n",
              "      <td>NaN</td>\n",
              "      <td>NaN</td>\n",
              "      <td>NaN</td>\n",
              "      <td>NaN</td>\n",
              "      <td>559.000000</td>\n",
              "      <td>999.000000</td>\n",
              "      <td>NaN</td>\n",
              "      <td>NaN</td>\n",
              "      <td>...</td>\n",
              "      <td>2023-01-27 00:00:00</td>\n",
              "      <td>6968.000000</td>\n",
              "      <td>NaN</td>\n",
              "      <td>NaN</td>\n",
              "      <td>392036.460000</td>\n",
              "      <td>NaN</td>\n",
              "      <td>NaN</td>\n",
              "      <td>434200.000000</td>\n",
              "      <td>392036.460000</td>\n",
              "      <td>77796.690000</td>\n",
              "    </tr>\n",
              "    <tr>\n",
              "      <th>std</th>\n",
              "      <td>NaN</td>\n",
              "      <td>NaN</td>\n",
              "      <td>NaN</td>\n",
              "      <td>NaN</td>\n",
              "      <td>NaN</td>\n",
              "      <td>NaN</td>\n",
              "      <td>101.505109</td>\n",
              "      <td>185.109210</td>\n",
              "      <td>NaN</td>\n",
              "      <td>NaN</td>\n",
              "      <td>...</td>\n",
              "      <td>NaN</td>\n",
              "      <td>53.279154</td>\n",
              "      <td>NaN</td>\n",
              "      <td>NaN</td>\n",
              "      <td>5623.852543</td>\n",
              "      <td>NaN</td>\n",
              "      <td>NaN</td>\n",
              "      <td>2020.962056</td>\n",
              "      <td>5619.812518</td>\n",
              "      <td>607.714232</td>\n",
              "    </tr>\n",
              "  </tbody>\n",
              "</table>\n",
              "<p>11 rows × 25 columns</p>\n",
              "</div>\n",
              "    <div class=\"colab-df-buttons\">\n",
              "\n",
              "  <div class=\"colab-df-container\">\n",
              "    <button class=\"colab-df-convert\" onclick=\"convertToInteractive('df-a648e9d7-badb-4ed4-80ef-5b611ce30090')\"\n",
              "            title=\"Convert this dataframe to an interactive table.\"\n",
              "            style=\"display:none;\">\n",
              "\n",
              "  <svg xmlns=\"http://www.w3.org/2000/svg\" height=\"24px\" viewBox=\"0 -960 960 960\">\n",
              "    <path d=\"M120-120v-720h720v720H120Zm60-500h600v-160H180v160Zm220 220h160v-160H400v160Zm0 220h160v-160H400v160ZM180-400h160v-160H180v160Zm440 0h160v-160H620v160ZM180-180h160v-160H180v160Zm440 0h160v-160H620v160Z\"/>\n",
              "  </svg>\n",
              "    </button>\n",
              "\n",
              "  <style>\n",
              "    .colab-df-container {\n",
              "      display:flex;\n",
              "      gap: 12px;\n",
              "    }\n",
              "\n",
              "    .colab-df-convert {\n",
              "      background-color: #E8F0FE;\n",
              "      border: none;\n",
              "      border-radius: 50%;\n",
              "      cursor: pointer;\n",
              "      display: none;\n",
              "      fill: #1967D2;\n",
              "      height: 32px;\n",
              "      padding: 0 0 0 0;\n",
              "      width: 32px;\n",
              "    }\n",
              "\n",
              "    .colab-df-convert:hover {\n",
              "      background-color: #E2EBFA;\n",
              "      box-shadow: 0px 1px 2px rgba(60, 64, 67, 0.3), 0px 1px 3px 1px rgba(60, 64, 67, 0.15);\n",
              "      fill: #174EA6;\n",
              "    }\n",
              "\n",
              "    .colab-df-buttons div {\n",
              "      margin-bottom: 4px;\n",
              "    }\n",
              "\n",
              "    [theme=dark] .colab-df-convert {\n",
              "      background-color: #3B4455;\n",
              "      fill: #D2E3FC;\n",
              "    }\n",
              "\n",
              "    [theme=dark] .colab-df-convert:hover {\n",
              "      background-color: #434B5C;\n",
              "      box-shadow: 0px 1px 3px 1px rgba(0, 0, 0, 0.15);\n",
              "      filter: drop-shadow(0px 1px 2px rgba(0, 0, 0, 0.3));\n",
              "      fill: #FFFFFF;\n",
              "    }\n",
              "  </style>\n",
              "\n",
              "    <script>\n",
              "      const buttonEl =\n",
              "        document.querySelector('#df-a648e9d7-badb-4ed4-80ef-5b611ce30090 button.colab-df-convert');\n",
              "      buttonEl.style.display =\n",
              "        google.colab.kernel.accessAllowed ? 'block' : 'none';\n",
              "\n",
              "      async function convertToInteractive(key) {\n",
              "        const element = document.querySelector('#df-a648e9d7-badb-4ed4-80ef-5b611ce30090');\n",
              "        const dataTable =\n",
              "          await google.colab.kernel.invokeFunction('convertToInteractive',\n",
              "                                                    [key], {});\n",
              "        if (!dataTable) return;\n",
              "\n",
              "        const docLinkHtml = 'Like what you see? Visit the ' +\n",
              "          '<a target=\"_blank\" href=https://colab.research.google.com/notebooks/data_table.ipynb>data table notebook</a>'\n",
              "          + ' to learn more about interactive tables.';\n",
              "        element.innerHTML = '';\n",
              "        dataTable['output_type'] = 'display_data';\n",
              "        await google.colab.output.renderOutput(dataTable, element);\n",
              "        const docLink = document.createElement('div');\n",
              "        docLink.innerHTML = docLinkHtml;\n",
              "        element.appendChild(docLink);\n",
              "      }\n",
              "    </script>\n",
              "  </div>\n",
              "\n",
              "\n",
              "<div id=\"df-8fe07aa9-aa67-4da4-be87-d8e707c1230a\">\n",
              "  <button class=\"colab-df-quickchart\" onclick=\"quickchart('df-8fe07aa9-aa67-4da4-be87-d8e707c1230a')\"\n",
              "            title=\"Suggest charts\"\n",
              "            style=\"display:none;\">\n",
              "\n",
              "<svg xmlns=\"http://www.w3.org/2000/svg\" height=\"24px\"viewBox=\"0 0 24 24\"\n",
              "     width=\"24px\">\n",
              "    <g>\n",
              "        <path d=\"M19 3H5c-1.1 0-2 .9-2 2v14c0 1.1.9 2 2 2h14c1.1 0 2-.9 2-2V5c0-1.1-.9-2-2-2zM9 17H7v-7h2v7zm4 0h-2V7h2v10zm4 0h-2v-4h2v4z\"/>\n",
              "    </g>\n",
              "</svg>\n",
              "  </button>\n",
              "\n",
              "<style>\n",
              "  .colab-df-quickchart {\n",
              "      --bg-color: #E8F0FE;\n",
              "      --fill-color: #1967D2;\n",
              "      --hover-bg-color: #E2EBFA;\n",
              "      --hover-fill-color: #174EA6;\n",
              "      --disabled-fill-color: #AAA;\n",
              "      --disabled-bg-color: #DDD;\n",
              "  }\n",
              "\n",
              "  [theme=dark] .colab-df-quickchart {\n",
              "      --bg-color: #3B4455;\n",
              "      --fill-color: #D2E3FC;\n",
              "      --hover-bg-color: #434B5C;\n",
              "      --hover-fill-color: #FFFFFF;\n",
              "      --disabled-bg-color: #3B4455;\n",
              "      --disabled-fill-color: #666;\n",
              "  }\n",
              "\n",
              "  .colab-df-quickchart {\n",
              "    background-color: var(--bg-color);\n",
              "    border: none;\n",
              "    border-radius: 50%;\n",
              "    cursor: pointer;\n",
              "    display: none;\n",
              "    fill: var(--fill-color);\n",
              "    height: 32px;\n",
              "    padding: 0;\n",
              "    width: 32px;\n",
              "  }\n",
              "\n",
              "  .colab-df-quickchart:hover {\n",
              "    background-color: var(--hover-bg-color);\n",
              "    box-shadow: 0 1px 2px rgba(60, 64, 67, 0.3), 0 1px 3px 1px rgba(60, 64, 67, 0.15);\n",
              "    fill: var(--button-hover-fill-color);\n",
              "  }\n",
              "\n",
              "  .colab-df-quickchart-complete:disabled,\n",
              "  .colab-df-quickchart-complete:disabled:hover {\n",
              "    background-color: var(--disabled-bg-color);\n",
              "    fill: var(--disabled-fill-color);\n",
              "    box-shadow: none;\n",
              "  }\n",
              "\n",
              "  .colab-df-spinner {\n",
              "    border: 2px solid var(--fill-color);\n",
              "    border-color: transparent;\n",
              "    border-bottom-color: var(--fill-color);\n",
              "    animation:\n",
              "      spin 1s steps(1) infinite;\n",
              "  }\n",
              "\n",
              "  @keyframes spin {\n",
              "    0% {\n",
              "      border-color: transparent;\n",
              "      border-bottom-color: var(--fill-color);\n",
              "      border-left-color: var(--fill-color);\n",
              "    }\n",
              "    20% {\n",
              "      border-color: transparent;\n",
              "      border-left-color: var(--fill-color);\n",
              "      border-top-color: var(--fill-color);\n",
              "    }\n",
              "    30% {\n",
              "      border-color: transparent;\n",
              "      border-left-color: var(--fill-color);\n",
              "      border-top-color: var(--fill-color);\n",
              "      border-right-color: var(--fill-color);\n",
              "    }\n",
              "    40% {\n",
              "      border-color: transparent;\n",
              "      border-right-color: var(--fill-color);\n",
              "      border-top-color: var(--fill-color);\n",
              "    }\n",
              "    60% {\n",
              "      border-color: transparent;\n",
              "      border-right-color: var(--fill-color);\n",
              "    }\n",
              "    80% {\n",
              "      border-color: transparent;\n",
              "      border-right-color: var(--fill-color);\n",
              "      border-bottom-color: var(--fill-color);\n",
              "    }\n",
              "    90% {\n",
              "      border-color: transparent;\n",
              "      border-bottom-color: var(--fill-color);\n",
              "    }\n",
              "  }\n",
              "</style>\n",
              "\n",
              "  <script>\n",
              "    async function quickchart(key) {\n",
              "      const quickchartButtonEl =\n",
              "        document.querySelector('#' + key + ' button');\n",
              "      quickchartButtonEl.disabled = true;  // To prevent multiple clicks.\n",
              "      quickchartButtonEl.classList.add('colab-df-spinner');\n",
              "      try {\n",
              "        const charts = await google.colab.kernel.invokeFunction(\n",
              "            'suggestCharts', [key], {});\n",
              "      } catch (error) {\n",
              "        console.error('Error during call to suggestCharts:', error);\n",
              "      }\n",
              "      quickchartButtonEl.classList.remove('colab-df-spinner');\n",
              "      quickchartButtonEl.classList.add('colab-df-quickchart-complete');\n",
              "    }\n",
              "    (() => {\n",
              "      let quickchartButtonEl =\n",
              "        document.querySelector('#df-8fe07aa9-aa67-4da4-be87-d8e707c1230a button');\n",
              "      quickchartButtonEl.style.display =\n",
              "        google.colab.kernel.accessAllowed ? 'block' : 'none';\n",
              "    })();\n",
              "  </script>\n",
              "</div>\n",
              "\n",
              "    </div>\n",
              "  </div>\n"
            ],
            "application/vnd.google.colaboratory.intrinsic+json": {
              "type": "dataframe"
            }
          },
          "metadata": {},
          "execution_count": 33
        }
      ]
    },
    {
      "cell_type": "markdown",
      "source": [
        "***Limpieza, Transformación y Normalización de Datos Categóricos***"
      ],
      "metadata": {
        "id": "lOD4vVHLDRlW"
      }
    },
    {
      "cell_type": "markdown",
      "source": [
        "Para este proceso de limpieza y transformación, se verificó primero el número de valores únicos en cada una de las columnas de tipo Category."
      ],
      "metadata": {
        "id": "eJsW8LrdDWSl"
      }
    },
    {
      "cell_type": "code",
      "source": [
        "for col in ['developmentname', 'borough', 'accountname', 'location', 'meteramr', 'meterscope', 'fundingsource', 'vendorname', 'rateclass']:\n",
        "    print(f\"Valores únicos en {col}: {df[col].value_counts()}\")\n",
        "    print(\"\\n\")"
      ],
      "metadata": {
        "colab": {
          "base_uri": "https://localhost:8080/"
        },
        "id": "crNSn4U8Dvyu",
        "outputId": "37fd8237-08e9-4ba8-c2b7-94d826f07b5a"
      },
      "execution_count": null,
      "outputs": [
        {
          "output_type": "stream",
          "name": "stdout",
          "text": [
            "Valores únicos en developmentname: developmentname\n",
            "FHA REPOSSESSED HOUSES (GROUP V)            4825\n",
            "SAMUEL (CITY)                               3938\n",
            "FHA REPOSSESSED HOUSES (GROUP I)            3739\n",
            "FHA REPOSSESSED HOUSES (GROUP X)            3037\n",
            "SOUTH JAMAICA II                            2602\n",
            "                                            ... \n",
            "EDENWALD                                      11\n",
            "BRYANT AVENUE-EAST 174TH STREET               10\n",
            "EAST 152ND STREET-COURTLANDT AVENUE            9\n",
            "WEST TREMONT AVENUE-SEDGWICK AVENUE AREA       6\n",
            "FIRST HOUSES                                   1\n",
            "Name: count, Length: 110, dtype: int64\n",
            "\n",
            "\n",
            "Valores únicos en borough: borough\n",
            "FHA                         23460\n",
            "BROOKLYN                     9072\n",
            "MANHATTAN                    8208\n",
            "BRONX                        4908\n",
            "QUEENS                       4474\n",
            "STATEN ISLAND                 133\n",
            "NON DEVELOPMENT FACILITY       60\n",
            "Name: count, dtype: int64\n",
            "\n",
            "\n",
            "Valores únicos en accountname: accountname\n",
            "FHA REPOSSESSED HOUSES (GROUP V)              4759\n",
            "SAMUEL (CITY)                                 3938\n",
            "FHA REPOSSESSED HOUSES (GROUP I)              3599\n",
            "FHA REPOSSESSED HOUSES (GROUP X)              3031\n",
            "SOUTH JAMAICA II                              2602\n",
            "                                              ... \n",
            "ZZ_SOLD_FHA REPOSSESSED HOUSES (GROUP X)         6\n",
            "ZZ_SOLD_FHA REPOSSESSED HOUSES (GROUP I)         3\n",
            "ZZ_SOLD_FHA REPOSSESSED HOUSES (GROUP IV)        3\n",
            "ZZ_SOLD_FHA REPOSSESSED HOUSES (GROUP VII)       3\n",
            "FIRST HOUSES                                     1\n",
            "Name: count, Length: 117, dtype: int64\n",
            "\n",
            "\n",
            "Valores únicos en location: location\n",
            "BLD 01                 5287\n",
            "BLD 03                 2472\n",
            "BLD 02                 2082\n",
            "BLD 04                 1925\n",
            "BLD 05                 1452\n",
            "                       ... \n",
            "BLD 5                     9\n",
            "BLD16 - STORE 35-36       4\n",
            "BLD 7                     1\n",
            "BLD 8                     1\n",
            "BLD02 - STORE 6 & 7       1\n",
            "Name: count, Length: 305, dtype: int64\n",
            "\n",
            "\n",
            "Valores únicos en meteramr: meteramr\n",
            "AMR               44292\n",
            "NONE               5983\n",
            "Not Applicable       40\n",
            "Name: count, dtype: int64\n",
            "\n",
            "\n",
            "Valores únicos en meterscope: meterscope\n",
            "Community Center       38761\n",
            "STORE 01-02              898\n",
            "BLD 01                   787\n",
            "BLD 05                   723\n",
            "BLD 02                   706\n",
            "BLD 04                   693\n",
            "BLD 03                   616\n",
            "BLD 06                   376\n",
            "STORE 01                 351\n",
            "BLD 14                   340\n",
            "BLD 18                   338\n",
            "BLD 17                   335\n",
            "BLD 13                   331\n",
            "BLD 07                   319\n",
            "BLD 09                   315\n",
            "BLD 08                   312\n",
            "BLD 15                   276\n",
            "BLD 12                   274\n",
            "BLD 16                   268\n",
            "BLD 10                   173\n",
            "BLD 11                   166\n",
            "BLD 22                   139\n",
            "BLD 02, STORE 04-05      139\n",
            "BLD 25                   139\n",
            "BLD 27                   138\n",
            "BLD 20                   138\n",
            "BLD 23                   138\n",
            "BLD 03 - STORE 2-4       137\n",
            "BLD 21                   136\n",
            "BLD 1,2                  136\n",
            "STORE 14-20              136\n",
            "BLD 19                   131\n",
            "BLD 02-03                130\n",
            "STORE 01-06,08-09        129\n",
            "STORE 23-26              124\n",
            "BLD 01, STORE 01-03      123\n",
            "BLD 24                   122\n",
            "STORE 20-21              120\n",
            "BLD 26                   118\n",
            "BLD 01 - STORE 1-2       107\n",
            "BOILER PLANT             106\n",
            "STORE 08                  74\n",
            "STORE 48-50               59\n",
            "Lot                       34\n",
            "STORE 16                  31\n",
            "STORE 18                  31\n",
            "STORE 02                  27\n",
            "STORE 06                  18\n",
            "STORE 12                  18\n",
            "STORE 13                  18\n",
            "STORE 10                  13\n",
            "STORE 22                  13\n",
            "STORE 11                  12\n",
            "STORE 04                   8\n",
            "STORE 05                   6\n",
            "STORE 20                   4\n",
            "STORE 17                   2\n",
            "STORE 21                   2\n",
            "STORE 05-06                1\n",
            "Name: count, dtype: int64\n",
            "\n",
            "\n",
            "Valores únicos en fundingsource: fundingsource\n",
            "FEDERAL               45422\n",
            "MIXED FINANCE/LLC1     4132\n",
            "MHOP                    556\n",
            "MIXED FINANCE/LLC2      118\n",
            "NON-DEVELOPMENT          60\n",
            "SECTION 8                27\n",
            "Name: count, dtype: int64\n",
            "\n",
            "\n",
            "Valores únicos en vendorname: vendorname\n",
            "NEW YORK CITY WATER BOARD    50315\n",
            "Name: count, dtype: int64\n",
            "\n",
            "\n",
            "Valores únicos en rateclass: rateclass\n",
            "BASIC WATER AND SEWER         50211\n",
            "HOT OR COLD WATER IN STORE       90\n",
            "COMMERCIAL                        9\n",
            "WATER-METER                       3\n",
            "MULTIFAMILY                       2\n",
            "Name: count, dtype: int64\n",
            "\n",
            "\n"
          ]
        }
      ]
    },
    {
      "cell_type": "markdown",
      "source": [
        "Tras la verificación, se procedió a renombrar algunos datos. En este caso, se cambió 'Basic Water and Sewer' en la columna rateclass."
      ],
      "metadata": {
        "id": "Qj6o52SWGhr6"
      }
    },
    {
      "cell_type": "code",
      "source": [
        "df['rateclass'] = df['rateclass'].rename({'Basic Water and Sewer':'BASIC WATER AND SEWER'})"
      ],
      "metadata": {
        "id": "pwqzXVFdGiI-"
      },
      "execution_count": null,
      "outputs": []
    },
    {
      "cell_type": "markdown",
      "source": [
        "Se volvió a verificar los valores únicos."
      ],
      "metadata": {
        "id": "7S9AifwMVrhx"
      }
    },
    {
      "cell_type": "code",
      "source": [
        "print(df['rateclass'].unique())"
      ],
      "metadata": {
        "colab": {
          "base_uri": "https://localhost:8080/"
        },
        "id": "V53Q6-zpRbx3",
        "outputId": "222069d2-3575-4397-dfc7-6a9ef772bd1c"
      },
      "execution_count": null,
      "outputs": [
        {
          "output_type": "stream",
          "name": "stdout",
          "text": [
            "['BASIC WATER AND SEWER', 'MULTIFAMILY', 'WATER-METER', 'COMMERCIAL', 'HOT OR COLD WATER IN STORE']\n",
            "Categories (5, object): ['BASIC WATER AND SEWER', 'COMMERCIAL', 'HOT OR COLD WATER IN STORE', 'MULTIFAMILY',\n",
            "                         'WATER-METER']\n"
          ]
        }
      ]
    },
    {
      "cell_type": "markdown",
      "source": [
        "Se realizó un conteo de los valores únicos."
      ],
      "metadata": {
        "id": "i4Ny6GiFVxo1"
      }
    },
    {
      "cell_type": "code",
      "source": [
        "print(df['rateclass'].value_counts())"
      ],
      "metadata": {
        "colab": {
          "base_uri": "https://localhost:8080/"
        },
        "id": "6yuUPUGsQ601",
        "outputId": "75783e05-0286-4be8-9b95-db84cec26379"
      },
      "execution_count": null,
      "outputs": [
        {
          "output_type": "stream",
          "name": "stdout",
          "text": [
            "rateclass\n",
            "BASIC WATER AND SEWER         50211\n",
            "HOT OR COLD WATER IN STORE       90\n",
            "COMMERCIAL                        9\n",
            "WATER-METER                       3\n",
            "MULTIFAMILY                       2\n",
            "Name: count, dtype: int64\n"
          ]
        }
      ]
    },
    {
      "cell_type": "markdown",
      "source": [
        "En la columna meterscope, se renombraron los valores correspondientes a 'Community Center' y 'Lot'."
      ],
      "metadata": {
        "id": "pDw8RxIVKWgE"
      }
    },
    {
      "cell_type": "code",
      "source": [
        "df['meterscope'] = df['meterscope'].replace({'Community Center':'COMMUNITY CENTER'})\n",
        "df['meterscope'] = df['meterscope'].replace({'Lot':'LOT'})"
      ],
      "metadata": {
        "colab": {
          "base_uri": "https://localhost:8080/"
        },
        "id": "qYo6dyYdKfzi",
        "outputId": "9cf32f13-74e5-488e-df1f-c8e80a19e963"
      },
      "execution_count": null,
      "outputs": [
        {
          "output_type": "stream",
          "name": "stderr",
          "text": [
            "<ipython-input-214-c1f76ee6ef3e>:2: FutureWarning: The behavior of Series.replace (and DataFrame.replace) with CategoricalDtype is deprecated. In a future version, replace will only be used for cases that preserve the categories. To change the categories, use ser.cat.rename_categories instead.\n",
            "  df['meterscope'] = df['meterscope'].replace({'Lot':'LOT'})\n"
          ]
        }
      ]
    },
    {
      "cell_type": "markdown",
      "source": [
        "Se verificaron los valores únicos."
      ],
      "metadata": {
        "id": "7FY_06nTWcs5"
      }
    },
    {
      "cell_type": "code",
      "source": [
        "print(df['meterscope'].unique())"
      ],
      "metadata": {
        "colab": {
          "base_uri": "https://localhost:8080/"
        },
        "id": "GAjIJS7VRs_D",
        "outputId": "da7794d1-eef9-40de-b24b-78c191508a85"
      },
      "execution_count": null,
      "outputs": [
        {
          "output_type": "stream",
          "name": "stdout",
          "text": [
            "['COMMUNITY CENTER', 'BLD 09', 'BLD 02', 'BLD 04', 'BLD 03', ..., 'STORE 13', 'STORE 16', 'STORE 10', 'STORE 11', 'STORE 12']\n",
            "Length: 59\n",
            "Categories (59, object): ['BLD 01', 'BLD 01 - STORE 1-2', 'BLD 01, STORE 01-03', 'BLD 02', ...,\n",
            "                          'STORE 21', 'STORE 22', 'STORE 23-26', 'STORE 48-50']\n"
          ]
        }
      ]
    },
    {
      "cell_type": "markdown",
      "source": [
        "Se realizó un conteo de los valores únicos."
      ],
      "metadata": {
        "id": "uXR78RJTWlWJ"
      }
    },
    {
      "cell_type": "code",
      "source": [
        "print(df['meterscope'].value_counts())"
      ],
      "metadata": {
        "colab": {
          "base_uri": "https://localhost:8080/"
        },
        "id": "OTMN_Zw7RkH7",
        "outputId": "da5b0340-6112-4fdd-adba-1203affbbc36"
      },
      "execution_count": null,
      "outputs": [
        {
          "output_type": "stream",
          "name": "stdout",
          "text": [
            "meterscope\n",
            "COMMUNITY CENTER       38761\n",
            "STORE 01-02              898\n",
            "BLD 01                   787\n",
            "BLD 05                   723\n",
            "BLD 02                   706\n",
            "BLD 04                   693\n",
            "BLD 03                   616\n",
            "BLD 06                   376\n",
            "STORE 01                 351\n",
            "BLD 14                   340\n",
            "BLD 18                   338\n",
            "BLD 17                   335\n",
            "BLD 13                   331\n",
            "BLD 07                   319\n",
            "BLD 09                   315\n",
            "BLD 08                   312\n",
            "BLD 15                   276\n",
            "BLD 12                   274\n",
            "BLD 16                   268\n",
            "BLD 10                   173\n",
            "BLD 11                   166\n",
            "BLD 22                   139\n",
            "BLD 02, STORE 04-05      139\n",
            "BLD 25                   139\n",
            "BLD 27                   138\n",
            "BLD 20                   138\n",
            "BLD 23                   138\n",
            "BLD 03 - STORE 2-4       137\n",
            "BLD 21                   136\n",
            "BLD 1,2                  136\n",
            "STORE 14-20              136\n",
            "BLD 19                   131\n",
            "BLD 02-03                130\n",
            "STORE 01-06,08-09        129\n",
            "STORE 23-26              124\n",
            "BLD 01, STORE 01-03      123\n",
            "BLD 24                   122\n",
            "STORE 20-21              120\n",
            "BLD 26                   118\n",
            "BLD 01 - STORE 1-2       107\n",
            "BOILER PLANT             106\n",
            "STORE 08                  74\n",
            "STORE 48-50               59\n",
            "LOT                       34\n",
            "STORE 16                  31\n",
            "STORE 18                  31\n",
            "STORE 02                  27\n",
            "STORE 06                  18\n",
            "STORE 12                  18\n",
            "STORE 13                  18\n",
            "STORE 10                  13\n",
            "STORE 22                  13\n",
            "STORE 11                  12\n",
            "STORE 04                   8\n",
            "STORE 05                   6\n",
            "STORE 20                   4\n",
            "STORE 17                   2\n",
            "STORE 21                   2\n",
            "STORE 05-06                1\n",
            "Name: count, dtype: int64\n"
          ]
        }
      ]
    },
    {
      "cell_type": "markdown",
      "source": [
        "A continuación, se continuó con el proceso de renombramiento en la columna meteramr, específicamente para los datos marcados como Not Applicable."
      ],
      "metadata": {
        "id": "VmGisOHaPRas"
      }
    },
    {
      "cell_type": "code",
      "source": [
        "df['meteramr'] = df['meteramr'].replace({'Not Applicable':'NOT APPLICABLE'})"
      ],
      "metadata": {
        "colab": {
          "base_uri": "https://localhost:8080/"
        },
        "id": "MpYBJDBbPXYz",
        "outputId": "da6c6e0d-bd69-49cb-bded-434d4a8b8354"
      },
      "execution_count": null,
      "outputs": [
        {
          "output_type": "stream",
          "name": "stderr",
          "text": [
            "<ipython-input-204-e10e0fe17a97>:1: FutureWarning: The behavior of Series.replace (and DataFrame.replace) with CategoricalDtype is deprecated. In a future version, replace will only be used for cases that preserve the categories. To change the categories, use ser.cat.rename_categories instead.\n",
            "  df['meteramr'] = df['meteramr'].replace({'Not Applicable':'NOT APPLICABLE'})\n"
          ]
        }
      ]
    },
    {
      "cell_type": "markdown",
      "source": [
        "Se verificaron los valores únicos."
      ],
      "metadata": {
        "id": "klgiQPiBXPSF"
      }
    },
    {
      "cell_type": "code",
      "source": [
        "print(df['meteramr'].unique())"
      ],
      "metadata": {
        "colab": {
          "base_uri": "https://localhost:8080/"
        },
        "id": "KkxmXWc2SAve",
        "outputId": "73d55029-a75a-4b07-b3db-10a5358bb4c9"
      },
      "execution_count": null,
      "outputs": [
        {
          "output_type": "stream",
          "name": "stdout",
          "text": [
            "['AMR', 'NONE', 'NOT APPLICABLE']\n",
            "Categories (3, object): ['AMR', 'NONE', 'NOT APPLICABLE']\n"
          ]
        }
      ]
    },
    {
      "cell_type": "markdown",
      "source": [
        "Se realizó el conteo de los valores únicos."
      ],
      "metadata": {
        "id": "EGdPh1LfXSs2"
      }
    },
    {
      "cell_type": "code",
      "source": [
        "print(df['meteramr'].value_counts())"
      ],
      "metadata": {
        "colab": {
          "base_uri": "https://localhost:8080/"
        },
        "id": "yNFTVW4ZSEfm",
        "outputId": "136151c4-9951-4588-e8ef-14da60e5c96a"
      },
      "execution_count": null,
      "outputs": [
        {
          "output_type": "stream",
          "name": "stdout",
          "text": [
            "meteramr\n",
            "AMR               44292\n",
            "NONE               5983\n",
            "NOT APPLICABLE       40\n",
            "Name: count, dtype: int64\n"
          ]
        }
      ]
    },
    {
      "cell_type": "markdown",
      "source": [
        "Por último, para la columna location, se renombraron los valores 'Lot' y, utilizando una expresión regular, se actualizaron los valores que terminan con 'Community Center'."
      ],
      "metadata": {
        "id": "uzHfC4AvS0hL"
      }
    },
    {
      "cell_type": "code",
      "source": [
        "df['location'] = df['location'].replace({'Lot':'LOT'})\n",
        "df['location'] = df['location'].str.replace(r'Community Center$', 'COMMUNITY CENTER', regex=True)"
      ],
      "metadata": {
        "id": "_yxQMudJS2dJ"
      },
      "execution_count": null,
      "outputs": []
    },
    {
      "cell_type": "markdown",
      "source": [
        "Se verificaron los valores únicos."
      ],
      "metadata": {
        "id": "38E6OYgqYAQh"
      }
    },
    {
      "cell_type": "code",
      "source": [
        "print(df['location'].unique())"
      ],
      "metadata": {
        "colab": {
          "base_uri": "https://localhost:8080/"
        },
        "id": "JlWEOJzKUVtd",
        "outputId": "ef1c0090-85a9-4249-cfd8-781e04090abc"
      },
      "execution_count": null,
      "outputs": [
        {
          "output_type": "stream",
          "name": "stdout",
          "text": [
            "['BLD 02' 'BLD 09' 'BLD 25 - COMMUNITY CENTER' 'BLD 04' 'BLD 03' 'BLD 01'\n",
            " 'BLD 06' 'BLD 07' 'BLD 15' 'BLD 13' 'BLD 11' 'BLD 08' 'BLD 18' 'BLD 16'\n",
            " 'BLD 10' 'BLD 14' 'BLD 12' 'BLD 05' 'BLD 17' '202-06 116TH AVENUE'\n",
            " '148-13 SUTTER AVENUE' '1502 BEACH 12TH STREET' '114-22 166TH STREET'\n",
            " '132-19 BENNETT COURT' '143-03 105TH AVENUE' '104-06 FARMERS BOULEVARD'\n",
            " '150-36 116TH ROAD' '118-03 204TH STREET' '178-14 BAISLEY BOULEVARD'\n",
            " '194-17 114TH DRIVE' '132-33 218TH STREET' '1504 BEACH 12TH STREET'\n",
            " '114-69 145TH STREET' '218-34 119TH AVENUE' '187-24 KEESEVILLE AVENUE'\n",
            " '213-24 NASHVILLE BOULEVARD' '117-22 133RD STREET'\n",
            " '137-22 WESTGATE STREET' '114-11 130TH STREET' '130-34 147TH STREET'\n",
            " '104-33 203RD STREET' '138-11 LINDEN BOULEVARD' '171-28 111TH AVENUE'\n",
            " '110-16 207TH STREET' '114-42 139TH STREET' '133-11 148TH STREET'\n",
            " '215-32 112TH AVENUE' '126-01 116TH AVENUE' '69-33 BAYFIELD AVENUE'\n",
            " '444 TORRY AVENUE' '223-20 FRANCIS LEWIS BOULEVARD' '105-11 171ST PLACE'\n",
            " '113-14 196TH STREET' '110-26 216TH STREET' '129-04 142ND STREET'\n",
            " '111-32 209TH STREET' '115-52 147TH STREET' '138-17 230TH PLACE'\n",
            " '144-23 166TH STREET' '100-38 FRANCIS LEWIS BOULEVARD'\n",
            " '188-23 LEWISTON AVENUE' '115-27 208TH STREET' '115-21 135TH STREET'\n",
            " '148-06 133RD AVENUE' '209-47 112TH AVENUE' '3027 EDSON AVENUE'\n",
            " '99-19 194TH STREET' '197-22 122ND AVENUE' '119-44 INWOOD STREET'\n",
            " '190-18 119TH AVENUE' '120-56 233RD STREET' '447 EFFINGHAM AVENUE'\n",
            " '107-27 132ND STREET' '113-32 205TH STREET' '119-12 219TH STREET'\n",
            " '209-26 NASHVILLE BOULEVARD' '111-20 205TH STREET'\n",
            " '186-10 FOCH BOULEVARD' '184-20 EDGEWOOD AVENUE' '353 BERRIMAN STREET'\n",
            " '458 ATKINS AVENUE' '367 DOUGLASS STREET' '182 ADELPHI STREET'\n",
            " '349 BERRIMAN STREET' '140 EAST 91ST STREET' '110 WAVERLY AVENUE'\n",
            " '71 WAVERLY AVENUE' '75 WAVERLY AVENUE' '359 BERRIMAN STREET'\n",
            " '341 BERRIMAN STREET' '173-09 143RD ROAD' '165-17 116TH AVENUE'\n",
            " '205-20 112TH AVENUE' '124-18 135TH PLACE' '131-41 135TH PLACE'\n",
            " '120-26 178TH STREET' '107-29 164TH STREET' '190-15 109TH ROAD'\n",
            " '194-47 115TH AVENUE' '116-17 FARMERS BOULEVARD' '144-29 105TH AVENUE'\n",
            " '108-15 164TH PLACE' '110-15 169TH STREET' '109-20 212TH STREET'\n",
            " '134-17 120TH AVENUE' '137-24 219TH STREET' '163-34 CLAUDE AVENUE'\n",
            " '174-36 126TH AVENUE' '102-36 187TH STREET' '115-22 210TH STREET'\n",
            " '198-15 116TH AVENUE' '184-12 GALWAY AVENUE' '113-30 200th Street'\n",
            " '111-21 LIVERPOOL STREET' '219-30 102ND AVENUE' '112-22 198TH STREET'\n",
            " '119-01 146TH STREET' '142-06 FOCH BOULEVARD' '104-28 209TH STREET'\n",
            " '133-24 135TH PLACE' '117-37 192ND STREET' '117-11 192ND STREET'\n",
            " '113-44 SPRINGFIELD BOULEVARD' '104-14 164TH PLACE' '114-44 198TH STREET'\n",
            " '117-24 143RD STREET' '116-31 FARMERS BOULEVARD'\n",
            " '105-36 FARMERS BOULEVARD' '180-15 144TH AVENUE' '146-23 176TH STREET'\n",
            " '122-28 191ST STREET' '129-37 132ND STREET' '117-11 143RD STREET'\n",
            " '118-15 199TH STREET' '114-42 200TH STREET' '219-30 MURDOCK AVENUE'\n",
            " '111-50 WITTHOFF STREET' '123-19 145TH STREET' '109-33 130TH STREET'\n",
            " '139-10 109TH ROAD' '118-22 197TH STREET' '114-39 203RD STREET'\n",
            " '198-16 116TH AVENUE' '220-23 135TH AVENUE' '106-10 215TH STREET'\n",
            " '111-37 144TH STREET' '111-46 156TH STREET' '214-15 HOLLIS AVENUE'\n",
            " '114-54 INWOOD STREET' '153 BEACH 59TH STREET' '138-20 102ND AVENUE'\n",
            " '174-16 111TH AVENUE' '131-27 135TH PLACE' '188-56 120TH ROAD'\n",
            " '110-05 225TH STREET' '114-34 146TH STREET' '118-35 153RD STREET'\n",
            " '104-10 212TH STREET' '191-18 120TH AVENUE' '111-27 207TH STREET'\n",
            " '217-09 110TH AVENUE' '119-55 177TH STREET' '117-17 204TH STREET'\n",
            " 'BLD 03 - COMMUNITY CENTER' 'BLD 35' 'BLD 29' 'BLD 09 - COMMUNITY CENTER'\n",
            " 'LOT' 'BLD 08 - COMMUNITY CENTER' 'BLD 14&16' 'BLD 28'\n",
            " 'BLD 26 - COMMUNITY CENTER' 'BLD 30' 'BLD 23' 'BLD 25' 'BLD 44' 'BLD 48'\n",
            " 'BLD 32' 'BLD 27' 'BLD 19' 'BLD 24' 'BLD 43' 'BLD 42' 'BLD 39' 'BLD 41'\n",
            " 'BLD 31 - COMMUNITY CENTER' 'BLD 20' 'BLD 22' 'BLD 26' 'BLD 21'\n",
            " 'BLD 07 - COMMUNITY CENTER' 'BLD 24 - COMMUNITY CENTER'\n",
            " 'BLD 21 - COMMUNITY CENTER' 'BLD 1' 'BLD 2' '115-21 200TH STREET'\n",
            " '213-34 NASHVILLE BOULEVARD' 'BLD 51' '111-19 196TH STREET' 'BLD 02-03'\n",
            " 'BLD 05 - COMMUNITY CENTER' 'BLD 3' '100-40 202ND STREET'\n",
            " '111-33 205TH STREET' '177-48 BAISLEY BOULEVARD' '115-69 224TH STREET'\n",
            " '116-02 139TH STREET' '133-17 149TH STREET' '223-19 111TH AVENUE'\n",
            " '114-26 208TH STREET' '123-25 152ND STREET' '109-40 176TH STREET'\n",
            " '114-18 INWOOD STREET' '113-10 201ST STREET' '190-17 115TH DRIVE'\n",
            " '104-17 187TH STREET' '111-33 207TH STREET' '131-68 225TH STREET'\n",
            " '109-11 208TH STREET' '130-15 135TH PLACE' '168-32 119TH AVENUE'\n",
            " '177-19 120TH AVENUE' '210-35 113TH AVENUE' '133-18 134TH STREET'\n",
            " '105 EAST 45TH STREET' '145-03 123RD AVENUE' '190-17 109TH ROAD'\n",
            " '89-24 168TH PLACE' '146-10 123RD AVENUE' '144-41 158TH STREET'\n",
            " '114-34 149TH STREET' '129-41 135TH STREET' '105-12 220TH STREET'\n",
            " '202-02 111TH AVENUE' '115-32 173RD STREET' '186-16 104TH AVENUE'\n",
            " '82 EAST 91ST STREET' '107-16 REMINGTON STREET' '107-34 PRINCETON STREET'\n",
            " '107-38 139TH STREET' '115-41 147TH STREET' '556 SCHENECTADY AVENUE'\n",
            " '133-16 VAN WYCK EXPRESSWAY' '221-02 131ST AVENUE' '114-70 211TH STREET'\n",
            " '147-06 SUTTER AVENUE' '171-48 119TH ROAD' '91-09 138TH PLACE'\n",
            " '110-17 172ND STREET' '190-48 111TH ROAD' '109-38 131ST STREET'\n",
            " '186-20 FOCH BOULEVARD' '133-22 223RD STREET' '101-64 132ND STREET'\n",
            " '134-19 111TH AVENUE' '978 LENOX ROAD' '110-39 164TH PLACE'\n",
            " '182-09 147TH AVENUE' '218-38 140TH AVENUE' '167-08 110TH AVENUE'\n",
            " '145-07 167TH STREET' '129-59 135TH STREET' '190-41 112TH AVENUE'\n",
            " '131-15 SUTTER AVENUE' '228-39 MENTONE AVENUE' '113-20 209th Street'\n",
            " '236-11 119TH AVENUE' '168-31 118TH ROAD' '195-09 119TH AVENUE'\n",
            " '129-23 135TH PLACE' '190-01 118TH ROAD' '111-21 212TH STREET'\n",
            " '192-07 104TH AVENUE' '117-31 135TH STREET' '80-44 162ND STREET'\n",
            " '89-55 208TH STREET' '99-19 203RD STREET' '197-18 116TH AVENUE'\n",
            " '150-22 118TH AVENUE' '94-29 211TH STREET' '109-16 210TH STREET'\n",
            " '145-12 229TH STREET' '112-23 208TH STREET' '130-16 149TH STREET'\n",
            " '136-15 221ST STREET' '142-21 129TH AVENUE' '102-47 187TH STREET'\n",
            " '193-10 WOODHULL AVENUE' '117-27 204TH STREET' '198-14 119TH AVENUE'\n",
            " '121-28 BENTON STREET' 'BLD02 - STORE 6 & 7' 'BLD 8' 'BLD 7' 'BLD 5'\n",
            " 'BLD 11 - STORE 10' 'BLD 45' 'BLD 33' 'BLD 31' 'BLD 34' 'BLD 37' 'BLD 46'\n",
            " 'BLD 38' 'BLD16 - STORE 35-36' '1091 LONGFELLOW AVE']\n"
          ]
        }
      ]
    },
    {
      "cell_type": "markdown",
      "source": [
        "Se realizó el conteo de los valores únicos."
      ],
      "metadata": {
        "id": "DC8iFLiZYGQg"
      }
    },
    {
      "cell_type": "code",
      "source": [
        "print(df['location'].value_counts())"
      ],
      "metadata": {
        "colab": {
          "base_uri": "https://localhost:8080/"
        },
        "id": "mNWAi-K9UYwT",
        "outputId": "bf0b33c9-5342-4ae6-8999-499b01251bcc"
      },
      "execution_count": null,
      "outputs": [
        {
          "output_type": "stream",
          "name": "stdout",
          "text": [
            "location\n",
            "BLD 01                 5287\n",
            "BLD 03                 2472\n",
            "BLD 02                 2082\n",
            "BLD 04                 1925\n",
            "BLD 05                 1452\n",
            "                       ... \n",
            "BLD 5                     9\n",
            "BLD16 - STORE 35-36       4\n",
            "BLD 7                     1\n",
            "BLD02 - STORE 6 & 7       1\n",
            "BLD 8                     1\n",
            "Name: count, Length: 305, dtype: int64\n"
          ]
        }
      ]
    },
    {
      "cell_type": "markdown",
      "source": [
        "***Outliers***"
      ],
      "metadata": {
        "id": "jJxDOBJ8bfVt"
      }
    },
    {
      "cell_type": "markdown",
      "source": [
        "Para la detección de valores atípicos se realizaron una serie de pasos, el primero fue realizar una descripción estadística de algunas de las columnas de tipo númerico."
      ],
      "metadata": {
        "id": "qrF2kR-qbk7s"
      }
    },
    {
      "cell_type": "code",
      "source": [
        "columnas = ['tds', 'edp', 'days', 'currentcharges', 'consumptionhcf', 'watersewercharges']\n",
        "print(df[columnas].describe())\n"
      ],
      "metadata": {
        "colab": {
          "base_uri": "https://localhost:8080/"
        },
        "id": "_vu0xL0wbnvM",
        "outputId": "7250c37a-e45e-43b6-9d9d-698c75a16ab8"
      },
      "execution_count": null,
      "outputs": [
        {
          "output_type": "stream",
          "name": "stdout",
          "text": [
            "                tds           edp          days  currentcharges  \\\n",
            "count  50315.000000  50315.000000  50315.000000    50315.000000   \n",
            "mean     258.734473    463.205764     33.200079     2150.221066   \n",
            "std      101.505109    185.109210     53.279154     5623.852543   \n",
            "min        1.000000    200.000000   -335.000000    -1748.510000   \n",
            "25%      209.000000    325.000000     29.000000       46.460000   \n",
            "50%      273.000000    396.000000     30.000000      197.360000   \n",
            "75%      338.000000    637.000000     32.000000     2598.415000   \n",
            "max      559.000000    999.000000   6968.000000   392036.460000   \n",
            "\n",
            "       consumptionhcf  watersewercharges  \n",
            "count    50315.000000       50315.000000  \n",
            "mean       224.291066        2140.327436  \n",
            "std       2020.962056        5619.812518  \n",
            "min          0.000000           0.000000  \n",
            "25%          5.000000          46.360000  \n",
            "50%         26.000000         196.350000  \n",
            "75%        236.000000        2575.520000  \n",
            "max     434200.000000      392036.460000  \n"
          ]
        }
      ]
    },
    {
      "cell_type": "markdown",
      "source": [
        "Después, se obtuvó la desviación estándar de cada una de las columnas."
      ],
      "metadata": {
        "id": "7_4afGfAdEtV"
      }
    },
    {
      "cell_type": "code",
      "source": [
        "df[columnas].std()"
      ],
      "metadata": {
        "colab": {
          "base_uri": "https://localhost:8080/",
          "height": 272
        },
        "id": "c9ni3EjfdFx_",
        "outputId": "112377b9-70ee-4b31-8306-6b25ac6efab7"
      },
      "execution_count": null,
      "outputs": [
        {
          "output_type": "execute_result",
          "data": {
            "text/plain": [
              "tds                   101.505109\n",
              "edp                   185.109210\n",
              "days                   53.279154\n",
              "currentcharges       5623.852543\n",
              "consumptionhcf       2020.962056\n",
              "watersewercharges    5619.812518\n",
              "dtype: float64"
            ],
            "text/html": [
              "<div>\n",
              "<style scoped>\n",
              "    .dataframe tbody tr th:only-of-type {\n",
              "        vertical-align: middle;\n",
              "    }\n",
              "\n",
              "    .dataframe tbody tr th {\n",
              "        vertical-align: top;\n",
              "    }\n",
              "\n",
              "    .dataframe thead th {\n",
              "        text-align: right;\n",
              "    }\n",
              "</style>\n",
              "<table border=\"1\" class=\"dataframe\">\n",
              "  <thead>\n",
              "    <tr style=\"text-align: right;\">\n",
              "      <th></th>\n",
              "      <th>0</th>\n",
              "    </tr>\n",
              "  </thead>\n",
              "  <tbody>\n",
              "    <tr>\n",
              "      <th>tds</th>\n",
              "      <td>101.505109</td>\n",
              "    </tr>\n",
              "    <tr>\n",
              "      <th>edp</th>\n",
              "      <td>185.109210</td>\n",
              "    </tr>\n",
              "    <tr>\n",
              "      <th>days</th>\n",
              "      <td>53.279154</td>\n",
              "    </tr>\n",
              "    <tr>\n",
              "      <th>currentcharges</th>\n",
              "      <td>5623.852543</td>\n",
              "    </tr>\n",
              "    <tr>\n",
              "      <th>consumptionhcf</th>\n",
              "      <td>2020.962056</td>\n",
              "    </tr>\n",
              "    <tr>\n",
              "      <th>watersewercharges</th>\n",
              "      <td>5619.812518</td>\n",
              "    </tr>\n",
              "  </tbody>\n",
              "</table>\n",
              "</div><br><label><b>dtype:</b> float64</label>"
            ]
          },
          "metadata": {},
          "execution_count": 247
        }
      ]
    },
    {
      "cell_type": "markdown",
      "source": [
        "Posterior al cálculo de la desviación estándar, se realizó el proceso de filtrado con el objetivo de obtener aquellos valores que son mayores a 3 veces por la desviación estándar."
      ],
      "metadata": {
        "id": "oHUr34mJdcJv"
      }
    },
    {
      "cell_type": "code",
      "source": [
        "atipicos = df[columnas][(np.abs(df[columnas])>(3*df[columnas].std())).any(axis=1)]\n",
        "print(atipicos)"
      ],
      "metadata": {
        "colab": {
          "base_uri": "https://localhost:8080/"
        },
        "id": "uqI80KJ1dcoe",
        "outputId": "5b3ee1a6-6532-4bd7-8a06-b094a62a3715"
      },
      "execution_count": null,
      "outputs": [
        {
          "output_type": "stream",
          "name": "stdout",
          "text": [
            "       tds  edp  days  currentcharges  consumptionhcf  watersewercharges\n",
            "0      339  782    31         2945.22             285            2945.22\n",
            "5       92  670    34           72.34               7              72.34\n",
            "6       92  670    29           82.67               8              82.67\n",
            "7       92  670    28           62.00               6              62.00\n",
            "8       92  670    31           39.34               1               0.00\n",
            "...    ...  ...   ...             ...             ...                ...\n",
            "50305  174  325    30        17000.61             204           17006.20\n",
            "50308  246  325    91        49686.30             204           49686.30\n",
            "50309  246  325    91        33959.56             204           33959.56\n",
            "50310  246  325     1        43139.82             204           43139.82\n",
            "50311  246  325    90        33422.14             204           33422.14\n",
            "\n",
            "[17510 rows x 6 columns]\n"
          ]
        }
      ]
    },
    {
      "cell_type": "markdown",
      "source": [
        "Para resolver el tema de los valores atípicos, se utilizó el método de Winsorización debido a que sólo se buscaba reemplazar valores extremos por menores sin afectar el tamaño del conjunto de datos.\n",
        "\n",
        "Como primer paso, se identificaron y manejaron valores atípicos para la columna tds. Después se imprimió la estadística después de la Winsorización."
      ],
      "metadata": {
        "id": "cq-xLlPCiWMH"
      }
    },
    {
      "cell_type": "code",
      "source": [
        "winsorizing_fraction = 0.1\n",
        "df['tds_Winsorized'] = winsorize(df['tds'], limits=[winsorizing_fraction, winsorizing_fraction])\n",
        "print(df['tds_Winsorized'].describe())"
      ],
      "metadata": {
        "colab": {
          "base_uri": "https://localhost:8080/"
        },
        "id": "Y7AZar6ugVfl",
        "outputId": "7fd6e812-acc4-4bc9-f272-f011989aea59"
      },
      "execution_count": null,
      "outputs": [
        {
          "output_type": "stream",
          "name": "stdout",
          "text": [
            "count    50315.000000\n",
            "mean       258.074252\n",
            "std         90.807350\n",
            "min         67.000000\n",
            "25%        209.000000\n",
            "50%        273.000000\n",
            "75%        338.000000\n",
            "max        377.000000\n",
            "Name: tds_Winsorized, dtype: float64\n"
          ]
        },
        {
          "output_type": "stream",
          "name": "stderr",
          "text": [
            "/usr/local/lib/python3.11/dist-packages/numpy/lib/function_base.py:4824: UserWarning: Warning: 'partition' will ignore the 'mask' of the MaskedArray.\n",
            "  arr.partition(\n"
          ]
        }
      ]
    },
    {
      "cell_type": "markdown",
      "source": [
        "El procedimiento anterior se aplicó a la columna edp."
      ],
      "metadata": {
        "id": "SqjLJqGAidrl"
      }
    },
    {
      "cell_type": "code",
      "source": [
        "df['edp_Winsorized'] = winsorize(df['edp'], limits=[winsorizing_fraction, winsorizing_fraction])\n",
        "print(df['edp_Winsorized'].describe())"
      ],
      "metadata": {
        "colab": {
          "base_uri": "https://localhost:8080/"
        },
        "id": "3wgqmRvyilRK",
        "outputId": "3d8cf92d-1401-4293-d152-52c58b786ef0"
      },
      "execution_count": null,
      "outputs": [
        {
          "output_type": "stream",
          "name": "stdout",
          "text": [
            "count    50315.000000\n",
            "mean       466.793501\n",
            "std        171.243360\n",
            "min        293.000000\n",
            "25%        325.000000\n",
            "50%        396.000000\n",
            "75%        637.000000\n",
            "max        771.000000\n",
            "Name: edp_Winsorized, dtype: float64\n"
          ]
        },
        {
          "output_type": "stream",
          "name": "stderr",
          "text": [
            "/usr/local/lib/python3.11/dist-packages/numpy/lib/function_base.py:4824: UserWarning: Warning: 'partition' will ignore the 'mask' of the MaskedArray.\n",
            "  arr.partition(\n"
          ]
        }
      ]
    },
    {
      "cell_type": "markdown",
      "source": [
        "Lo mismo para la columna days."
      ],
      "metadata": {
        "id": "h9VIbAOjishZ"
      }
    },
    {
      "cell_type": "code",
      "source": [
        "df['days_Winsorized'] = winsorize(df['days'], limits=[winsorizing_fraction, winsorizing_fraction])\n",
        "print(df['days_Winsorized'].describe())"
      ],
      "metadata": {
        "colab": {
          "base_uri": "https://localhost:8080/"
        },
        "id": "AbtucB5OitN-",
        "outputId": "59089e2e-36aa-4be4-e65e-b6ec4ce8c36f"
      },
      "execution_count": null,
      "outputs": [
        {
          "output_type": "stream",
          "name": "stdout",
          "text": [
            "count    50315.000000\n",
            "mean        30.443089\n",
            "std          1.651348\n",
            "min         28.000000\n",
            "25%         29.000000\n",
            "50%         30.000000\n",
            "75%         32.000000\n",
            "max         33.000000\n",
            "Name: days_Winsorized, dtype: float64\n"
          ]
        },
        {
          "output_type": "stream",
          "name": "stderr",
          "text": [
            "/usr/local/lib/python3.11/dist-packages/numpy/lib/function_base.py:4824: UserWarning: Warning: 'partition' will ignore the 'mask' of the MaskedArray.\n",
            "  arr.partition(\n"
          ]
        }
      ]
    },
    {
      "cell_type": "markdown",
      "source": [
        "El mismo método para la columna currentcharges."
      ],
      "metadata": {
        "id": "DZDnjz4li6T5"
      }
    },
    {
      "cell_type": "code",
      "source": [
        "df['currentcharges_Winsorized'] = winsorize(df['currentcharges'], limits=[winsorizing_fraction, winsorizing_fraction])\n",
        "print(df['currentcharges_Winsorized'].describe())"
      ],
      "metadata": {
        "colab": {
          "base_uri": "https://localhost:8080/"
        },
        "id": "6sgXOB5ii7CJ",
        "outputId": "542a2223-78f3-4385-b8f6-7a07b2c7132e"
      },
      "execution_count": null,
      "outputs": [
        {
          "output_type": "stream",
          "name": "stdout",
          "text": [
            "count    50315.000000\n",
            "mean      1532.156827\n",
            "std       2111.072485\n",
            "min         38.070000\n",
            "25%         46.460000\n",
            "50%        197.360000\n",
            "75%       2598.415000\n",
            "max       6128.920000\n",
            "Name: currentcharges_Winsorized, dtype: float64\n"
          ]
        },
        {
          "output_type": "stream",
          "name": "stderr",
          "text": [
            "/usr/local/lib/python3.11/dist-packages/numpy/lib/function_base.py:4824: UserWarning: Warning: 'partition' will ignore the 'mask' of the MaskedArray.\n",
            "  arr.partition(\n"
          ]
        }
      ]
    },
    {
      "cell_type": "markdown",
      "source": [
        "Mismo método para la columna consumptionhcf."
      ],
      "metadata": {
        "id": "nIdCudBSi_h-"
      }
    },
    {
      "cell_type": "code",
      "source": [
        "df['consumptionhcf_Winsorized'] = winsorize(df['consumptionhcf'], limits=[winsorizing_fraction, winsorizing_fraction])\n",
        "print(df['consumptionhcf_Winsorized'].describe())"
      ],
      "metadata": {
        "colab": {
          "base_uri": "https://localhost:8080/"
        },
        "id": "LkeTNNmHjAD2",
        "outputId": "3f686152-7545-4449-bac2-7d13c58feae0"
      },
      "execution_count": null,
      "outputs": [
        {
          "output_type": "stream",
          "name": "stdout",
          "text": [
            "count    50315.000000\n",
            "mean       154.684448\n",
            "std        200.882167\n",
            "min          1.000000\n",
            "25%          5.000000\n",
            "50%         26.000000\n",
            "75%        236.000000\n",
            "max        595.000000\n",
            "Name: consumptionhcf_Winsorized, dtype: float64\n"
          ]
        },
        {
          "output_type": "stream",
          "name": "stderr",
          "text": [
            "/usr/local/lib/python3.11/dist-packages/numpy/lib/function_base.py:4824: UserWarning: Warning: 'partition' will ignore the 'mask' of the MaskedArray.\n",
            "  arr.partition(\n"
          ]
        }
      ]
    },
    {
      "cell_type": "markdown",
      "source": [
        "Por último, en la columna watersewercharges."
      ],
      "metadata": {
        "id": "mpAB5jVOjQFD"
      }
    },
    {
      "cell_type": "code",
      "source": [
        "df['watersewercharges_Winsorized'] = winsorize(df['watersewercharges'], limits=[winsorizing_fraction, winsorizing_fraction])\n",
        "print(df['watersewercharges_Winsorized'].describe())"
      ],
      "metadata": {
        "colab": {
          "base_uri": "https://localhost:8080/"
        },
        "id": "MBjDbGU9jQb3",
        "outputId": "034a918b-1494-4672-d5bf-344e7c14af69"
      },
      "execution_count": null,
      "outputs": [
        {
          "output_type": "stream",
          "name": "stdout",
          "text": [
            "count    50315.000000\n",
            "mean      1523.660031\n",
            "std       2106.558553\n",
            "min         36.800000\n",
            "25%         46.360000\n",
            "50%        196.350000\n",
            "75%       2575.520000\n",
            "max       6117.790000\n",
            "Name: watersewercharges_Winsorized, dtype: float64\n"
          ]
        },
        {
          "output_type": "stream",
          "name": "stderr",
          "text": [
            "/usr/local/lib/python3.11/dist-packages/numpy/lib/function_base.py:4824: UserWarning: Warning: 'partition' will ignore the 'mask' of the MaskedArray.\n",
            "  arr.partition(\n"
          ]
        }
      ]
    },
    {
      "cell_type": "code",
      "source": [
        "# prompt: Gráfica la distribución de los datos de la columnas Development Name\n",
        "\n",
        "import matplotlib.pyplot as plt\n",
        "import seaborn as sns\n",
        "\n",
        "# Assuming 'df' is your DataFrame as defined in the provided code\n",
        "\n",
        "plt.figure(figsize=(12, 6))\n",
        "sns.countplot(x='Account Name', data=df)\n",
        "plt.xticks(rotation=90)  # Rotate x-axis labels for better readability\n",
        "plt.title('Distribution of Development Names')\n",
        "plt.xlabel('Development Name')\n",
        "plt.ylabel('Count')\n",
        "plt.show()\n"
      ],
      "metadata": {
        "colab": {
          "base_uri": "https://localhost:8080/"
        },
        "id": "p5EsXxEzg7LQ",
        "outputId": "8fc923af-485b-43b1-a61d-ec6f6fb704d0"
      },
      "execution_count": null,
      "outputs": [
        {
          "output_type": "display_data",
          "data": {
            "text/plain": [
              "<Figure size 1200x600 with 1 Axes>"
            ],
            "image/png": "[encoded data removed]"
          },
          "metadata": {}
        }
      ]
    },
    {
      "cell_type": "markdown",
      "source": [
        "# **5. Análisis Descriptivo de Datos**\n",
        "\n",
        "## - Preguntas a responder con el AD\n",
        "## - Explicación de Estadísticas Básicas Aplicadas, Visualización de Datos con Gráficos, y Resumen de las respuestas"
      ],
      "metadata": {
        "id": "3gERzOTAfuOL"
      }
    },
    {
      "cell_type": "markdown",
      "source": [
        "# **6. Análisis Exploratorio de los Datos**\n",
        "\n",
        "## - Preguntas a responder\n",
        "## - Estadísticas Empleadas, visualización y Resumen de las respuestas encontradas.\n",
        "\n",
        "RECUERDA AGREGAR UNA O VARIAS CELDAS DE CÓDIGO"
      ],
      "metadata": {
        "id": "_s8IXMLsfrI5"
      }
    },
    {
      "cell_type": "markdown",
      "source": [],
      "metadata": {
        "id": "AvV5oAjUqVcs"
      }
    },
    {
      "cell_type": "markdown",
      "source": [
        "# **7. Análisis Predictivo**\n",
        "\n",
        "## - Preprocesamiento para Análisis Predictivo: Problemas, Técnicas y Código\n",
        "\n",
        "## - Modelado Predictivo\n",
        "### - Modelo elegido y parámetros\n",
        "### - Entrenamiento y Evaluación\n",
        "## - Resultados\n",
        "RECUERDA AGREGAR UNA O VARIAS CELDAS DE CÓDIGO"
      ],
      "metadata": {
        "id": "D8irLVFimFqa"
      }
    },
    {
      "cell_type": "markdown",
      "source": [
        "# **8. Conclusiones y Trabajos Futuros**\n",
        "\n",
        "## - Resumen del trabajo realizado, hallazgos y posibles mejoras\n",
        "\n",
        "RECUERDA AGREGAR UNA O VARIAS CELDAS DE CÓDIGO"
      ],
      "metadata": {
        "id": "8ESQV5mmmSRI"
      }
    }
  ]
}