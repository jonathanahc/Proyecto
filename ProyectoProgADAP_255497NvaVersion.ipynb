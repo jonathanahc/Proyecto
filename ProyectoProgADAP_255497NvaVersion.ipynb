{
  "nbformat": 4,
  "nbformat_minor": 0,
  "metadata": {
    "colab": {
      "provenance": [],
      "include_colab_link": true
    },
    "kernelspec": {
      "name": "python3",
      "display_name": "Python 3"
    },
    "language_info": {
      "name": "python"
    }
  },
  "cells": [
    {
      "cell_type": "markdown",
      "metadata": {
        "id": "view-in-github",
        "colab_type": "text"
      },
      "source": [
        "<a href=\"https://colab.research.google.com/github/jonathanahc/Proyecto/blob/main/ProyectoProgADAP_255497NvaVersion.ipynb\" target=\"_parent\"><img src=\"https://colab.research.google.com/assets/colab-badge.svg\" alt=\"Open In Colab\"/></a>"
      ]
    },
    {
      "cell_type": "markdown",
      "source": [
        "# **Proyecto de Programación para Analítica Descriptiva y Predictiva**\n",
        "## Nombre del Proyecto: Consumo y Costo del Agua en Nueva York\n",
        "## Grupo: A\n",
        "## Autor: Jonathan Adrian Herrera Castro\n",
        "## Matrícula: 255497\n",
        "## Fecha: 08/03/2025"
      ],
      "metadata": {
        "id": "V5SiSwjFaQ8j"
      }
    },
    {
      "cell_type": "markdown",
      "source": [
        "# **1. Introducción**\n",
        "\n"
      ],
      "metadata": {
        "id": "6ljsvIIXbAHF"
      }
    },
    {
      "cell_type": "markdown",
      "source": [
        "## **- Descripción del problema:** el objetivo de este análisis es examinar el consumo de agua en la ciudad de Nueva York y su costo asociado, con el fin de identificar tendencias y algunos factores que influyen en su variación. Se analizarán patrones de consumo en distintas zonas y sectores de febrero del 2013 hasta 2023.\n",
        "\n",
        "## **- Objetivo del análisis:** comprender el consumo y costo del agua en Nueva York para identificar patrones y factores que afectan su variabilidad. Este análisis tiene como impacto en el tema de la optimización el uso del agua, la planificación de tarifas y establecer algunas estrategias de sostenibilidad.\n",
        "\n",
        "## **- Fuente de datos:** los datos utilizados en este análisis provienen de NYC Open Data, una plataforma que ofrece bases de datos de acceso público. La información fue proporcionada por la Autoridad de Vivienda de la Ciudad de Nueva York (NYCHA, por sus siglas en inglés)."
      ],
      "metadata": {
        "id": "BHKv7XW_RUPN"
      }
    },
    {
      "cell_type": "markdown",
      "source": [
        "# **2. Información General del Conjunto de Datos**"
      ],
      "metadata": {
        "id": "R2awiYXqa6Tv"
      }
    },
    {
      "cell_type": "markdown",
      "source": [
        "El conjunto de datos sobre el consumo y costo del agua en Nueva York pertenece a la categoría de gestión de recursos hídricos urbanos, que abarca el análisis y control de la distribución de agua potable y la fijación de tarifas. Los datos recopilados incluyen información sobre el volumen de agua consumido en diferentes áreas de la ciudad, las tarifas establecidas para los consumidores, patrones de consumo y variaciones de precios. La fuente principal de estos datos es la Autoridad de Vivienda de la Ciudad de Nueva York (NYCHA, por sus siglas en inglés), los informes y los datos sobre el consumo de agua se publican anualmente y están disponibles al público en su sitio web oficial.\n",
        "\n",
        "El enlace para acceder a la base de datos es:\n",
        "[Water Consumption And Cost (2013 - Feb 2025)](https://data.cityofnewyork.us/Housing-Development/Water-Consumption-And-Cost-2013-Feb-2025-/66be-66yr/about_data)\n",
        "\n",
        "Estos datos se pueden encontrar en formato CSV lo cual facilita su acceso y análisis y son utilizados para diversos fines como el análisis - planificación de políticas públicas, gestión - mantenimiento de infraestructura y para pronósticos y ajustes tarifarios."
      ],
      "metadata": {
        "id": "cV1ZyvU1Ro4d"
      }
    },
    {
      "cell_type": "markdown",
      "source": [
        "#**3. Descripción del Conjunto de Datos**\n"
      ],
      "metadata": {
        "id": "oKCLUQvPcSOm"
      }
    },
    {
      "cell_type": "markdown",
      "source": [
        "Como primera fase, se emplearon diversas librerías para facilitar el proceso de carga del archivo CSV. La primera librería utilizada fue google.colab, la cual establece la conexión a la carpeta Drive donde se encuentra almacenado el archivo. Además, se importaron las librerías Pandas y Re para interactuar con los datos."
      ],
      "metadata": {
        "id": "LR8SNmK46aWy"
      }
    },
    {
      "cell_type": "code",
      "source": [
        "from google.colab import drive\n",
        "drive.mount('/content/drive')\n",
        "\n",
        "import pandas as pd\n",
        "import re\n",
        "import numpy as np\n",
        "import matplotlib.pyplot as plt\n",
        "import seaborn as sns\n",
        "from scipy.stats.mstats import winsorize"
      ],
      "metadata": {
        "colab": {
          "base_uri": "https://localhost:8080/"
        },
        "id": "4gCGfL6yKTwq",
        "outputId": "90922240-6b5f-414a-9253-b36832ac4af5"
      },
      "execution_count": 173,
      "outputs": [
        {
          "output_type": "stream",
          "name": "stdout",
          "text": [
            "Drive already mounted at /content/drive; to attempt to forcibly remount, call drive.mount(\"/content/drive\", force_remount=True).\n"
          ]
        }
      ]
    },
    {
      "cell_type": "markdown",
      "source": [
        "Con esta sentencia, se cargó el archivo CSV en un dataframe sin presentar inconvenientes durante el proceso."
      ],
      "metadata": {
        "id": "ToukKbAJKaow"
      }
    },
    {
      "cell_type": "code",
      "source": [
        "df = pd.read_csv('/content/drive/MyDrive/ProyectoProgramacion/Water_Consumption_And_Cost__2013_-_Feb_2023__20250216.csv', engine=\"python\")"
      ],
      "metadata": {
        "id": "dX_WdeeULMnE"
      },
      "execution_count": 174,
      "outputs": []
    },
    {
      "cell_type": "markdown",
      "source": [
        "Una vez cargado el archivo, se validó que los datos se mostrarán correctamente."
      ],
      "metadata": {
        "id": "QK-wQCUKLckz"
      }
    },
    {
      "cell_type": "code",
      "source": [
        "df.head(3)"
      ],
      "metadata": {
        "colab": {
          "base_uri": "https://localhost:8080/",
          "height": 366
        },
        "id": "Vop5hkgKLfGB",
        "outputId": "787afc4e-0f53-4e93-c3dd-29f0c777c87d"
      },
      "execution_count": 175,
      "outputs": [
        {
          "output_type": "execute_result",
          "data": {
            "text/plain": [
              "  Development Name   Borough   Account Name Location Meter AMR Meter Scope  \\\n",
              "0    HOWARD AVENUE  BROOKLYN  HOWARD AVENUE   BLD 02       AMR         NaN   \n",
              "1     BAISLEY PARK    QUEENS   BAISLEY PARK   BLD 09       AMR      BLD 09   \n",
              "2     BAISLEY PARK    QUEENS   BAISLEY PARK   BLD 09       AMR      BLD 09   \n",
              "\n",
              "   TDS #  EDP  RC Code Funding Source  ... Service End Date # days  \\\n",
              "0  339.0  782  K033900        FEDERAL  ...       04/23/2020   31.0   \n",
              "1   91.0  240  Q009100        FEDERAL  ...       01/26/2020   34.0   \n",
              "2   91.0  240  Q009100        FEDERAL  ...       02/24/2020   29.0   \n",
              "\n",
              "   Meter Number Estimated Current Charges             Rate Class  \\\n",
              "0     E11310572         N         2945.22  Basic Water and Sewer   \n",
              "1     K13060723         N          196.35  Basic Water and Sewer   \n",
              "2     K13060723         N          258.35  Basic Water and Sewer   \n",
              "\n",
              "   Bill Analyzed Consumption (HCF) Water&Sewer Charges  Other Charges  \n",
              "0            Yes               285             2945.22            0.0  \n",
              "1            Yes                19              196.35            0.0  \n",
              "2            Yes                25              258.35            0.0  \n",
              "\n",
              "[3 rows x 25 columns]"
            ],
            "text/html": [
              "\n",
              "  <div id=\"df-2f1502d0-b06c-45aa-96ad-8afcddeae9a6\" class=\"colab-df-container\">\n",
              "    <div>\n",
              "<style scoped>\n",
              "    .dataframe tbody tr th:only-of-type {\n",
              "        vertical-align: middle;\n",
              "    }\n",
              "\n",
              "    .dataframe tbody tr th {\n",
              "        vertical-align: top;\n",
              "    }\n",
              "\n",
              "    .dataframe thead th {\n",
              "        text-align: right;\n",
              "    }\n",
              "</style>\n",
              "<table border=\"1\" class=\"dataframe\">\n",
              "  <thead>\n",
              "    <tr style=\"text-align: right;\">\n",
              "      <th></th>\n",
              "      <th>Development Name</th>\n",
              "      <th>Borough</th>\n",
              "      <th>Account Name</th>\n",
              "      <th>Location</th>\n",
              "      <th>Meter AMR</th>\n",
              "      <th>Meter Scope</th>\n",
              "      <th>TDS #</th>\n",
              "      <th>EDP</th>\n",
              "      <th>RC Code</th>\n",
              "      <th>Funding Source</th>\n",
              "      <th>...</th>\n",
              "      <th>Service End Date</th>\n",
              "      <th># days</th>\n",
              "      <th>Meter Number</th>\n",
              "      <th>Estimated</th>\n",
              "      <th>Current Charges</th>\n",
              "      <th>Rate Class</th>\n",
              "      <th>Bill Analyzed</th>\n",
              "      <th>Consumption (HCF)</th>\n",
              "      <th>Water&amp;Sewer Charges</th>\n",
              "      <th>Other Charges</th>\n",
              "    </tr>\n",
              "  </thead>\n",
              "  <tbody>\n",
              "    <tr>\n",
              "      <th>0</th>\n",
              "      <td>HOWARD AVENUE</td>\n",
              "      <td>BROOKLYN</td>\n",
              "      <td>HOWARD AVENUE</td>\n",
              "      <td>BLD 02</td>\n",
              "      <td>AMR</td>\n",
              "      <td>NaN</td>\n",
              "      <td>339.0</td>\n",
              "      <td>782</td>\n",
              "      <td>K033900</td>\n",
              "      <td>FEDERAL</td>\n",
              "      <td>...</td>\n",
              "      <td>04/23/2020</td>\n",
              "      <td>31.0</td>\n",
              "      <td>E11310572</td>\n",
              "      <td>N</td>\n",
              "      <td>2945.22</td>\n",
              "      <td>Basic Water and Sewer</td>\n",
              "      <td>Yes</td>\n",
              "      <td>285</td>\n",
              "      <td>2945.22</td>\n",
              "      <td>0.0</td>\n",
              "    </tr>\n",
              "    <tr>\n",
              "      <th>1</th>\n",
              "      <td>BAISLEY PARK</td>\n",
              "      <td>QUEENS</td>\n",
              "      <td>BAISLEY PARK</td>\n",
              "      <td>BLD 09</td>\n",
              "      <td>AMR</td>\n",
              "      <td>BLD 09</td>\n",
              "      <td>91.0</td>\n",
              "      <td>240</td>\n",
              "      <td>Q009100</td>\n",
              "      <td>FEDERAL</td>\n",
              "      <td>...</td>\n",
              "      <td>01/26/2020</td>\n",
              "      <td>34.0</td>\n",
              "      <td>K13060723</td>\n",
              "      <td>N</td>\n",
              "      <td>196.35</td>\n",
              "      <td>Basic Water and Sewer</td>\n",
              "      <td>Yes</td>\n",
              "      <td>19</td>\n",
              "      <td>196.35</td>\n",
              "      <td>0.0</td>\n",
              "    </tr>\n",
              "    <tr>\n",
              "      <th>2</th>\n",
              "      <td>BAISLEY PARK</td>\n",
              "      <td>QUEENS</td>\n",
              "      <td>BAISLEY PARK</td>\n",
              "      <td>BLD 09</td>\n",
              "      <td>AMR</td>\n",
              "      <td>BLD 09</td>\n",
              "      <td>91.0</td>\n",
              "      <td>240</td>\n",
              "      <td>Q009100</td>\n",
              "      <td>FEDERAL</td>\n",
              "      <td>...</td>\n",
              "      <td>02/24/2020</td>\n",
              "      <td>29.0</td>\n",
              "      <td>K13060723</td>\n",
              "      <td>N</td>\n",
              "      <td>258.35</td>\n",
              "      <td>Basic Water and Sewer</td>\n",
              "      <td>Yes</td>\n",
              "      <td>25</td>\n",
              "      <td>258.35</td>\n",
              "      <td>0.0</td>\n",
              "    </tr>\n",
              "  </tbody>\n",
              "</table>\n",
              "<p>3 rows × 25 columns</p>\n",
              "</div>\n",
              "    <div class=\"colab-df-buttons\">\n",
              "\n",
              "  <div class=\"colab-df-container\">\n",
              "    <button class=\"colab-df-convert\" onclick=\"convertToInteractive('df-2f1502d0-b06c-45aa-96ad-8afcddeae9a6')\"\n",
              "            title=\"Convert this dataframe to an interactive table.\"\n",
              "            style=\"display:none;\">\n",
              "\n",
              "  <svg xmlns=\"http://www.w3.org/2000/svg\" height=\"24px\" viewBox=\"0 -960 960 960\">\n",
              "    <path d=\"M120-120v-720h720v720H120Zm60-500h600v-160H180v160Zm220 220h160v-160H400v160Zm0 220h160v-160H400v160ZM180-400h160v-160H180v160Zm440 0h160v-160H620v160ZM180-180h160v-160H180v160Zm440 0h160v-160H620v160Z\"/>\n",
              "  </svg>\n",
              "    </button>\n",
              "\n",
              "  <style>\n",
              "    .colab-df-container {\n",
              "      display:flex;\n",
              "      gap: 12px;\n",
              "    }\n",
              "\n",
              "    .colab-df-convert {\n",
              "      background-color: #E8F0FE;\n",
              "      border: none;\n",
              "      border-radius: 50%;\n",
              "      cursor: pointer;\n",
              "      display: none;\n",
              "      fill: #1967D2;\n",
              "      height: 32px;\n",
              "      padding: 0 0 0 0;\n",
              "      width: 32px;\n",
              "    }\n",
              "\n",
              "    .colab-df-convert:hover {\n",
              "      background-color: #E2EBFA;\n",
              "      box-shadow: 0px 1px 2px rgba(60, 64, 67, 0.3), 0px 1px 3px 1px rgba(60, 64, 67, 0.15);\n",
              "      fill: #174EA6;\n",
              "    }\n",
              "\n",
              "    .colab-df-buttons div {\n",
              "      margin-bottom: 4px;\n",
              "    }\n",
              "\n",
              "    [theme=dark] .colab-df-convert {\n",
              "      background-color: #3B4455;\n",
              "      fill: #D2E3FC;\n",
              "    }\n",
              "\n",
              "    [theme=dark] .colab-df-convert:hover {\n",
              "      background-color: #434B5C;\n",
              "      box-shadow: 0px 1px 3px 1px rgba(0, 0, 0, 0.15);\n",
              "      filter: drop-shadow(0px 1px 2px rgba(0, 0, 0, 0.3));\n",
              "      fill: #FFFFFF;\n",
              "    }\n",
              "  </style>\n",
              "\n",
              "    <script>\n",
              "      const buttonEl =\n",
              "        document.querySelector('#df-2f1502d0-b06c-45aa-96ad-8afcddeae9a6 button.colab-df-convert');\n",
              "      buttonEl.style.display =\n",
              "        google.colab.kernel.accessAllowed ? 'block' : 'none';\n",
              "\n",
              "      async function convertToInteractive(key) {\n",
              "        const element = document.querySelector('#df-2f1502d0-b06c-45aa-96ad-8afcddeae9a6');\n",
              "        const dataTable =\n",
              "          await google.colab.kernel.invokeFunction('convertToInteractive',\n",
              "                                                    [key], {});\n",
              "        if (!dataTable) return;\n",
              "\n",
              "        const docLinkHtml = 'Like what you see? Visit the ' +\n",
              "          '<a target=\"_blank\" href=https://colab.research.google.com/notebooks/data_table.ipynb>data table notebook</a>'\n",
              "          + ' to learn more about interactive tables.';\n",
              "        element.innerHTML = '';\n",
              "        dataTable['output_type'] = 'display_data';\n",
              "        await google.colab.output.renderOutput(dataTable, element);\n",
              "        const docLink = document.createElement('div');\n",
              "        docLink.innerHTML = docLinkHtml;\n",
              "        element.appendChild(docLink);\n",
              "      }\n",
              "    </script>\n",
              "  </div>\n",
              "\n",
              "\n",
              "<div id=\"df-e0ba2d45-72c0-4f61-ab1a-a1f6ea367499\">\n",
              "  <button class=\"colab-df-quickchart\" onclick=\"quickchart('df-e0ba2d45-72c0-4f61-ab1a-a1f6ea367499')\"\n",
              "            title=\"Suggest charts\"\n",
              "            style=\"display:none;\">\n",
              "\n",
              "<svg xmlns=\"http://www.w3.org/2000/svg\" height=\"24px\"viewBox=\"0 0 24 24\"\n",
              "     width=\"24px\">\n",
              "    <g>\n",
              "        <path d=\"M19 3H5c-1.1 0-2 .9-2 2v14c0 1.1.9 2 2 2h14c1.1 0 2-.9 2-2V5c0-1.1-.9-2-2-2zM9 17H7v-7h2v7zm4 0h-2V7h2v10zm4 0h-2v-4h2v4z\"/>\n",
              "    </g>\n",
              "</svg>\n",
              "  </button>\n",
              "\n",
              "<style>\n",
              "  .colab-df-quickchart {\n",
              "      --bg-color: #E8F0FE;\n",
              "      --fill-color: #1967D2;\n",
              "      --hover-bg-color: #E2EBFA;\n",
              "      --hover-fill-color: #174EA6;\n",
              "      --disabled-fill-color: #AAA;\n",
              "      --disabled-bg-color: #DDD;\n",
              "  }\n",
              "\n",
              "  [theme=dark] .colab-df-quickchart {\n",
              "      --bg-color: #3B4455;\n",
              "      --fill-color: #D2E3FC;\n",
              "      --hover-bg-color: #434B5C;\n",
              "      --hover-fill-color: #FFFFFF;\n",
              "      --disabled-bg-color: #3B4455;\n",
              "      --disabled-fill-color: #666;\n",
              "  }\n",
              "\n",
              "  .colab-df-quickchart {\n",
              "    background-color: var(--bg-color);\n",
              "    border: none;\n",
              "    border-radius: 50%;\n",
              "    cursor: pointer;\n",
              "    display: none;\n",
              "    fill: var(--fill-color);\n",
              "    height: 32px;\n",
              "    padding: 0;\n",
              "    width: 32px;\n",
              "  }\n",
              "\n",
              "  .colab-df-quickchart:hover {\n",
              "    background-color: var(--hover-bg-color);\n",
              "    box-shadow: 0 1px 2px rgba(60, 64, 67, 0.3), 0 1px 3px 1px rgba(60, 64, 67, 0.15);\n",
              "    fill: var(--button-hover-fill-color);\n",
              "  }\n",
              "\n",
              "  .colab-df-quickchart-complete:disabled,\n",
              "  .colab-df-quickchart-complete:disabled:hover {\n",
              "    background-color: var(--disabled-bg-color);\n",
              "    fill: var(--disabled-fill-color);\n",
              "    box-shadow: none;\n",
              "  }\n",
              "\n",
              "  .colab-df-spinner {\n",
              "    border: 2px solid var(--fill-color);\n",
              "    border-color: transparent;\n",
              "    border-bottom-color: var(--fill-color);\n",
              "    animation:\n",
              "      spin 1s steps(1) infinite;\n",
              "  }\n",
              "\n",
              "  @keyframes spin {\n",
              "    0% {\n",
              "      border-color: transparent;\n",
              "      border-bottom-color: var(--fill-color);\n",
              "      border-left-color: var(--fill-color);\n",
              "    }\n",
              "    20% {\n",
              "      border-color: transparent;\n",
              "      border-left-color: var(--fill-color);\n",
              "      border-top-color: var(--fill-color);\n",
              "    }\n",
              "    30% {\n",
              "      border-color: transparent;\n",
              "      border-left-color: var(--fill-color);\n",
              "      border-top-color: var(--fill-color);\n",
              "      border-right-color: var(--fill-color);\n",
              "    }\n",
              "    40% {\n",
              "      border-color: transparent;\n",
              "      border-right-color: var(--fill-color);\n",
              "      border-top-color: var(--fill-color);\n",
              "    }\n",
              "    60% {\n",
              "      border-color: transparent;\n",
              "      border-right-color: var(--fill-color);\n",
              "    }\n",
              "    80% {\n",
              "      border-color: transparent;\n",
              "      border-right-color: var(--fill-color);\n",
              "      border-bottom-color: var(--fill-color);\n",
              "    }\n",
              "    90% {\n",
              "      border-color: transparent;\n",
              "      border-bottom-color: var(--fill-color);\n",
              "    }\n",
              "  }\n",
              "</style>\n",
              "\n",
              "  <script>\n",
              "    async function quickchart(key) {\n",
              "      const quickchartButtonEl =\n",
              "        document.querySelector('#' + key + ' button');\n",
              "      quickchartButtonEl.disabled = true;  // To prevent multiple clicks.\n",
              "      quickchartButtonEl.classList.add('colab-df-spinner');\n",
              "      try {\n",
              "        const charts = await google.colab.kernel.invokeFunction(\n",
              "            'suggestCharts', [key], {});\n",
              "      } catch (error) {\n",
              "        console.error('Error during call to suggestCharts:', error);\n",
              "      }\n",
              "      quickchartButtonEl.classList.remove('colab-df-spinner');\n",
              "      quickchartButtonEl.classList.add('colab-df-quickchart-complete');\n",
              "    }\n",
              "    (() => {\n",
              "      let quickchartButtonEl =\n",
              "        document.querySelector('#df-e0ba2d45-72c0-4f61-ab1a-a1f6ea367499 button');\n",
              "      quickchartButtonEl.style.display =\n",
              "        google.colab.kernel.accessAllowed ? 'block' : 'none';\n",
              "    })();\n",
              "  </script>\n",
              "</div>\n",
              "\n",
              "    </div>\n",
              "  </div>\n"
            ],
            "application/vnd.google.colaboratory.intrinsic+json": {
              "type": "dataframe",
              "variable_name": "df"
            }
          },
          "metadata": {},
          "execution_count": 175
        }
      ]
    },
    {
      "cell_type": "markdown",
      "source": [
        "Utilizando la función Shape, se realizó un conteo del número de filas y columnas del dataframe."
      ],
      "metadata": {
        "id": "BjhJgJfPLnWE"
      }
    },
    {
      "cell_type": "code",
      "source": [
        "print(f\"Filas: {df.shape[0]}, Columnas: {df.shape[1]}\")"
      ],
      "metadata": {
        "colab": {
          "base_uri": "https://localhost:8080/"
        },
        "id": "RmxIL8ECLrOW",
        "outputId": "bec3bf81-1b26-4c49-f80b-d7b8d6197b24"
      },
      "execution_count": 176,
      "outputs": [
        {
          "output_type": "stream",
          "name": "stdout",
          "text": [
            "Filas: 50315, Columnas: 25\n"
          ]
        }
      ]
    },
    {
      "cell_type": "markdown",
      "source": [
        "Después del conteo, se utilizó la función Info con la cual se obtuvó la información sobre las columnas, incluyendo el nombre y el tipo de dato de cada una."
      ],
      "metadata": {
        "id": "wyudn6xsM2Uy"
      }
    },
    {
      "cell_type": "code",
      "source": [
        "df.info()"
      ],
      "metadata": {
        "colab": {
          "base_uri": "https://localhost:8080/"
        },
        "id": "fnoKnxzUM43k",
        "outputId": "d6f3eaae-0629-47a1-cdd0-4385d972de12"
      },
      "execution_count": 177,
      "outputs": [
        {
          "output_type": "stream",
          "name": "stdout",
          "text": [
            "<class 'pandas.core.frame.DataFrame'>\n",
            "RangeIndex: 50315 entries, 0 to 50314\n",
            "Data columns (total 25 columns):\n",
            " #   Column               Non-Null Count  Dtype  \n",
            "---  ------               --------------  -----  \n",
            " 0   Development Name     50255 non-null  object \n",
            " 1   Borough              50315 non-null  object \n",
            " 2   Account Name         50315 non-null  object \n",
            " 3   Location             49487 non-null  object \n",
            " 4   Meter AMR            49805 non-null  object \n",
            " 5   Meter Scope          12782 non-null  object \n",
            " 6   TDS #                50255 non-null  float64\n",
            " 7   EDP                  50315 non-null  int64  \n",
            " 8   RC Code              50315 non-null  object \n",
            " 9   Funding Source       50239 non-null  object \n",
            " 10  AMP #                50193 non-null  object \n",
            " 11  Vendor Name          50315 non-null  object \n",
            " 12  UMIS BILL ID         50315 non-null  int64  \n",
            " 13  Revenue Month        50315 non-null  object \n",
            " 14  Service Start Date   50308 non-null  object \n",
            " 15  Service End Date     50308 non-null  object \n",
            " 16  # days               50308 non-null  float64\n",
            " 17  Meter Number         50315 non-null  object \n",
            " 18  Estimated            50315 non-null  object \n",
            " 19  Current Charges      50315 non-null  float64\n",
            " 20  Rate Class           50279 non-null  object \n",
            " 21  Bill Analyzed        50315 non-null  object \n",
            " 22  Consumption (HCF)    50315 non-null  int64  \n",
            " 23  Water&Sewer Charges  50315 non-null  float64\n",
            " 24  Other Charges        50315 non-null  float64\n",
            "dtypes: float64(5), int64(3), object(17)\n",
            "memory usage: 9.6+ MB\n"
          ]
        }
      ]
    },
    {
      "cell_type": "markdown",
      "source": [
        "Con la función Describe se proporcionó un resumen estadístico de cada columna."
      ],
      "metadata": {
        "id": "dXIKaXQXNl1N"
      }
    },
    {
      "cell_type": "code",
      "source": [
        "df.describe(include='all')"
      ],
      "metadata": {
        "colab": {
          "base_uri": "https://localhost:8080/",
          "height": 513
        },
        "id": "5IfE2XSnOGVZ",
        "outputId": "f2c94729-466e-4aa3-ca87-19841385b166"
      },
      "execution_count": 178,
      "outputs": [
        {
          "output_type": "execute_result",
          "data": {
            "text/plain": [
              "                        Development Name Borough  \\\n",
              "count                              50255   50315   \n",
              "unique                               110       7   \n",
              "top     FHA REPOSSESSED HOUSES (GROUP V)     FHA   \n",
              "freq                                4765   23460   \n",
              "mean                                 NaN     NaN   \n",
              "std                                  NaN     NaN   \n",
              "min                                  NaN     NaN   \n",
              "25%                                  NaN     NaN   \n",
              "50%                                  NaN     NaN   \n",
              "75%                                  NaN     NaN   \n",
              "max                                  NaN     NaN   \n",
              "\n",
              "                            Account Name Location Meter AMR       Meter Scope  \\\n",
              "count                              50315    49487     49805             12782   \n",
              "unique                               117      305         3                59   \n",
              "top     FHA REPOSSESSED HOUSES (GROUP V)   BLD 01       AMR  Community Center   \n",
              "freq                                4759     4459     43782              1228   \n",
              "mean                                 NaN      NaN       NaN               NaN   \n",
              "std                                  NaN      NaN       NaN               NaN   \n",
              "min                                  NaN      NaN       NaN               NaN   \n",
              "25%                                  NaN      NaN       NaN               NaN   \n",
              "50%                                  NaN      NaN       NaN               NaN   \n",
              "75%                                  NaN      NaN       NaN               NaN   \n",
              "max                                  NaN      NaN       NaN               NaN   \n",
              "\n",
              "               TDS #           EDP  RC Code Funding Source  ...  \\\n",
              "count   50255.000000  50315.000000    50315          50239  ...   \n",
              "unique           NaN           NaN      114              6  ...   \n",
              "top              NaN           NaN  Q026000        FEDERAL  ...   \n",
              "freq             NaN           NaN     4765          45346  ...   \n",
              "mean      258.871794    463.205764      NaN            NaN  ...   \n",
              "std       101.467018    185.109210      NaN            NaN  ...   \n",
              "min         1.000000    200.000000      NaN            NaN  ...   \n",
              "25%       209.000000    325.000000      NaN            NaN  ...   \n",
              "50%       273.000000    396.000000      NaN            NaN  ...   \n",
              "75%       338.000000    637.000000      NaN            NaN  ...   \n",
              "max       559.000000    999.000000      NaN            NaN  ...   \n",
              "\n",
              "       Service End Date        # days  Meter Number Estimated Current Charges  \\\n",
              "count             50308  50308.000000         50315     50315    50315.000000   \n",
              "unique             1114           NaN           795         2             NaN   \n",
              "top          03/24/2019           NaN    UN-METERED         N             NaN   \n",
              "freq                594           NaN           179     41499             NaN   \n",
              "mean                NaN     33.182953           NaN       NaN     2150.221066   \n",
              "std                 NaN     53.181840           NaN       NaN     5623.852543   \n",
              "min                 NaN   -335.000000           NaN       NaN    -1748.510000   \n",
              "25%                 NaN     29.000000           NaN       NaN       46.460000   \n",
              "50%                 NaN     30.000000           NaN       NaN      197.360000   \n",
              "75%                 NaN     32.000000           NaN       NaN     2598.415000   \n",
              "max                 NaN   6968.000000           NaN       NaN   392036.460000   \n",
              "\n",
              "                   Rate Class  Bill Analyzed Consumption (HCF)  \\\n",
              "count                   50279          50315      50315.000000   \n",
              "unique                      5              2               NaN   \n",
              "top     Basic Water and Sewer            Yes               NaN   \n",
              "freq                    50175          49235               NaN   \n",
              "mean                      NaN            NaN        224.291066   \n",
              "std                       NaN            NaN       2020.962056   \n",
              "min                       NaN            NaN          0.000000   \n",
              "25%                       NaN            NaN          5.000000   \n",
              "50%                       NaN            NaN         26.000000   \n",
              "75%                       NaN            NaN        236.000000   \n",
              "max                       NaN            NaN     434200.000000   \n",
              "\n",
              "       Water&Sewer Charges  Other Charges  \n",
              "count         50315.000000   50315.000000  \n",
              "unique                 NaN            NaN  \n",
              "top                    NaN            NaN  \n",
              "freq                   NaN            NaN  \n",
              "mean           2140.327436       9.893631  \n",
              "std            5619.812518     607.714232  \n",
              "min               0.000000  -67726.830000  \n",
              "25%              46.360000       0.000000  \n",
              "50%             196.350000       0.000000  \n",
              "75%            2575.520000       0.000000  \n",
              "max          392036.460000   77796.690000  \n",
              "\n",
              "[11 rows x 25 columns]"
            ],
            "text/html": [
              "\n",
              "  <div id=\"df-91f74543-88e0-4596-9b1c-cfc10070f3d0\" class=\"colab-df-container\">\n",
              "    <div>\n",
              "<style scoped>\n",
              "    .dataframe tbody tr th:only-of-type {\n",
              "        vertical-align: middle;\n",
              "    }\n",
              "\n",
              "    .dataframe tbody tr th {\n",
              "        vertical-align: top;\n",
              "    }\n",
              "\n",
              "    .dataframe thead th {\n",
              "        text-align: right;\n",
              "    }\n",
              "</style>\n",
              "<table border=\"1\" class=\"dataframe\">\n",
              "  <thead>\n",
              "    <tr style=\"text-align: right;\">\n",
              "      <th></th>\n",
              "      <th>Development Name</th>\n",
              "      <th>Borough</th>\n",
              "      <th>Account Name</th>\n",
              "      <th>Location</th>\n",
              "      <th>Meter AMR</th>\n",
              "      <th>Meter Scope</th>\n",
              "      <th>TDS #</th>\n",
              "      <th>EDP</th>\n",
              "      <th>RC Code</th>\n",
              "      <th>Funding Source</th>\n",
              "      <th>...</th>\n",
              "      <th>Service End Date</th>\n",
              "      <th># days</th>\n",
              "      <th>Meter Number</th>\n",
              "      <th>Estimated</th>\n",
              "      <th>Current Charges</th>\n",
              "      <th>Rate Class</th>\n",
              "      <th>Bill Analyzed</th>\n",
              "      <th>Consumption (HCF)</th>\n",
              "      <th>Water&amp;Sewer Charges</th>\n",
              "      <th>Other Charges</th>\n",
              "    </tr>\n",
              "  </thead>\n",
              "  <tbody>\n",
              "    <tr>\n",
              "      <th>count</th>\n",
              "      <td>50255</td>\n",
              "      <td>50315</td>\n",
              "      <td>50315</td>\n",
              "      <td>49487</td>\n",
              "      <td>49805</td>\n",
              "      <td>12782</td>\n",
              "      <td>50255.000000</td>\n",
              "      <td>50315.000000</td>\n",
              "      <td>50315</td>\n",
              "      <td>50239</td>\n",
              "      <td>...</td>\n",
              "      <td>50308</td>\n",
              "      <td>50308.000000</td>\n",
              "      <td>50315</td>\n",
              "      <td>50315</td>\n",
              "      <td>50315.000000</td>\n",
              "      <td>50279</td>\n",
              "      <td>50315</td>\n",
              "      <td>50315.000000</td>\n",
              "      <td>50315.000000</td>\n",
              "      <td>50315.000000</td>\n",
              "    </tr>\n",
              "    <tr>\n",
              "      <th>unique</th>\n",
              "      <td>110</td>\n",
              "      <td>7</td>\n",
              "      <td>117</td>\n",
              "      <td>305</td>\n",
              "      <td>3</td>\n",
              "      <td>59</td>\n",
              "      <td>NaN</td>\n",
              "      <td>NaN</td>\n",
              "      <td>114</td>\n",
              "      <td>6</td>\n",
              "      <td>...</td>\n",
              "      <td>1114</td>\n",
              "      <td>NaN</td>\n",
              "      <td>795</td>\n",
              "      <td>2</td>\n",
              "      <td>NaN</td>\n",
              "      <td>5</td>\n",
              "      <td>2</td>\n",
              "      <td>NaN</td>\n",
              "      <td>NaN</td>\n",
              "      <td>NaN</td>\n",
              "    </tr>\n",
              "    <tr>\n",
              "      <th>top</th>\n",
              "      <td>FHA REPOSSESSED HOUSES (GROUP V)</td>\n",
              "      <td>FHA</td>\n",
              "      <td>FHA REPOSSESSED HOUSES (GROUP V)</td>\n",
              "      <td>BLD 01</td>\n",
              "      <td>AMR</td>\n",
              "      <td>Community Center</td>\n",
              "      <td>NaN</td>\n",
              "      <td>NaN</td>\n",
              "      <td>Q026000</td>\n",
              "      <td>FEDERAL</td>\n",
              "      <td>...</td>\n",
              "      <td>03/24/2019</td>\n",
              "      <td>NaN</td>\n",
              "      <td>UN-METERED</td>\n",
              "      <td>N</td>\n",
              "      <td>NaN</td>\n",
              "      <td>Basic Water and Sewer</td>\n",
              "      <td>Yes</td>\n",
              "      <td>NaN</td>\n",
              "      <td>NaN</td>\n",
              "      <td>NaN</td>\n",
              "    </tr>\n",
              "    <tr>\n",
              "      <th>freq</th>\n",
              "      <td>4765</td>\n",
              "      <td>23460</td>\n",
              "      <td>4759</td>\n",
              "      <td>4459</td>\n",
              "      <td>43782</td>\n",
              "      <td>1228</td>\n",
              "      <td>NaN</td>\n",
              "      <td>NaN</td>\n",
              "      <td>4765</td>\n",
              "      <td>45346</td>\n",
              "      <td>...</td>\n",
              "      <td>594</td>\n",
              "      <td>NaN</td>\n",
              "      <td>179</td>\n",
              "      <td>41499</td>\n",
              "      <td>NaN</td>\n",
              "      <td>50175</td>\n",
              "      <td>49235</td>\n",
              "      <td>NaN</td>\n",
              "      <td>NaN</td>\n",
              "      <td>NaN</td>\n",
              "    </tr>\n",
              "    <tr>\n",
              "      <th>mean</th>\n",
              "      <td>NaN</td>\n",
              "      <td>NaN</td>\n",
              "      <td>NaN</td>\n",
              "      <td>NaN</td>\n",
              "      <td>NaN</td>\n",
              "      <td>NaN</td>\n",
              "      <td>258.871794</td>\n",
              "      <td>463.205764</td>\n",
              "      <td>NaN</td>\n",
              "      <td>NaN</td>\n",
              "      <td>...</td>\n",
              "      <td>NaN</td>\n",
              "      <td>33.182953</td>\n",
              "      <td>NaN</td>\n",
              "      <td>NaN</td>\n",
              "      <td>2150.221066</td>\n",
              "      <td>NaN</td>\n",
              "      <td>NaN</td>\n",
              "      <td>224.291066</td>\n",
              "      <td>2140.327436</td>\n",
              "      <td>9.893631</td>\n",
              "    </tr>\n",
              "    <tr>\n",
              "      <th>std</th>\n",
              "      <td>NaN</td>\n",
              "      <td>NaN</td>\n",
              "      <td>NaN</td>\n",
              "      <td>NaN</td>\n",
              "      <td>NaN</td>\n",
              "      <td>NaN</td>\n",
              "      <td>101.467018</td>\n",
              "      <td>185.109210</td>\n",
              "      <td>NaN</td>\n",
              "      <td>NaN</td>\n",
              "      <td>...</td>\n",
              "      <td>NaN</td>\n",
              "      <td>53.181840</td>\n",
              "      <td>NaN</td>\n",
              "      <td>NaN</td>\n",
              "      <td>5623.852543</td>\n",
              "      <td>NaN</td>\n",
              "      <td>NaN</td>\n",
              "      <td>2020.962056</td>\n",
              "      <td>5619.812518</td>\n",
              "      <td>607.714232</td>\n",
              "    </tr>\n",
              "    <tr>\n",
              "      <th>min</th>\n",
              "      <td>NaN</td>\n",
              "      <td>NaN</td>\n",
              "      <td>NaN</td>\n",
              "      <td>NaN</td>\n",
              "      <td>NaN</td>\n",
              "      <td>NaN</td>\n",
              "      <td>1.000000</td>\n",
              "      <td>200.000000</td>\n",
              "      <td>NaN</td>\n",
              "      <td>NaN</td>\n",
              "      <td>...</td>\n",
              "      <td>NaN</td>\n",
              "      <td>-335.000000</td>\n",
              "      <td>NaN</td>\n",
              "      <td>NaN</td>\n",
              "      <td>-1748.510000</td>\n",
              "      <td>NaN</td>\n",
              "      <td>NaN</td>\n",
              "      <td>0.000000</td>\n",
              "      <td>0.000000</td>\n",
              "      <td>-67726.830000</td>\n",
              "    </tr>\n",
              "    <tr>\n",
              "      <th>25%</th>\n",
              "      <td>NaN</td>\n",
              "      <td>NaN</td>\n",
              "      <td>NaN</td>\n",
              "      <td>NaN</td>\n",
              "      <td>NaN</td>\n",
              "      <td>NaN</td>\n",
              "      <td>209.000000</td>\n",
              "      <td>325.000000</td>\n",
              "      <td>NaN</td>\n",
              "      <td>NaN</td>\n",
              "      <td>...</td>\n",
              "      <td>NaN</td>\n",
              "      <td>29.000000</td>\n",
              "      <td>NaN</td>\n",
              "      <td>NaN</td>\n",
              "      <td>46.460000</td>\n",
              "      <td>NaN</td>\n",
              "      <td>NaN</td>\n",
              "      <td>5.000000</td>\n",
              "      <td>46.360000</td>\n",
              "      <td>0.000000</td>\n",
              "    </tr>\n",
              "    <tr>\n",
              "      <th>50%</th>\n",
              "      <td>NaN</td>\n",
              "      <td>NaN</td>\n",
              "      <td>NaN</td>\n",
              "      <td>NaN</td>\n",
              "      <td>NaN</td>\n",
              "      <td>NaN</td>\n",
              "      <td>273.000000</td>\n",
              "      <td>396.000000</td>\n",
              "      <td>NaN</td>\n",
              "      <td>NaN</td>\n",
              "      <td>...</td>\n",
              "      <td>NaN</td>\n",
              "      <td>30.000000</td>\n",
              "      <td>NaN</td>\n",
              "      <td>NaN</td>\n",
              "      <td>197.360000</td>\n",
              "      <td>NaN</td>\n",
              "      <td>NaN</td>\n",
              "      <td>26.000000</td>\n",
              "      <td>196.350000</td>\n",
              "      <td>0.000000</td>\n",
              "    </tr>\n",
              "    <tr>\n",
              "      <th>75%</th>\n",
              "      <td>NaN</td>\n",
              "      <td>NaN</td>\n",
              "      <td>NaN</td>\n",
              "      <td>NaN</td>\n",
              "      <td>NaN</td>\n",
              "      <td>NaN</td>\n",
              "      <td>338.000000</td>\n",
              "      <td>637.000000</td>\n",
              "      <td>NaN</td>\n",
              "      <td>NaN</td>\n",
              "      <td>...</td>\n",
              "      <td>NaN</td>\n",
              "      <td>32.000000</td>\n",
              "      <td>NaN</td>\n",
              "      <td>NaN</td>\n",
              "      <td>2598.415000</td>\n",
              "      <td>NaN</td>\n",
              "      <td>NaN</td>\n",
              "      <td>236.000000</td>\n",
              "      <td>2575.520000</td>\n",
              "      <td>0.000000</td>\n",
              "    </tr>\n",
              "    <tr>\n",
              "      <th>max</th>\n",
              "      <td>NaN</td>\n",
              "      <td>NaN</td>\n",
              "      <td>NaN</td>\n",
              "      <td>NaN</td>\n",
              "      <td>NaN</td>\n",
              "      <td>NaN</td>\n",
              "      <td>559.000000</td>\n",
              "      <td>999.000000</td>\n",
              "      <td>NaN</td>\n",
              "      <td>NaN</td>\n",
              "      <td>...</td>\n",
              "      <td>NaN</td>\n",
              "      <td>6968.000000</td>\n",
              "      <td>NaN</td>\n",
              "      <td>NaN</td>\n",
              "      <td>392036.460000</td>\n",
              "      <td>NaN</td>\n",
              "      <td>NaN</td>\n",
              "      <td>434200.000000</td>\n",
              "      <td>392036.460000</td>\n",
              "      <td>77796.690000</td>\n",
              "    </tr>\n",
              "  </tbody>\n",
              "</table>\n",
              "<p>11 rows × 25 columns</p>\n",
              "</div>\n",
              "    <div class=\"colab-df-buttons\">\n",
              "\n",
              "  <div class=\"colab-df-container\">\n",
              "    <button class=\"colab-df-convert\" onclick=\"convertToInteractive('df-91f74543-88e0-4596-9b1c-cfc10070f3d0')\"\n",
              "            title=\"Convert this dataframe to an interactive table.\"\n",
              "            style=\"display:none;\">\n",
              "\n",
              "  <svg xmlns=\"http://www.w3.org/2000/svg\" height=\"24px\" viewBox=\"0 -960 960 960\">\n",
              "    <path d=\"M120-120v-720h720v720H120Zm60-500h600v-160H180v160Zm220 220h160v-160H400v160Zm0 220h160v-160H400v160ZM180-400h160v-160H180v160Zm440 0h160v-160H620v160ZM180-180h160v-160H180v160Zm440 0h160v-160H620v160Z\"/>\n",
              "  </svg>\n",
              "    </button>\n",
              "\n",
              "  <style>\n",
              "    .colab-df-container {\n",
              "      display:flex;\n",
              "      gap: 12px;\n",
              "    }\n",
              "\n",
              "    .colab-df-convert {\n",
              "      background-color: #E8F0FE;\n",
              "      border: none;\n",
              "      border-radius: 50%;\n",
              "      cursor: pointer;\n",
              "      display: none;\n",
              "      fill: #1967D2;\n",
              "      height: 32px;\n",
              "      padding: 0 0 0 0;\n",
              "      width: 32px;\n",
              "    }\n",
              "\n",
              "    .colab-df-convert:hover {\n",
              "      background-color: #E2EBFA;\n",
              "      box-shadow: 0px 1px 2px rgba(60, 64, 67, 0.3), 0px 1px 3px 1px rgba(60, 64, 67, 0.15);\n",
              "      fill: #174EA6;\n",
              "    }\n",
              "\n",
              "    .colab-df-buttons div {\n",
              "      margin-bottom: 4px;\n",
              "    }\n",
              "\n",
              "    [theme=dark] .colab-df-convert {\n",
              "      background-color: #3B4455;\n",
              "      fill: #D2E3FC;\n",
              "    }\n",
              "\n",
              "    [theme=dark] .colab-df-convert:hover {\n",
              "      background-color: #434B5C;\n",
              "      box-shadow: 0px 1px 3px 1px rgba(0, 0, 0, 0.15);\n",
              "      filter: drop-shadow(0px 1px 2px rgba(0, 0, 0, 0.3));\n",
              "      fill: #FFFFFF;\n",
              "    }\n",
              "  </style>\n",
              "\n",
              "    <script>\n",
              "      const buttonEl =\n",
              "        document.querySelector('#df-91f74543-88e0-4596-9b1c-cfc10070f3d0 button.colab-df-convert');\n",
              "      buttonEl.style.display =\n",
              "        google.colab.kernel.accessAllowed ? 'block' : 'none';\n",
              "\n",
              "      async function convertToInteractive(key) {\n",
              "        const element = document.querySelector('#df-91f74543-88e0-4596-9b1c-cfc10070f3d0');\n",
              "        const dataTable =\n",
              "          await google.colab.kernel.invokeFunction('convertToInteractive',\n",
              "                                                    [key], {});\n",
              "        if (!dataTable) return;\n",
              "\n",
              "        const docLinkHtml = 'Like what you see? Visit the ' +\n",
              "          '<a target=\"_blank\" href=https://colab.research.google.com/notebooks/data_table.ipynb>data table notebook</a>'\n",
              "          + ' to learn more about interactive tables.';\n",
              "        element.innerHTML = '';\n",
              "        dataTable['output_type'] = 'display_data';\n",
              "        await google.colab.output.renderOutput(dataTable, element);\n",
              "        const docLink = document.createElement('div');\n",
              "        docLink.innerHTML = docLinkHtml;\n",
              "        element.appendChild(docLink);\n",
              "      }\n",
              "    </script>\n",
              "  </div>\n",
              "\n",
              "\n",
              "<div id=\"df-4d393f35-9b83-464f-a2d1-5aaa47299c36\">\n",
              "  <button class=\"colab-df-quickchart\" onclick=\"quickchart('df-4d393f35-9b83-464f-a2d1-5aaa47299c36')\"\n",
              "            title=\"Suggest charts\"\n",
              "            style=\"display:none;\">\n",
              "\n",
              "<svg xmlns=\"http://www.w3.org/2000/svg\" height=\"24px\"viewBox=\"0 0 24 24\"\n",
              "     width=\"24px\">\n",
              "    <g>\n",
              "        <path d=\"M19 3H5c-1.1 0-2 .9-2 2v14c0 1.1.9 2 2 2h14c1.1 0 2-.9 2-2V5c0-1.1-.9-2-2-2zM9 17H7v-7h2v7zm4 0h-2V7h2v10zm4 0h-2v-4h2v4z\"/>\n",
              "    </g>\n",
              "</svg>\n",
              "  </button>\n",
              "\n",
              "<style>\n",
              "  .colab-df-quickchart {\n",
              "      --bg-color: #E8F0FE;\n",
              "      --fill-color: #1967D2;\n",
              "      --hover-bg-color: #E2EBFA;\n",
              "      --hover-fill-color: #174EA6;\n",
              "      --disabled-fill-color: #AAA;\n",
              "      --disabled-bg-color: #DDD;\n",
              "  }\n",
              "\n",
              "  [theme=dark] .colab-df-quickchart {\n",
              "      --bg-color: #3B4455;\n",
              "      --fill-color: #D2E3FC;\n",
              "      --hover-bg-color: #434B5C;\n",
              "      --hover-fill-color: #FFFFFF;\n",
              "      --disabled-bg-color: #3B4455;\n",
              "      --disabled-fill-color: #666;\n",
              "  }\n",
              "\n",
              "  .colab-df-quickchart {\n",
              "    background-color: var(--bg-color);\n",
              "    border: none;\n",
              "    border-radius: 50%;\n",
              "    cursor: pointer;\n",
              "    display: none;\n",
              "    fill: var(--fill-color);\n",
              "    height: 32px;\n",
              "    padding: 0;\n",
              "    width: 32px;\n",
              "  }\n",
              "\n",
              "  .colab-df-quickchart:hover {\n",
              "    background-color: var(--hover-bg-color);\n",
              "    box-shadow: 0 1px 2px rgba(60, 64, 67, 0.3), 0 1px 3px 1px rgba(60, 64, 67, 0.15);\n",
              "    fill: var(--button-hover-fill-color);\n",
              "  }\n",
              "\n",
              "  .colab-df-quickchart-complete:disabled,\n",
              "  .colab-df-quickchart-complete:disabled:hover {\n",
              "    background-color: var(--disabled-bg-color);\n",
              "    fill: var(--disabled-fill-color);\n",
              "    box-shadow: none;\n",
              "  }\n",
              "\n",
              "  .colab-df-spinner {\n",
              "    border: 2px solid var(--fill-color);\n",
              "    border-color: transparent;\n",
              "    border-bottom-color: var(--fill-color);\n",
              "    animation:\n",
              "      spin 1s steps(1) infinite;\n",
              "  }\n",
              "\n",
              "  @keyframes spin {\n",
              "    0% {\n",
              "      border-color: transparent;\n",
              "      border-bottom-color: var(--fill-color);\n",
              "      border-left-color: var(--fill-color);\n",
              "    }\n",
              "    20% {\n",
              "      border-color: transparent;\n",
              "      border-left-color: var(--fill-color);\n",
              "      border-top-color: var(--fill-color);\n",
              "    }\n",
              "    30% {\n",
              "      border-color: transparent;\n",
              "      border-left-color: var(--fill-color);\n",
              "      border-top-color: var(--fill-color);\n",
              "      border-right-color: var(--fill-color);\n",
              "    }\n",
              "    40% {\n",
              "      border-color: transparent;\n",
              "      border-right-color: var(--fill-color);\n",
              "      border-top-color: var(--fill-color);\n",
              "    }\n",
              "    60% {\n",
              "      border-color: transparent;\n",
              "      border-right-color: var(--fill-color);\n",
              "    }\n",
              "    80% {\n",
              "      border-color: transparent;\n",
              "      border-right-color: var(--fill-color);\n",
              "      border-bottom-color: var(--fill-color);\n",
              "    }\n",
              "    90% {\n",
              "      border-color: transparent;\n",
              "      border-bottom-color: var(--fill-color);\n",
              "    }\n",
              "  }\n",
              "</style>\n",
              "\n",
              "  <script>\n",
              "    async function quickchart(key) {\n",
              "      const quickchartButtonEl =\n",
              "        document.querySelector('#' + key + ' button');\n",
              "      quickchartButtonEl.disabled = true;  // To prevent multiple clicks.\n",
              "      quickchartButtonEl.classList.add('colab-df-spinner');\n",
              "      try {\n",
              "        const charts = await google.colab.kernel.invokeFunction(\n",
              "            'suggestCharts', [key], {});\n",
              "      } catch (error) {\n",
              "        console.error('Error during call to suggestCharts:', error);\n",
              "      }\n",
              "      quickchartButtonEl.classList.remove('colab-df-spinner');\n",
              "      quickchartButtonEl.classList.add('colab-df-quickchart-complete');\n",
              "    }\n",
              "    (() => {\n",
              "      let quickchartButtonEl =\n",
              "        document.querySelector('#df-4d393f35-9b83-464f-a2d1-5aaa47299c36 button');\n",
              "      quickchartButtonEl.style.display =\n",
              "        google.colab.kernel.accessAllowed ? 'block' : 'none';\n",
              "    })();\n",
              "  </script>\n",
              "</div>\n",
              "\n",
              "    </div>\n",
              "  </div>\n"
            ],
            "application/vnd.google.colaboratory.intrinsic+json": {
              "type": "dataframe"
            }
          },
          "metadata": {},
          "execution_count": 178
        }
      ]
    },
    {
      "cell_type": "markdown",
      "source": [
        "# **4. Limpieza y Transformación del Conjunto de Datos**\n"
      ],
      "metadata": {
        "id": "X9IGmbabpuTz"
      }
    },
    {
      "cell_type": "markdown",
      "source": [
        "Antes de proceder con la limpieza y transformación de los datos, se llevó a cabo un análisis detallado de las columnas del dataframe, basado en las estadísticas previamente calculadas. Este análisis tuvo como objetivo identificar variables irrelevantes y caracterizar la distribución de los datos para optimizar su tratamiento en las siguientes etapas del proceso.\n",
        "\n",
        "Con base en este análisis, se determinó que las columnas Meter AMR, Meter Scope, EDP, Funding Source, AMP #, Vendor Name, Estimated y Bill Analyzed serían eliminadas, ya que no aportaban un valor significativo al análisis del dataframe y presentaban una baja variabilidad en la distribución de los datos.\n",
        "\n",
        "A continuación, se presentan las gráficas que ilustran la distribución de los datos de las columnas eliminadas."
      ],
      "metadata": {
        "id": "uif8jT-zMgIA"
      }
    },
    {
      "cell_type": "code",
      "source": [
        "fig, axes = plt.subplots(nrows=4, ncols=2, figsize=(15, 20))\n",
        "axes = axes.ravel()\n",
        "\n",
        "\n",
        "columns_to_plot = ['Meter AMR', 'Meter Scope', 'EDP', 'Funding Source', 'AMP #', 'Vendor Name', 'Estimated', 'Bill Analyzed']\n",
        "\n",
        "for i, col in enumerate(columns_to_plot):\n",
        "    try:\n",
        "        if col in df.columns:\n",
        "          if df[col].dtype == 'object':\n",
        "              df[col].value_counts().plot(kind='bar', ax=axes[i])\n",
        "          else:\n",
        "              df[col].hist(ax=axes[i])\n",
        "          axes[i].set_title(f'Distribución de {col}')\n",
        "          axes[i].set_xlabel(col)\n",
        "          axes[i].set_ylabel('Frecuencia/Conteo')\n",
        "        else:\n",
        "          axes[i].set_title(f\"Column '{col}' no encontrada en Dataframe\")\n",
        "\n",
        "    except Exception as e:\n",
        "        axes[i].set_title(f\"Error al trazar {col}: {e}\")\n",
        "\n",
        "plt.tight_layout()\n",
        "plt.show()\n"
      ],
      "metadata": {
        "colab": {
          "base_uri": "https://localhost:8080/",
          "height": 1000
        },
        "id": "4k_f-lybXS39",
        "outputId": "b05a3b3f-11fc-4cbf-8db9-f5f47f3d6c0d"
      },
      "execution_count": 179,
      "outputs": [
        {
          "output_type": "display_data",
          "data": {
            "text/plain": [
              "<Figure size 1500x2000 with 8 Axes>"
            ],
            "image/png": "[encoded data removed]"
          },
          "metadata": {}
        }
      ]
    },
    {
      "cell_type": "markdown",
      "source": [
        "A continuación se muestra el código para eliminación de las columnas."
      ],
      "metadata": {
        "id": "rHBoTJVxZXID"
      }
    },
    {
      "cell_type": "code",
      "source": [
        "df = df.drop(columns=['Meter AMR', 'Meter Scope', 'EDP', 'Funding Source', 'AMP #', 'Vendor Name', 'Estimated', 'Bill Analyzed'])"
      ],
      "metadata": {
        "id": "KY1svXqSZjk6"
      },
      "execution_count": 180,
      "outputs": []
    },
    {
      "cell_type": "markdown",
      "source": [
        "***Normalización de Nombres de Columnas***"
      ],
      "metadata": {
        "id": "nCSk9oyVSGuj"
      }
    },
    {
      "cell_type": "markdown",
      "source": [
        "Como primer paso en el proceso de normalización, se presentó una visión general de todas las columnas del DataFrame."
      ],
      "metadata": {
        "id": "mAZqL04-cA09"
      }
    },
    {
      "cell_type": "code",
      "source": [
        "df.columns"
      ],
      "metadata": {
        "colab": {
          "base_uri": "https://localhost:8080/"
        },
        "id": "eDejWEzAcV5D",
        "outputId": "c3dbd011-0c62-4049-abeb-7125b66f5134"
      },
      "execution_count": 181,
      "outputs": [
        {
          "output_type": "execute_result",
          "data": {
            "text/plain": [
              "Index(['Development Name', 'Borough', 'Account Name', 'Location', 'TDS #',\n",
              "       'RC Code', 'UMIS BILL ID', 'Revenue Month', 'Service Start Date',\n",
              "       'Service End Date', '# days', 'Meter Number', 'Current Charges',\n",
              "       'Rate Class', 'Consumption (HCF)', 'Water&Sewer Charges',\n",
              "       'Other Charges'],\n",
              "      dtype='object')"
            ]
          },
          "metadata": {},
          "execution_count": 181
        }
      ]
    },
    {
      "cell_type": "markdown",
      "source": [
        "A continuación, se identificaron las columnas que contenían caracteres especiales o espacios en blanco mediante una expresión regular."
      ],
      "metadata": {
        "id": "JNwRlz0CVfly"
      }
    },
    {
      "cell_type": "code",
      "source": [
        "for col in df.columns:\n",
        "    if re.search(r'[^\\w\\s]', col) or re.search(r'\\s', col):\n",
        "      print(col)"
      ],
      "metadata": {
        "colab": {
          "base_uri": "https://localhost:8080/"
        },
        "id": "D79fhq_sZuvQ",
        "outputId": "418e650d-7757-4551-d2de-7be6591d9523"
      },
      "execution_count": 182,
      "outputs": [
        {
          "output_type": "stream",
          "name": "stdout",
          "text": [
            "Development Name\n",
            "Account Name\n",
            "TDS #\n",
            "RC Code\n",
            "UMIS BILL ID\n",
            "Revenue Month\n",
            "Service Start Date\n",
            "Service End Date\n",
            "# days\n",
            "Meter Number\n",
            "Current Charges\n",
            "Rate Class\n",
            "Consumption (HCF)\n",
            "Water&Sewer Charges\n",
            "Other Charges\n"
          ]
        }
      ]
    },
    {
      "cell_type": "markdown",
      "source": [
        "Tras identificar las columnas, se procedió a su normalización mediante una expresión regular, lo que realizar esta expresión es reemplazar todos los caracteres que no sean alfanuméricos por una cadena vacía. Además, se aplicó la función lower() para convertir todos los nombres de las columnas a minúsculas."
      ],
      "metadata": {
        "id": "YE1BO1vRbV9X"
      }
    },
    {
      "cell_type": "code",
      "source": [
        "df.columns = df.columns.str.lower().str.replace(r\"\\W+\", \"\", regex=True)"
      ],
      "metadata": {
        "id": "amflNQuKfPV9"
      },
      "execution_count": 183,
      "outputs": []
    },
    {
      "cell_type": "markdown",
      "source": [
        "Una vez completada la normalización, se verificaron los nombres de todas las columnas."
      ],
      "metadata": {
        "id": "Hx-ZYGg_fT9U"
      }
    },
    {
      "cell_type": "code",
      "source": [
        "df.columns"
      ],
      "metadata": {
        "colab": {
          "base_uri": "https://localhost:8080/"
        },
        "id": "GYX0_48zfuMU",
        "outputId": "9f42754a-54e3-4aa8-ab29-7c579e2f8717"
      },
      "execution_count": 184,
      "outputs": [
        {
          "output_type": "execute_result",
          "data": {
            "text/plain": [
              "Index(['developmentname', 'borough', 'accountname', 'location', 'tds',\n",
              "       'rccode', 'umisbillid', 'revenuemonth', 'servicestartdate',\n",
              "       'serviceenddate', 'days', 'meternumber', 'currentcharges', 'rateclass',\n",
              "       'consumptionhcf', 'watersewercharges', 'othercharges'],\n",
              "      dtype='object')"
            ]
          },
          "metadata": {},
          "execution_count": 184
        }
      ]
    },
    {
      "cell_type": "markdown",
      "source": [
        "***Limpieza, Transformación y Normalización de Datos Temporales***"
      ],
      "metadata": {
        "id": "yqs6bq6eBs93"
      }
    },
    {
      "cell_type": "markdown",
      "source": [
        "En esta sección, se trabajó con los datos temporales. Primero, la columna revenuemonth se convirtió al tipo Datetime, respetando el mismo formato presente en el archivo CSV."
      ],
      "metadata": {
        "id": "TDozpl8iB58r"
      }
    },
    {
      "cell_type": "code",
      "source": [
        "df['revenuemonth'] = pd.to_datetime(df['revenuemonth'], format='%Y-%m')"
      ],
      "metadata": {
        "id": "wXHl7zXGCA3m"
      },
      "execution_count": 185,
      "outputs": []
    },
    {
      "cell_type": "markdown",
      "source": [
        "A continuación, las columnas servicestartdate y serviceenddate se convirtieron al tipo Datetime, respetando el formato del archivo CSV.\n",
        "\n",
        "Además, se implementó una estrategia para manejar los valores nulos, la cual consistió en reemplazarlos por NaT, ya que no se observa una secuencia en los valores de dichas columnas."
      ],
      "metadata": {
        "id": "msElaGwsCM0a"
      }
    },
    {
      "cell_type": "code",
      "source": [
        "df['servicestartdate'] = pd.to_datetime(df['servicestartdate'], format='%m/%d/%Y', errors=\"coerce\")\n",
        "df['serviceenddate'] = pd.to_datetime(df['serviceenddate'], format='%m/%d/%Y', errors=\"coerce\")"
      ],
      "metadata": {
        "id": "gqb3WDfhCSmj"
      },
      "execution_count": 186,
      "outputs": []
    },
    {
      "cell_type": "markdown",
      "source": [
        "Por último, se verificó el nuevo tipo de datos en las columnas."
      ],
      "metadata": {
        "id": "yZJl7tziCk65"
      }
    },
    {
      "cell_type": "code",
      "source": [
        "df[['revenuemonth', 'servicestartdate', 'serviceenddate']].dtypes"
      ],
      "metadata": {
        "colab": {
          "base_uri": "https://localhost:8080/",
          "height": 178
        },
        "id": "pRnmv32NCljP",
        "outputId": "9de03341-2c37-4420-b2d9-756dbc9f7375"
      },
      "execution_count": 187,
      "outputs": [
        {
          "output_type": "execute_result",
          "data": {
            "text/plain": [
              "revenuemonth        datetime64[ns]\n",
              "servicestartdate    datetime64[ns]\n",
              "serviceenddate      datetime64[ns]\n",
              "dtype: object"
            ],
            "text/html": [
              "<div>\n",
              "<style scoped>\n",
              "    .dataframe tbody tr th:only-of-type {\n",
              "        vertical-align: middle;\n",
              "    }\n",
              "\n",
              "    .dataframe tbody tr th {\n",
              "        vertical-align: top;\n",
              "    }\n",
              "\n",
              "    .dataframe thead th {\n",
              "        text-align: right;\n",
              "    }\n",
              "</style>\n",
              "<table border=\"1\" class=\"dataframe\">\n",
              "  <thead>\n",
              "    <tr style=\"text-align: right;\">\n",
              "      <th></th>\n",
              "      <th>0</th>\n",
              "    </tr>\n",
              "  </thead>\n",
              "  <tbody>\n",
              "    <tr>\n",
              "      <th>revenuemonth</th>\n",
              "      <td>datetime64[ns]</td>\n",
              "    </tr>\n",
              "    <tr>\n",
              "      <th>servicestartdate</th>\n",
              "      <td>datetime64[ns]</td>\n",
              "    </tr>\n",
              "    <tr>\n",
              "      <th>serviceenddate</th>\n",
              "      <td>datetime64[ns]</td>\n",
              "    </tr>\n",
              "  </tbody>\n",
              "</table>\n",
              "</div><br><label><b>dtype:</b> object</label>"
            ]
          },
          "metadata": {},
          "execution_count": 187
        }
      ]
    },
    {
      "cell_type": "markdown",
      "source": [
        "***Corrección de Tipos de Datos y Manejo de Datos Perdidos***"
      ],
      "metadata": {
        "id": "8AEf1QvZuvI8"
      }
    },
    {
      "cell_type": "markdown",
      "source": [
        "Para el proceso de corrección de tipos de datos, primero se presentó una visión general del tipo de dato en cada columna."
      ],
      "metadata": {
        "id": "c5T4FPWMIUo2"
      }
    },
    {
      "cell_type": "code",
      "source": [
        "df.dtypes"
      ],
      "metadata": {
        "colab": {
          "base_uri": "https://localhost:8080/",
          "height": 617
        },
        "id": "UHN2TtCTIpzn",
        "outputId": "22bc8429-5bef-4722-e244-167962882b54"
      },
      "execution_count": 188,
      "outputs": [
        {
          "output_type": "execute_result",
          "data": {
            "text/plain": [
              "developmentname              object\n",
              "borough                      object\n",
              "accountname                  object\n",
              "location                     object\n",
              "tds                         float64\n",
              "rccode                       object\n",
              "umisbillid                    int64\n",
              "revenuemonth         datetime64[ns]\n",
              "servicestartdate     datetime64[ns]\n",
              "serviceenddate       datetime64[ns]\n",
              "days                        float64\n",
              "meternumber                  object\n",
              "currentcharges              float64\n",
              "rateclass                    object\n",
              "consumptionhcf                int64\n",
              "watersewercharges           float64\n",
              "othercharges                float64\n",
              "dtype: object"
            ],
            "text/html": [
              "<div>\n",
              "<style scoped>\n",
              "    .dataframe tbody tr th:only-of-type {\n",
              "        vertical-align: middle;\n",
              "    }\n",
              "\n",
              "    .dataframe tbody tr th {\n",
              "        vertical-align: top;\n",
              "    }\n",
              "\n",
              "    .dataframe thead th {\n",
              "        text-align: right;\n",
              "    }\n",
              "</style>\n",
              "<table border=\"1\" class=\"dataframe\">\n",
              "  <thead>\n",
              "    <tr style=\"text-align: right;\">\n",
              "      <th></th>\n",
              "      <th>0</th>\n",
              "    </tr>\n",
              "  </thead>\n",
              "  <tbody>\n",
              "    <tr>\n",
              "      <th>developmentname</th>\n",
              "      <td>object</td>\n",
              "    </tr>\n",
              "    <tr>\n",
              "      <th>borough</th>\n",
              "      <td>object</td>\n",
              "    </tr>\n",
              "    <tr>\n",
              "      <th>accountname</th>\n",
              "      <td>object</td>\n",
              "    </tr>\n",
              "    <tr>\n",
              "      <th>location</th>\n",
              "      <td>object</td>\n",
              "    </tr>\n",
              "    <tr>\n",
              "      <th>tds</th>\n",
              "      <td>float64</td>\n",
              "    </tr>\n",
              "    <tr>\n",
              "      <th>rccode</th>\n",
              "      <td>object</td>\n",
              "    </tr>\n",
              "    <tr>\n",
              "      <th>umisbillid</th>\n",
              "      <td>int64</td>\n",
              "    </tr>\n",
              "    <tr>\n",
              "      <th>revenuemonth</th>\n",
              "      <td>datetime64[ns]</td>\n",
              "    </tr>\n",
              "    <tr>\n",
              "      <th>servicestartdate</th>\n",
              "      <td>datetime64[ns]</td>\n",
              "    </tr>\n",
              "    <tr>\n",
              "      <th>serviceenddate</th>\n",
              "      <td>datetime64[ns]</td>\n",
              "    </tr>\n",
              "    <tr>\n",
              "      <th>days</th>\n",
              "      <td>float64</td>\n",
              "    </tr>\n",
              "    <tr>\n",
              "      <th>meternumber</th>\n",
              "      <td>object</td>\n",
              "    </tr>\n",
              "    <tr>\n",
              "      <th>currentcharges</th>\n",
              "      <td>float64</td>\n",
              "    </tr>\n",
              "    <tr>\n",
              "      <th>rateclass</th>\n",
              "      <td>object</td>\n",
              "    </tr>\n",
              "    <tr>\n",
              "      <th>consumptionhcf</th>\n",
              "      <td>int64</td>\n",
              "    </tr>\n",
              "    <tr>\n",
              "      <th>watersewercharges</th>\n",
              "      <td>float64</td>\n",
              "    </tr>\n",
              "    <tr>\n",
              "      <th>othercharges</th>\n",
              "      <td>float64</td>\n",
              "    </tr>\n",
              "  </tbody>\n",
              "</table>\n",
              "</div><br><label><b>dtype:</b> object</label>"
            ]
          },
          "metadata": {},
          "execution_count": 188
        }
      ]
    },
    {
      "cell_type": "markdown",
      "source": [
        "Además de verificar el tipo de cada columna, se comprobó la presencia de datos perdidos en ellas."
      ],
      "metadata": {
        "id": "_NuMooP1p9Se"
      }
    },
    {
      "cell_type": "code",
      "source": [
        "df.isnull().sum()"
      ],
      "metadata": {
        "colab": {
          "base_uri": "https://localhost:8080/",
          "height": 617
        },
        "id": "SJM2DECuqWce",
        "outputId": "4aca03b6-a48c-4619-e4d1-c16b19c9b604"
      },
      "execution_count": 189,
      "outputs": [
        {
          "output_type": "execute_result",
          "data": {
            "text/plain": [
              "developmentname       60\n",
              "borough                0\n",
              "accountname            0\n",
              "location             828\n",
              "tds                   60\n",
              "rccode                 0\n",
              "umisbillid             0\n",
              "revenuemonth           0\n",
              "servicestartdate       7\n",
              "serviceenddate         7\n",
              "days                   7\n",
              "meternumber            0\n",
              "currentcharges         0\n",
              "rateclass             36\n",
              "consumptionhcf         0\n",
              "watersewercharges      0\n",
              "othercharges           0\n",
              "dtype: int64"
            ],
            "text/html": [
              "<div>\n",
              "<style scoped>\n",
              "    .dataframe tbody tr th:only-of-type {\n",
              "        vertical-align: middle;\n",
              "    }\n",
              "\n",
              "    .dataframe tbody tr th {\n",
              "        vertical-align: top;\n",
              "    }\n",
              "\n",
              "    .dataframe thead th {\n",
              "        text-align: right;\n",
              "    }\n",
              "</style>\n",
              "<table border=\"1\" class=\"dataframe\">\n",
              "  <thead>\n",
              "    <tr style=\"text-align: right;\">\n",
              "      <th></th>\n",
              "      <th>0</th>\n",
              "    </tr>\n",
              "  </thead>\n",
              "  <tbody>\n",
              "    <tr>\n",
              "      <th>developmentname</th>\n",
              "      <td>60</td>\n",
              "    </tr>\n",
              "    <tr>\n",
              "      <th>borough</th>\n",
              "      <td>0</td>\n",
              "    </tr>\n",
              "    <tr>\n",
              "      <th>accountname</th>\n",
              "      <td>0</td>\n",
              "    </tr>\n",
              "    <tr>\n",
              "      <th>location</th>\n",
              "      <td>828</td>\n",
              "    </tr>\n",
              "    <tr>\n",
              "      <th>tds</th>\n",
              "      <td>60</td>\n",
              "    </tr>\n",
              "    <tr>\n",
              "      <th>rccode</th>\n",
              "      <td>0</td>\n",
              "    </tr>\n",
              "    <tr>\n",
              "      <th>umisbillid</th>\n",
              "      <td>0</td>\n",
              "    </tr>\n",
              "    <tr>\n",
              "      <th>revenuemonth</th>\n",
              "      <td>0</td>\n",
              "    </tr>\n",
              "    <tr>\n",
              "      <th>servicestartdate</th>\n",
              "      <td>7</td>\n",
              "    </tr>\n",
              "    <tr>\n",
              "      <th>serviceenddate</th>\n",
              "      <td>7</td>\n",
              "    </tr>\n",
              "    <tr>\n",
              "      <th>days</th>\n",
              "      <td>7</td>\n",
              "    </tr>\n",
              "    <tr>\n",
              "      <th>meternumber</th>\n",
              "      <td>0</td>\n",
              "    </tr>\n",
              "    <tr>\n",
              "      <th>currentcharges</th>\n",
              "      <td>0</td>\n",
              "    </tr>\n",
              "    <tr>\n",
              "      <th>rateclass</th>\n",
              "      <td>36</td>\n",
              "    </tr>\n",
              "    <tr>\n",
              "      <th>consumptionhcf</th>\n",
              "      <td>0</td>\n",
              "    </tr>\n",
              "    <tr>\n",
              "      <th>watersewercharges</th>\n",
              "      <td>0</td>\n",
              "    </tr>\n",
              "    <tr>\n",
              "      <th>othercharges</th>\n",
              "      <td>0</td>\n",
              "    </tr>\n",
              "  </tbody>\n",
              "</table>\n",
              "</div><br><label><b>dtype:</b> int64</label>"
            ]
          },
          "metadata": {},
          "execution_count": 189
        }
      ]
    },
    {
      "cell_type": "markdown",
      "source": [
        "Además, se llevó a cabo una revisión del uso de memoria de cada columna."
      ],
      "metadata": {
        "id": "RbX56FXMccgc"
      }
    },
    {
      "cell_type": "code",
      "source": [
        "memory_usage = df.memory_usage(deep=True)\n",
        "\n",
        "plt.figure(figsize=(10, 6))\n",
        "plt.bar(memory_usage.index, memory_usage.values)\n",
        "plt.xlabel(\"Columnas\")\n",
        "plt.ylabel(\"Uso de memoria (bytes)\")\n",
        "plt.title(\"Uso de memoria por columna\")\n",
        "plt.xticks(rotation=45, ha='right')\n",
        "plt.tight_layout()\n",
        "plt.show()\n"
      ],
      "metadata": {
        "colab": {
          "base_uri": "https://localhost:8080/",
          "height": 607
        },
        "id": "SoX-LsVtdp-H",
        "outputId": "422fe2d9-4417-4a5e-e324-451d5058dafd"
      },
      "execution_count": 190,
      "outputs": [
        {
          "output_type": "display_data",
          "data": {
            "text/plain": [
              "<Figure size 1000x600 with 1 Axes>"
            ],
            "image/png": "[encoded data removed]"
          },
          "metadata": {}
        }
      ]
    },
    {
      "cell_type": "markdown",
      "source": [
        "Después de revisar los valores nulos y tipo de dato se procedió con la corrección de los tipos de datos. Primero, las columnas tds y days fueron convertidas a tipo Int, ya que contienen únicamente valores enteros.\n",
        "\n",
        "Para los valores nulos, se aplicó la estrategia de interpolación, dado que los datos siguen una secuencia lógica, lo que permite estimar los valores faltantes en función de sus vecinos."
      ],
      "metadata": {
        "id": "QogB-Zo9Sxa0"
      }
    },
    {
      "cell_type": "code",
      "source": [
        "df['tds'] = df['tds'].interpolate().astype(int)\n",
        "df['days'] = df['days'].interpolate().astype(int)"
      ],
      "metadata": {
        "id": "5EsI11XNUCDv"
      },
      "execution_count": 191,
      "outputs": []
    },
    {
      "cell_type": "markdown",
      "source": [
        "Las columnas rccode y meternumber fueron convertidas al tipo Str.\n"
      ],
      "metadata": {
        "id": "KrL6ZHtNUz1l"
      }
    },
    {
      "cell_type": "code",
      "source": [
        "df['rccode'] = df['rccode'].astype(str)\n",
        "df['meternumber'] = df['meternumber'].astype(str)"
      ],
      "metadata": {
        "id": "ZSRzmWdNZjvv"
      },
      "execution_count": 192,
      "outputs": []
    },
    {
      "cell_type": "markdown",
      "source": [
        "Finalmente, las columnas restantes de tipo object fueron convertidas a category para optimizar el uso de memoria.\n",
        "\n",
        "En cuanto a los valores nulos, se aplicó la estrategia de imputación por moda, ya que cada columna contenía un término recurrente, considerado el valor más probable para reemplazar los datos perdidos."
      ],
      "metadata": {
        "id": "aNPgWRxDaA9O"
      }
    },
    {
      "cell_type": "code",
      "source": [
        "columnas = df.select_dtypes(include=['object']).columns\n",
        "\n",
        "for col in columnas:\n",
        "    moda = df[col].mode()[0]\n",
        "    df[col] = df[col].fillna(moda).astype('category')"
      ],
      "metadata": {
        "id": "G76cp1VSaIzV"
      },
      "execution_count": 193,
      "outputs": []
    },
    {
      "cell_type": "markdown",
      "source": [
        "Como parte del proceso de limpieza, se llevó a cabo una verificación de las columnas de tipo numérico con el objetivo de validar la integridad de los datos y detectar posibles discrepancias."
      ],
      "metadata": {
        "id": "Hsmc6F8IeiG8"
      }
    },
    {
      "cell_type": "code",
      "source": [
        "print(df[df['tds'] < 0]['tds'].value_counts())\n",
        "print(\"\\n\")\n",
        "print(df[df['umisbillid'] < 0]['umisbillid'].value_counts())\n",
        "print(\"\\n\")\n",
        "print(df[df['days'] < 0]['days'].value_counts())\n",
        "print(\"\\n\")\n",
        "print(df[df['currentcharges'] < 0]['currentcharges'].value_counts())\n",
        "print(\"\\n\")\n",
        "print(df[df['consumptionhcf'] < 0]['consumptionhcf'].value_counts())\n",
        "print(\"\\n\")\n",
        "print(df[df['watersewercharges'] < 0]['watersewercharges'].value_counts())\n",
        "print(\"\\n\")\n",
        "print(df[df['othercharges'] < 0]['othercharges'].value_counts())\n"
      ],
      "metadata": {
        "colab": {
          "base_uri": "https://localhost:8080/"
        },
        "id": "Quwx9069jaUN",
        "outputId": "27e4edde-e4dc-4576-87c3-697e87847a10"
      },
      "execution_count": 194,
      "outputs": [
        {
          "output_type": "stream",
          "name": "stdout",
          "text": [
            "Series([], Name: count, dtype: int64)\n",
            "\n",
            "\n",
            "Series([], Name: count, dtype: int64)\n",
            "\n",
            "\n",
            "days\n",
            "-335    6\n",
            "-57     1\n",
            "Name: count, dtype: int64\n",
            "\n",
            "\n",
            "currentcharges\n",
            "-44.55      1\n",
            "-15.21      1\n",
            "-1390.99    1\n",
            "-1748.51    1\n",
            "Name: count, dtype: int64\n",
            "\n",
            "\n",
            "Series([], Name: count, dtype: int64)\n",
            "\n",
            "\n",
            "Series([], Name: count, dtype: int64)\n",
            "\n",
            "\n",
            "othercharges\n",
            "-10.00       98\n",
            "-40.09        1\n",
            "-253.32       1\n",
            "-2684.02      1\n",
            "-36.80        1\n",
            "-11.80        1\n",
            "-54.55        1\n",
            "-133.64       1\n",
            "-5.15         1\n",
            "-4.85         1\n",
            "-4.46         1\n",
            "-5.54         1\n",
            "-12.45        1\n",
            "-10901.99     1\n",
            "-557.94       1\n",
            "-19906.38     1\n",
            "-3032.94      1\n",
            "-2973.58      1\n",
            "-3.88         1\n",
            "-6.12         1\n",
            "-0.70         1\n",
            "-9.30         1\n",
            "-836.25       1\n",
            "-37623.46     1\n",
            "-8.59         1\n",
            "-1.41         1\n",
            "-4.41         1\n",
            "-38.49        1\n",
            "-126.67       1\n",
            "-326.45       1\n",
            "-76.48        1\n",
            "-48.82        1\n",
            "-28.95        1\n",
            "-60.88        1\n",
            "-1194.02      1\n",
            "-8614.29      1\n",
            "-9838.30      1\n",
            "-1272.96      1\n",
            "-5744.85      1\n",
            "-1519.66      1\n",
            "-15049.09     1\n",
            "-1700.19      1\n",
            "-0.55         1\n",
            "-1188.29      1\n",
            "-1.60         1\n",
            "-59.21        1\n",
            "-0.02         1\n",
            "-5723.38      1\n",
            "-67726.83     1\n",
            "-937.44       1\n",
            "-2.05         1\n",
            "-1082.80      1\n",
            "-1737.52      1\n",
            "-3866.51      1\n",
            "-5000.00      1\n",
            "-5.59         1\n",
            "Name: count, dtype: int64\n"
          ]
        }
      ]
    },
    {
      "cell_type": "markdown",
      "source": [
        "Con base en los resultados obtenidos, se identificó la presencia de valores negativos en las columnas days, currentcharges y othercharges, los cuales podrían ser outliers y afectar el rendimiento de los modelos predictivos. Por esta razón, se procedió a la eliminación específica de los registros que contenían estos valores."
      ],
      "metadata": {
        "id": "5P13t9zrn278"
      }
    },
    {
      "cell_type": "code",
      "source": [
        "df.drop(df[df['days'] < 0].index, inplace=True)\n",
        "df.drop(df[df['currentcharges'] < 0].index, inplace=True)\n",
        "df.drop(df[df['othercharges'] < 0].index, inplace=True)"
      ],
      "metadata": {
        "id": "XqL1SZBepG3Y"
      },
      "execution_count": 195,
      "outputs": []
    },
    {
      "cell_type": "markdown",
      "source": [
        "Después de haber realizado el proceso de la corrección y limpieza, se verificó el nuevo tipo de dato en las columnas."
      ],
      "metadata": {
        "id": "03xnNHqJa-aV"
      }
    },
    {
      "cell_type": "code",
      "source": [
        "df.dtypes"
      ],
      "metadata": {
        "colab": {
          "base_uri": "https://localhost:8080/",
          "height": 617
        },
        "id": "-hsDwf7pbERi",
        "outputId": "ed9df4c8-a0d7-4dd1-ec33-b3978f0deba5"
      },
      "execution_count": 196,
      "outputs": [
        {
          "output_type": "execute_result",
          "data": {
            "text/plain": [
              "developmentname            category\n",
              "borough                    category\n",
              "accountname                category\n",
              "location                   category\n",
              "tds                           int64\n",
              "rccode                     category\n",
              "umisbillid                    int64\n",
              "revenuemonth         datetime64[ns]\n",
              "servicestartdate     datetime64[ns]\n",
              "serviceenddate       datetime64[ns]\n",
              "days                          int64\n",
              "meternumber                category\n",
              "currentcharges              float64\n",
              "rateclass                  category\n",
              "consumptionhcf                int64\n",
              "watersewercharges           float64\n",
              "othercharges                float64\n",
              "dtype: object"
            ],
            "text/html": [
              "<div>\n",
              "<style scoped>\n",
              "    .dataframe tbody tr th:only-of-type {\n",
              "        vertical-align: middle;\n",
              "    }\n",
              "\n",
              "    .dataframe tbody tr th {\n",
              "        vertical-align: top;\n",
              "    }\n",
              "\n",
              "    .dataframe thead th {\n",
              "        text-align: right;\n",
              "    }\n",
              "</style>\n",
              "<table border=\"1\" class=\"dataframe\">\n",
              "  <thead>\n",
              "    <tr style=\"text-align: right;\">\n",
              "      <th></th>\n",
              "      <th>0</th>\n",
              "    </tr>\n",
              "  </thead>\n",
              "  <tbody>\n",
              "    <tr>\n",
              "      <th>developmentname</th>\n",
              "      <td>category</td>\n",
              "    </tr>\n",
              "    <tr>\n",
              "      <th>borough</th>\n",
              "      <td>category</td>\n",
              "    </tr>\n",
              "    <tr>\n",
              "      <th>accountname</th>\n",
              "      <td>category</td>\n",
              "    </tr>\n",
              "    <tr>\n",
              "      <th>location</th>\n",
              "      <td>category</td>\n",
              "    </tr>\n",
              "    <tr>\n",
              "      <th>tds</th>\n",
              "      <td>int64</td>\n",
              "    </tr>\n",
              "    <tr>\n",
              "      <th>rccode</th>\n",
              "      <td>category</td>\n",
              "    </tr>\n",
              "    <tr>\n",
              "      <th>umisbillid</th>\n",
              "      <td>int64</td>\n",
              "    </tr>\n",
              "    <tr>\n",
              "      <th>revenuemonth</th>\n",
              "      <td>datetime64[ns]</td>\n",
              "    </tr>\n",
              "    <tr>\n",
              "      <th>servicestartdate</th>\n",
              "      <td>datetime64[ns]</td>\n",
              "    </tr>\n",
              "    <tr>\n",
              "      <th>serviceenddate</th>\n",
              "      <td>datetime64[ns]</td>\n",
              "    </tr>\n",
              "    <tr>\n",
              "      <th>days</th>\n",
              "      <td>int64</td>\n",
              "    </tr>\n",
              "    <tr>\n",
              "      <th>meternumber</th>\n",
              "      <td>category</td>\n",
              "    </tr>\n",
              "    <tr>\n",
              "      <th>currentcharges</th>\n",
              "      <td>float64</td>\n",
              "    </tr>\n",
              "    <tr>\n",
              "      <th>rateclass</th>\n",
              "      <td>category</td>\n",
              "    </tr>\n",
              "    <tr>\n",
              "      <th>consumptionhcf</th>\n",
              "      <td>int64</td>\n",
              "    </tr>\n",
              "    <tr>\n",
              "      <th>watersewercharges</th>\n",
              "      <td>float64</td>\n",
              "    </tr>\n",
              "    <tr>\n",
              "      <th>othercharges</th>\n",
              "      <td>float64</td>\n",
              "    </tr>\n",
              "  </tbody>\n",
              "</table>\n",
              "</div><br><label><b>dtype:</b> object</label>"
            ]
          },
          "metadata": {},
          "execution_count": 196
        }
      ]
    },
    {
      "cell_type": "markdown",
      "source": [
        "Además, se realizó una nueva validación de los valores nulos.\n",
        "\n",
        "Cabe destacar que en las columnas servicestartdate y serviceenddate, los valores nulos se representan como NaT."
      ],
      "metadata": {
        "id": "Kbl1M073zG9V"
      }
    },
    {
      "cell_type": "code",
      "source": [
        "df.isnull().sum()"
      ],
      "metadata": {
        "colab": {
          "base_uri": "https://localhost:8080/",
          "height": 617
        },
        "id": "OqRKG9rKbvJ4",
        "outputId": "192028d9-b26b-4dc7-ce88-35e9ff39314d"
      },
      "execution_count": 197,
      "outputs": [
        {
          "output_type": "execute_result",
          "data": {
            "text/plain": [
              "developmentname      0\n",
              "borough              0\n",
              "accountname          0\n",
              "location             0\n",
              "tds                  0\n",
              "rccode               0\n",
              "umisbillid           0\n",
              "revenuemonth         0\n",
              "servicestartdate     7\n",
              "serviceenddate       7\n",
              "days                 0\n",
              "meternumber          0\n",
              "currentcharges       0\n",
              "rateclass            0\n",
              "consumptionhcf       0\n",
              "watersewercharges    0\n",
              "othercharges         0\n",
              "dtype: int64"
            ],
            "text/html": [
              "<div>\n",
              "<style scoped>\n",
              "    .dataframe tbody tr th:only-of-type {\n",
              "        vertical-align: middle;\n",
              "    }\n",
              "\n",
              "    .dataframe tbody tr th {\n",
              "        vertical-align: top;\n",
              "    }\n",
              "\n",
              "    .dataframe thead th {\n",
              "        text-align: right;\n",
              "    }\n",
              "</style>\n",
              "<table border=\"1\" class=\"dataframe\">\n",
              "  <thead>\n",
              "    <tr style=\"text-align: right;\">\n",
              "      <th></th>\n",
              "      <th>0</th>\n",
              "    </tr>\n",
              "  </thead>\n",
              "  <tbody>\n",
              "    <tr>\n",
              "      <th>developmentname</th>\n",
              "      <td>0</td>\n",
              "    </tr>\n",
              "    <tr>\n",
              "      <th>borough</th>\n",
              "      <td>0</td>\n",
              "    </tr>\n",
              "    <tr>\n",
              "      <th>accountname</th>\n",
              "      <td>0</td>\n",
              "    </tr>\n",
              "    <tr>\n",
              "      <th>location</th>\n",
              "      <td>0</td>\n",
              "    </tr>\n",
              "    <tr>\n",
              "      <th>tds</th>\n",
              "      <td>0</td>\n",
              "    </tr>\n",
              "    <tr>\n",
              "      <th>rccode</th>\n",
              "      <td>0</td>\n",
              "    </tr>\n",
              "    <tr>\n",
              "      <th>umisbillid</th>\n",
              "      <td>0</td>\n",
              "    </tr>\n",
              "    <tr>\n",
              "      <th>revenuemonth</th>\n",
              "      <td>0</td>\n",
              "    </tr>\n",
              "    <tr>\n",
              "      <th>servicestartdate</th>\n",
              "      <td>7</td>\n",
              "    </tr>\n",
              "    <tr>\n",
              "      <th>serviceenddate</th>\n",
              "      <td>7</td>\n",
              "    </tr>\n",
              "    <tr>\n",
              "      <th>days</th>\n",
              "      <td>0</td>\n",
              "    </tr>\n",
              "    <tr>\n",
              "      <th>meternumber</th>\n",
              "      <td>0</td>\n",
              "    </tr>\n",
              "    <tr>\n",
              "      <th>currentcharges</th>\n",
              "      <td>0</td>\n",
              "    </tr>\n",
              "    <tr>\n",
              "      <th>rateclass</th>\n",
              "      <td>0</td>\n",
              "    </tr>\n",
              "    <tr>\n",
              "      <th>consumptionhcf</th>\n",
              "      <td>0</td>\n",
              "    </tr>\n",
              "    <tr>\n",
              "      <th>watersewercharges</th>\n",
              "      <td>0</td>\n",
              "    </tr>\n",
              "    <tr>\n",
              "      <th>othercharges</th>\n",
              "      <td>0</td>\n",
              "    </tr>\n",
              "  </tbody>\n",
              "</table>\n",
              "</div><br><label><b>dtype:</b> int64</label>"
            ]
          },
          "metadata": {},
          "execution_count": 197
        }
      ]
    },
    {
      "cell_type": "markdown",
      "source": [
        "Además, se llevó a cabo una evaluación del uso de memoria con los tipos de datos modificados en las columnas."
      ],
      "metadata": {
        "id": "u3up2oo0qWp8"
      }
    },
    {
      "cell_type": "code",
      "source": [
        "memory_usage = df.memory_usage(deep=True)\n",
        "\n",
        "plt.figure(figsize=(10, 6))\n",
        "plt.bar(memory_usage.index, memory_usage.values)\n",
        "plt.xlabel(\"Columnas\")\n",
        "plt.ylabel(\"Uso de memoria (bytes)\")\n",
        "plt.title(\"Uso de memoria por columna\")\n",
        "plt.xticks(rotation=45, ha='right')\n",
        "plt.tight_layout()\n",
        "plt.show()"
      ],
      "metadata": {
        "colab": {
          "base_uri": "https://localhost:8080/",
          "height": 607
        },
        "id": "cA7a-9wKqcz0",
        "outputId": "38cc7c05-f97e-4a7e-c3c3-49a5be9a5526"
      },
      "execution_count": 198,
      "outputs": [
        {
          "output_type": "display_data",
          "data": {
            "text/plain": [
              "<Figure size 1000x600 with 1 Axes>"
            ],
            "image/png": "[encoded data removed]"
          },
          "metadata": {}
        }
      ]
    },
    {
      "cell_type": "markdown",
      "source": [
        "Así quedó el DataFrame con los cambios realizados."
      ],
      "metadata": {
        "id": "zo7X1zhc4KWt"
      }
    },
    {
      "cell_type": "code",
      "source": [
        "df.head()"
      ],
      "metadata": {
        "colab": {
          "base_uri": "https://localhost:8080/",
          "height": 399
        },
        "id": "nc8Wujp622OA",
        "outputId": "1141a528-b7ce-49af-bce4-c281221628de"
      },
      "execution_count": 199,
      "outputs": [
        {
          "output_type": "execute_result",
          "data": {
            "text/plain": [
              "  developmentname   borough    accountname location  tds   rccode  umisbillid  \\\n",
              "0   HOWARD AVENUE  BROOKLYN  HOWARD AVENUE   BLD 02  339  K033900     8870656   \n",
              "1    BAISLEY PARK    QUEENS   BAISLEY PARK   BLD 09   91  Q009100     8562430   \n",
              "2    BAISLEY PARK    QUEENS   BAISLEY PARK   BLD 09   91  Q009100     8667039   \n",
              "3    BAISLEY PARK    QUEENS   BAISLEY PARK   BLD 09   91  Q009100     8759719   \n",
              "4    BAISLEY PARK    QUEENS   BAISLEY PARK   BLD 09   91  Q009100     8870760   \n",
              "\n",
              "  revenuemonth servicestartdate serviceenddate  days meternumber  \\\n",
              "0   2020-04-01       2020-03-23     2020-04-23    31   E11310572   \n",
              "1   2020-01-01       2019-12-23     2020-01-26    34   K13060723   \n",
              "2   2020-02-01       2020-01-26     2020-02-24    29   K13060723   \n",
              "3   2020-03-01       2020-02-24     2020-03-23    28   K13060723   \n",
              "4   2020-04-01       2020-03-23     2020-04-23    31   K13060723   \n",
              "\n",
              "   currentcharges              rateclass  consumptionhcf  watersewercharges  \\\n",
              "0         2945.22  Basic Water and Sewer             285            2945.22   \n",
              "1          196.35  Basic Water and Sewer              19             196.35   \n",
              "2          258.35  Basic Water and Sewer              25             258.35   \n",
              "3          217.02  Basic Water and Sewer              21             217.02   \n",
              "4          103.34  Basic Water and Sewer              10             103.34   \n",
              "\n",
              "   othercharges  \n",
              "0           0.0  \n",
              "1           0.0  \n",
              "2           0.0  \n",
              "3           0.0  \n",
              "4           0.0  "
            ],
            "text/html": [
              "\n",
              "  <div id=\"df-0680b4c4-0533-4fc8-8fee-1fb5f13661b1\" class=\"colab-df-container\">\n",
              "    <div>\n",
              "<style scoped>\n",
              "    .dataframe tbody tr th:only-of-type {\n",
              "        vertical-align: middle;\n",
              "    }\n",
              "\n",
              "    .dataframe tbody tr th {\n",
              "        vertical-align: top;\n",
              "    }\n",
              "\n",
              "    .dataframe thead th {\n",
              "        text-align: right;\n",
              "    }\n",
              "</style>\n",
              "<table border=\"1\" class=\"dataframe\">\n",
              "  <thead>\n",
              "    <tr style=\"text-align: right;\">\n",
              "      <th></th>\n",
              "      <th>developmentname</th>\n",
              "      <th>borough</th>\n",
              "      <th>accountname</th>\n",
              "      <th>location</th>\n",
              "      <th>tds</th>\n",
              "      <th>rccode</th>\n",
              "      <th>umisbillid</th>\n",
              "      <th>revenuemonth</th>\n",
              "      <th>servicestartdate</th>\n",
              "      <th>serviceenddate</th>\n",
              "      <th>days</th>\n",
              "      <th>meternumber</th>\n",
              "      <th>currentcharges</th>\n",
              "      <th>rateclass</th>\n",
              "      <th>consumptionhcf</th>\n",
              "      <th>watersewercharges</th>\n",
              "      <th>othercharges</th>\n",
              "    </tr>\n",
              "  </thead>\n",
              "  <tbody>\n",
              "    <tr>\n",
              "      <th>0</th>\n",
              "      <td>HOWARD AVENUE</td>\n",
              "      <td>BROOKLYN</td>\n",
              "      <td>HOWARD AVENUE</td>\n",
              "      <td>BLD 02</td>\n",
              "      <td>339</td>\n",
              "      <td>K033900</td>\n",
              "      <td>8870656</td>\n",
              "      <td>2020-04-01</td>\n",
              "      <td>2020-03-23</td>\n",
              "      <td>2020-04-23</td>\n",
              "      <td>31</td>\n",
              "      <td>E11310572</td>\n",
              "      <td>2945.22</td>\n",
              "      <td>Basic Water and Sewer</td>\n",
              "      <td>285</td>\n",
              "      <td>2945.22</td>\n",
              "      <td>0.0</td>\n",
              "    </tr>\n",
              "    <tr>\n",
              "      <th>1</th>\n",
              "      <td>BAISLEY PARK</td>\n",
              "      <td>QUEENS</td>\n",
              "      <td>BAISLEY PARK</td>\n",
              "      <td>BLD 09</td>\n",
              "      <td>91</td>\n",
              "      <td>Q009100</td>\n",
              "      <td>8562430</td>\n",
              "      <td>2020-01-01</td>\n",
              "      <td>2019-12-23</td>\n",
              "      <td>2020-01-26</td>\n",
              "      <td>34</td>\n",
              "      <td>K13060723</td>\n",
              "      <td>196.35</td>\n",
              "      <td>Basic Water and Sewer</td>\n",
              "      <td>19</td>\n",
              "      <td>196.35</td>\n",
              "      <td>0.0</td>\n",
              "    </tr>\n",
              "    <tr>\n",
              "      <th>2</th>\n",
              "      <td>BAISLEY PARK</td>\n",
              "      <td>QUEENS</td>\n",
              "      <td>BAISLEY PARK</td>\n",
              "      <td>BLD 09</td>\n",
              "      <td>91</td>\n",
              "      <td>Q009100</td>\n",
              "      <td>8667039</td>\n",
              "      <td>2020-02-01</td>\n",
              "      <td>2020-01-26</td>\n",
              "      <td>2020-02-24</td>\n",
              "      <td>29</td>\n",
              "      <td>K13060723</td>\n",
              "      <td>258.35</td>\n",
              "      <td>Basic Water and Sewer</td>\n",
              "      <td>25</td>\n",
              "      <td>258.35</td>\n",
              "      <td>0.0</td>\n",
              "    </tr>\n",
              "    <tr>\n",
              "      <th>3</th>\n",
              "      <td>BAISLEY PARK</td>\n",
              "      <td>QUEENS</td>\n",
              "      <td>BAISLEY PARK</td>\n",
              "      <td>BLD 09</td>\n",
              "      <td>91</td>\n",
              "      <td>Q009100</td>\n",
              "      <td>8759719</td>\n",
              "      <td>2020-03-01</td>\n",
              "      <td>2020-02-24</td>\n",
              "      <td>2020-03-23</td>\n",
              "      <td>28</td>\n",
              "      <td>K13060723</td>\n",
              "      <td>217.02</td>\n",
              "      <td>Basic Water and Sewer</td>\n",
              "      <td>21</td>\n",
              "      <td>217.02</td>\n",
              "      <td>0.0</td>\n",
              "    </tr>\n",
              "    <tr>\n",
              "      <th>4</th>\n",
              "      <td>BAISLEY PARK</td>\n",
              "      <td>QUEENS</td>\n",
              "      <td>BAISLEY PARK</td>\n",
              "      <td>BLD 09</td>\n",
              "      <td>91</td>\n",
              "      <td>Q009100</td>\n",
              "      <td>8870760</td>\n",
              "      <td>2020-04-01</td>\n",
              "      <td>2020-03-23</td>\n",
              "      <td>2020-04-23</td>\n",
              "      <td>31</td>\n",
              "      <td>K13060723</td>\n",
              "      <td>103.34</td>\n",
              "      <td>Basic Water and Sewer</td>\n",
              "      <td>10</td>\n",
              "      <td>103.34</td>\n",
              "      <td>0.0</td>\n",
              "    </tr>\n",
              "  </tbody>\n",
              "</table>\n",
              "</div>\n",
              "    <div class=\"colab-df-buttons\">\n",
              "\n",
              "  <div class=\"colab-df-container\">\n",
              "    <button class=\"colab-df-convert\" onclick=\"convertToInteractive('df-0680b4c4-0533-4fc8-8fee-1fb5f13661b1')\"\n",
              "            title=\"Convert this dataframe to an interactive table.\"\n",
              "            style=\"display:none;\">\n",
              "\n",
              "  <svg xmlns=\"http://www.w3.org/2000/svg\" height=\"24px\" viewBox=\"0 -960 960 960\">\n",
              "    <path d=\"M120-120v-720h720v720H120Zm60-500h600v-160H180v160Zm220 220h160v-160H400v160Zm0 220h160v-160H400v160ZM180-400h160v-160H180v160Zm440 0h160v-160H620v160ZM180-180h160v-160H180v160Zm440 0h160v-160H620v160Z\"/>\n",
              "  </svg>\n",
              "    </button>\n",
              "\n",
              "  <style>\n",
              "    .colab-df-container {\n",
              "      display:flex;\n",
              "      gap: 12px;\n",
              "    }\n",
              "\n",
              "    .colab-df-convert {\n",
              "      background-color: #E8F0FE;\n",
              "      border: none;\n",
              "      border-radius: 50%;\n",
              "      cursor: pointer;\n",
              "      display: none;\n",
              "      fill: #1967D2;\n",
              "      height: 32px;\n",
              "      padding: 0 0 0 0;\n",
              "      width: 32px;\n",
              "    }\n",
              "\n",
              "    .colab-df-convert:hover {\n",
              "      background-color: #E2EBFA;\n",
              "      box-shadow: 0px 1px 2px rgba(60, 64, 67, 0.3), 0px 1px 3px 1px rgba(60, 64, 67, 0.15);\n",
              "      fill: #174EA6;\n",
              "    }\n",
              "\n",
              "    .colab-df-buttons div {\n",
              "      margin-bottom: 4px;\n",
              "    }\n",
              "\n",
              "    [theme=dark] .colab-df-convert {\n",
              "      background-color: #3B4455;\n",
              "      fill: #D2E3FC;\n",
              "    }\n",
              "\n",
              "    [theme=dark] .colab-df-convert:hover {\n",
              "      background-color: #434B5C;\n",
              "      box-shadow: 0px 1px 3px 1px rgba(0, 0, 0, 0.15);\n",
              "      filter: drop-shadow(0px 1px 2px rgba(0, 0, 0, 0.3));\n",
              "      fill: #FFFFFF;\n",
              "    }\n",
              "  </style>\n",
              "\n",
              "    <script>\n",
              "      const buttonEl =\n",
              "        document.querySelector('#df-0680b4c4-0533-4fc8-8fee-1fb5f13661b1 button.colab-df-convert');\n",
              "      buttonEl.style.display =\n",
              "        google.colab.kernel.accessAllowed ? 'block' : 'none';\n",
              "\n",
              "      async function convertToInteractive(key) {\n",
              "        const element = document.querySelector('#df-0680b4c4-0533-4fc8-8fee-1fb5f13661b1');\n",
              "        const dataTable =\n",
              "          await google.colab.kernel.invokeFunction('convertToInteractive',\n",
              "                                                    [key], {});\n",
              "        if (!dataTable) return;\n",
              "\n",
              "        const docLinkHtml = 'Like what you see? Visit the ' +\n",
              "          '<a target=\"_blank\" href=https://colab.research.google.com/notebooks/data_table.ipynb>data table notebook</a>'\n",
              "          + ' to learn more about interactive tables.';\n",
              "        element.innerHTML = '';\n",
              "        dataTable['output_type'] = 'display_data';\n",
              "        await google.colab.output.renderOutput(dataTable, element);\n",
              "        const docLink = document.createElement('div');\n",
              "        docLink.innerHTML = docLinkHtml;\n",
              "        element.appendChild(docLink);\n",
              "      }\n",
              "    </script>\n",
              "  </div>\n",
              "\n",
              "\n",
              "<div id=\"df-a953e6c2-0dd5-4be6-bc35-c635c50617e4\">\n",
              "  <button class=\"colab-df-quickchart\" onclick=\"quickchart('df-a953e6c2-0dd5-4be6-bc35-c635c50617e4')\"\n",
              "            title=\"Suggest charts\"\n",
              "            style=\"display:none;\">\n",
              "\n",
              "<svg xmlns=\"http://www.w3.org/2000/svg\" height=\"24px\"viewBox=\"0 0 24 24\"\n",
              "     width=\"24px\">\n",
              "    <g>\n",
              "        <path d=\"M19 3H5c-1.1 0-2 .9-2 2v14c0 1.1.9 2 2 2h14c1.1 0 2-.9 2-2V5c0-1.1-.9-2-2-2zM9 17H7v-7h2v7zm4 0h-2V7h2v10zm4 0h-2v-4h2v4z\"/>\n",
              "    </g>\n",
              "</svg>\n",
              "  </button>\n",
              "\n",
              "<style>\n",
              "  .colab-df-quickchart {\n",
              "      --bg-color: #E8F0FE;\n",
              "      --fill-color: #1967D2;\n",
              "      --hover-bg-color: #E2EBFA;\n",
              "      --hover-fill-color: #174EA6;\n",
              "      --disabled-fill-color: #AAA;\n",
              "      --disabled-bg-color: #DDD;\n",
              "  }\n",
              "\n",
              "  [theme=dark] .colab-df-quickchart {\n",
              "      --bg-color: #3B4455;\n",
              "      --fill-color: #D2E3FC;\n",
              "      --hover-bg-color: #434B5C;\n",
              "      --hover-fill-color: #FFFFFF;\n",
              "      --disabled-bg-color: #3B4455;\n",
              "      --disabled-fill-color: #666;\n",
              "  }\n",
              "\n",
              "  .colab-df-quickchart {\n",
              "    background-color: var(--bg-color);\n",
              "    border: none;\n",
              "    border-radius: 50%;\n",
              "    cursor: pointer;\n",
              "    display: none;\n",
              "    fill: var(--fill-color);\n",
              "    height: 32px;\n",
              "    padding: 0;\n",
              "    width: 32px;\n",
              "  }\n",
              "\n",
              "  .colab-df-quickchart:hover {\n",
              "    background-color: var(--hover-bg-color);\n",
              "    box-shadow: 0 1px 2px rgba(60, 64, 67, 0.3), 0 1px 3px 1px rgba(60, 64, 67, 0.15);\n",
              "    fill: var(--button-hover-fill-color);\n",
              "  }\n",
              "\n",
              "  .colab-df-quickchart-complete:disabled,\n",
              "  .colab-df-quickchart-complete:disabled:hover {\n",
              "    background-color: var(--disabled-bg-color);\n",
              "    fill: var(--disabled-fill-color);\n",
              "    box-shadow: none;\n",
              "  }\n",
              "\n",
              "  .colab-df-spinner {\n",
              "    border: 2px solid var(--fill-color);\n",
              "    border-color: transparent;\n",
              "    border-bottom-color: var(--fill-color);\n",
              "    animation:\n",
              "      spin 1s steps(1) infinite;\n",
              "  }\n",
              "\n",
              "  @keyframes spin {\n",
              "    0% {\n",
              "      border-color: transparent;\n",
              "      border-bottom-color: var(--fill-color);\n",
              "      border-left-color: var(--fill-color);\n",
              "    }\n",
              "    20% {\n",
              "      border-color: transparent;\n",
              "      border-left-color: var(--fill-color);\n",
              "      border-top-color: var(--fill-color);\n",
              "    }\n",
              "    30% {\n",
              "      border-color: transparent;\n",
              "      border-left-color: var(--fill-color);\n",
              "      border-top-color: var(--fill-color);\n",
              "      border-right-color: var(--fill-color);\n",
              "    }\n",
              "    40% {\n",
              "      border-color: transparent;\n",
              "      border-right-color: var(--fill-color);\n",
              "      border-top-color: var(--fill-color);\n",
              "    }\n",
              "    60% {\n",
              "      border-color: transparent;\n",
              "      border-right-color: var(--fill-color);\n",
              "    }\n",
              "    80% {\n",
              "      border-color: transparent;\n",
              "      border-right-color: var(--fill-color);\n",
              "      border-bottom-color: var(--fill-color);\n",
              "    }\n",
              "    90% {\n",
              "      border-color: transparent;\n",
              "      border-bottom-color: var(--fill-color);\n",
              "    }\n",
              "  }\n",
              "</style>\n",
              "\n",
              "  <script>\n",
              "    async function quickchart(key) {\n",
              "      const quickchartButtonEl =\n",
              "        document.querySelector('#' + key + ' button');\n",
              "      quickchartButtonEl.disabled = true;  // To prevent multiple clicks.\n",
              "      quickchartButtonEl.classList.add('colab-df-spinner');\n",
              "      try {\n",
              "        const charts = await google.colab.kernel.invokeFunction(\n",
              "            'suggestCharts', [key], {});\n",
              "      } catch (error) {\n",
              "        console.error('Error during call to suggestCharts:', error);\n",
              "      }\n",
              "      quickchartButtonEl.classList.remove('colab-df-spinner');\n",
              "      quickchartButtonEl.classList.add('colab-df-quickchart-complete');\n",
              "    }\n",
              "    (() => {\n",
              "      let quickchartButtonEl =\n",
              "        document.querySelector('#df-a953e6c2-0dd5-4be6-bc35-c635c50617e4 button');\n",
              "      quickchartButtonEl.style.display =\n",
              "        google.colab.kernel.accessAllowed ? 'block' : 'none';\n",
              "    })();\n",
              "  </script>\n",
              "</div>\n",
              "\n",
              "    </div>\n",
              "  </div>\n"
            ],
            "application/vnd.google.colaboratory.intrinsic+json": {
              "type": "dataframe",
              "variable_name": "df",
              "summary": "{\n  \"name\": \"df\",\n  \"rows\": 50155,\n  \"fields\": [\n    {\n      \"column\": \"developmentname\",\n      \"properties\": {\n        \"dtype\": \"category\",\n        \"num_unique_values\": 110,\n        \"samples\": [\n          \"BETANCES III, 9A\",\n          \"FENIMORE-LEFFERTS\",\n          \"CLAREMONT REHAB (GROUP 2)\"\n        ],\n        \"semantic_type\": \"\",\n        \"description\": \"\"\n      }\n    },\n    {\n      \"column\": \"borough\",\n      \"properties\": {\n        \"dtype\": \"category\",\n        \"num_unique_values\": 7,\n        \"samples\": [\n          \"BROOKLYN\",\n          \"QUEENS\",\n          \"NON DEVELOPMENT FACILITY\"\n        ],\n        \"semantic_type\": \"\",\n        \"description\": \"\"\n      }\n    },\n    {\n      \"column\": \"accountname\",\n      \"properties\": {\n        \"dtype\": \"category\",\n        \"num_unique_values\": 117,\n        \"samples\": [\n          \"SAMUEL (CITY)\",\n          \"CLAREMONT REHAB (GROUP 2)\",\n          \"STUYVESANT GARDENS II\"\n        ],\n        \"semantic_type\": \"\",\n        \"description\": \"\"\n      }\n    },\n    {\n      \"column\": \"location\",\n      \"properties\": {\n        \"dtype\": \"category\",\n        \"num_unique_values\": 305,\n        \"samples\": [\n          \"BLD 24\",\n          \"110-05 225TH STREET\",\n          \"184-12 GALWAY AVENUE\"\n        ],\n        \"semantic_type\": \"\",\n        \"description\": \"\"\n      }\n    },\n    {\n      \"column\": \"tds\",\n      \"properties\": {\n        \"dtype\": \"number\",\n        \"std\": 101,\n        \"min\": 1,\n        \"max\": 559,\n        \"num_unique_values\": 154,\n        \"samples\": [\n          283,\n          84,\n          69\n        ],\n        \"semantic_type\": \"\",\n        \"description\": \"\"\n      }\n    },\n    {\n      \"column\": \"rccode\",\n      \"properties\": {\n        \"dtype\": \"category\",\n        \"num_unique_values\": 114,\n        \"samples\": [\n          \"B022200\",\n          \"B030700\",\n          \"K000400\"\n        ],\n        \"semantic_type\": \"\",\n        \"description\": \"\"\n      }\n    },\n    {\n      \"column\": \"umisbillid\",\n      \"properties\": {\n        \"dtype\": \"number\",\n        \"std\": 2661534,\n        \"min\": 2576038,\n        \"max\": 12175840,\n        \"num_unique_values\": 42308,\n        \"samples\": [\n          10598485,\n          9814282,\n          4524636\n        ],\n        \"semantic_type\": \"\",\n        \"description\": \"\"\n      }\n    },\n    {\n      \"column\": \"revenuemonth\",\n      \"properties\": {\n        \"dtype\": \"date\",\n        \"min\": \"2013-01-01 00:00:00\",\n        \"max\": \"2023-01-01 00:00:00\",\n        \"num_unique_values\": 121,\n        \"samples\": [\n          \"2021-09-01 00:00:00\",\n          \"2021-11-01 00:00:00\",\n          \"2022-01-01 00:00:00\"\n        ],\n        \"semantic_type\": \"\",\n        \"description\": \"\"\n      }\n    },\n    {\n      \"column\": \"servicestartdate\",\n      \"properties\": {\n        \"dtype\": \"date\",\n        \"min\": \"2002-12-22 00:00:00\",\n        \"max\": \"2022-12-29 00:00:00\",\n        \"num_unique_values\": 1166,\n        \"samples\": [\n          \"2021-01-04 00:00:00\",\n          \"2019-09-11 00:00:00\",\n          \"2013-05-20 00:00:00\"\n        ],\n        \"semantic_type\": \"\",\n        \"description\": \"\"\n      }\n    },\n    {\n      \"column\": \"serviceenddate\",\n      \"properties\": {\n        \"dtype\": \"date\",\n        \"min\": \"2013-01-14 00:00:00\",\n        \"max\": \"2023-01-27 00:00:00\",\n        \"num_unique_values\": 1111,\n        \"samples\": [\n          \"2018-05-24 00:00:00\",\n          \"2017-11-01 00:00:00\",\n          \"2019-12-29 00:00:00\"\n        ],\n        \"semantic_type\": \"\",\n        \"description\": \"\"\n      }\n    },\n    {\n      \"column\": \"days\",\n      \"properties\": {\n        \"dtype\": \"number\",\n        \"std\": 53,\n        \"min\": 0,\n        \"max\": 6968,\n        \"num_unique_values\": 245,\n        \"samples\": [\n          95,\n          35,\n          86\n        ],\n        \"semantic_type\": \"\",\n        \"description\": \"\"\n      }\n    },\n    {\n      \"column\": \"meternumber\",\n      \"properties\": {\n        \"dtype\": \"category\",\n        \"num_unique_values\": 794,\n        \"samples\": [\n          \"K15878169\",\n          \"9010305\",\n          \"E19432595\"\n        ],\n        \"semantic_type\": \"\",\n        \"description\": \"\"\n      }\n    },\n    {\n      \"column\": \"currentcharges\",\n      \"properties\": {\n        \"dtype\": \"number\",\n        \"std\": 5600.139052160124,\n        \"min\": 0.0,\n        \"max\": 392036.46,\n        \"num_unique_values\": 8688,\n        \"samples\": [\n          5694.09,\n          6964.56,\n          35192.92\n        ],\n        \"semantic_type\": \"\",\n        \"description\": \"\"\n      }\n    },\n    {\n      \"column\": \"rateclass\",\n      \"properties\": {\n        \"dtype\": \"category\",\n        \"num_unique_values\": 5,\n        \"samples\": [\n          \"MULTIFAMILY\",\n          \"HOT OR COLD WATER IN STORE\",\n          \"WATER-METER\"\n        ],\n        \"semantic_type\": \"\",\n        \"description\": \"\"\n      }\n    },\n    {\n      \"column\": \"consumptionhcf\",\n      \"properties\": {\n        \"dtype\": \"number\",\n        \"std\": 2023,\n        \"min\": 0,\n        \"max\": 434200,\n        \"num_unique_values\": 2009,\n        \"samples\": [\n          1379,\n          1172,\n          78\n        ],\n        \"semantic_type\": \"\",\n        \"description\": \"\"\n      }\n    },\n    {\n      \"column\": \"watersewercharges\",\n      \"properties\": {\n        \"dtype\": \"number\",\n        \"std\": 5558.584593714039,\n        \"min\": 0.0,\n        \"max\": 392036.46,\n        \"num_unique_values\": 8707,\n        \"samples\": [\n          43.15,\n          1657.81,\n          27590.65\n        ],\n        \"semantic_type\": \"\",\n        \"description\": \"\"\n      }\n    },\n    {\n      \"column\": \"othercharges\",\n      \"properties\": {\n        \"dtype\": \"number\",\n        \"std\": 479.15167561649406,\n        \"min\": 0.0,\n        \"max\": 77796.69,\n        \"num_unique_values\": 178,\n        \"samples\": [\n          12.69,\n          111.27,\n          451.24\n        ],\n        \"semantic_type\": \"\",\n        \"description\": \"\"\n      }\n    }\n  ]\n}"
            }
          },
          "metadata": {},
          "execution_count": 199
        }
      ]
    },
    {
      "cell_type": "code",
      "source": [
        "df.describe(include='all')"
      ],
      "metadata": {
        "colab": {
          "base_uri": "https://localhost:8080/",
          "height": 570
        },
        "id": "KyGO4yM14SPj",
        "outputId": "60273708-3910-48ca-df94-7f941a7e91a1"
      },
      "execution_count": 200,
      "outputs": [
        {
          "output_type": "execute_result",
          "data": {
            "text/plain": [
              "                         developmentname borough  \\\n",
              "count                              50155   50155   \n",
              "unique                               110       7   \n",
              "top     FHA REPOSSESSED HOUSES (GROUP V)     FHA   \n",
              "freq                                4807   23409   \n",
              "mean                                 NaN     NaN   \n",
              "min                                  NaN     NaN   \n",
              "25%                                  NaN     NaN   \n",
              "50%                                  NaN     NaN   \n",
              "75%                                  NaN     NaN   \n",
              "max                                  NaN     NaN   \n",
              "std                                  NaN     NaN   \n",
              "\n",
              "                             accountname location           tds   rccode  \\\n",
              "count                              50155    50155  50155.000000    50155   \n",
              "unique                               117      305           NaN      114   \n",
              "top     FHA REPOSSESSED HOUSES (GROUP V)   BLD 01           NaN  Q026000   \n",
              "freq                                4741     5259           NaN     4747   \n",
              "mean                                 NaN      NaN    258.691437      NaN   \n",
              "min                                  NaN      NaN      1.000000      NaN   \n",
              "25%                                  NaN      NaN    209.000000      NaN   \n",
              "50%                                  NaN      NaN    273.000000      NaN   \n",
              "75%                                  NaN      NaN    338.000000      NaN   \n",
              "max                                  NaN      NaN    559.000000      NaN   \n",
              "std                                  NaN      NaN    101.519212      NaN   \n",
              "\n",
              "          umisbillid                   revenuemonth  \\\n",
              "count   5.015500e+04                          50155   \n",
              "unique           NaN                            NaN   \n",
              "top              NaN                            NaN   \n",
              "freq             NaN                            NaN   \n",
              "mean    6.584326e+06  2017-10-12 22:50:13.936795904   \n",
              "min     2.576038e+06            2013-01-01 00:00:00   \n",
              "25%     4.132341e+06            2015-04-01 00:00:00   \n",
              "50%     6.353682e+06            2017-11-01 00:00:00   \n",
              "75%     8.562616e+06            2020-01-01 00:00:00   \n",
              "max     1.217584e+07            2023-01-01 00:00:00   \n",
              "std     2.661534e+06                            NaN   \n",
              "\n",
              "                     servicestartdate                 serviceenddate  \\\n",
              "count                           50148                          50148   \n",
              "unique                            NaN                            NaN   \n",
              "top                               NaN                            NaN   \n",
              "freq                              NaN                            NaN   \n",
              "mean    2017-10-01 04:17:48.198133504  2017-11-03 08:43:21.579325184   \n",
              "min               2002-12-22 00:00:00            2013-01-14 00:00:00   \n",
              "25%               2015-03-22 00:00:00            2015-04-21 00:00:00   \n",
              "50%               2017-10-22 00:00:00            2017-11-23 00:00:00   \n",
              "75%               2019-12-23 00:00:00            2020-01-26 00:00:00   \n",
              "max               2022-12-29 00:00:00            2023-01-27 00:00:00   \n",
              "std                               NaN                            NaN   \n",
              "\n",
              "                days meternumber  currentcharges              rateclass  \\\n",
              "count   50155.000000       50155    50155.000000                  50155   \n",
              "unique           NaN         794             NaN                      5   \n",
              "top              NaN  UN-METERED             NaN  Basic Water and Sewer   \n",
              "freq             NaN         179             NaN                  50051   \n",
              "mean       33.201595         NaN     2143.459285                    NaN   \n",
              "min         0.000000         NaN        0.000000                    NaN   \n",
              "25%        29.000000         NaN       46.460000                    NaN   \n",
              "50%        30.000000         NaN      197.360000                    NaN   \n",
              "75%        32.000000         NaN     2595.260000                    NaN   \n",
              "max      6968.000000         NaN   392036.460000                    NaN   \n",
              "std        53.115153         NaN     5600.139052                    NaN   \n",
              "\n",
              "        consumptionhcf  watersewercharges  othercharges  \n",
              "count     50155.000000       50155.000000  50155.000000  \n",
              "unique             NaN                NaN           NaN  \n",
              "top                NaN                NaN           NaN  \n",
              "freq               NaN                NaN           NaN  \n",
              "mean        223.798864        2129.285951     14.173333  \n",
              "min           0.000000           0.000000      0.000000  \n",
              "25%           5.000000          46.360000      0.000000  \n",
              "50%          26.000000         196.350000      0.000000  \n",
              "75%         236.000000        2565.650000      0.000000  \n",
              "max      434200.000000      392036.460000  77796.690000  \n",
              "std        2023.422602        5558.584594    479.151676  "
            ],
            "text/html": [
              "\n",
              "  <div id=\"df-76ecbc40-c35d-4f00-9023-1f6a5ac6c3b5\" class=\"colab-df-container\">\n",
              "    <div>\n",
              "<style scoped>\n",
              "    .dataframe tbody tr th:only-of-type {\n",
              "        vertical-align: middle;\n",
              "    }\n",
              "\n",
              "    .dataframe tbody tr th {\n",
              "        vertical-align: top;\n",
              "    }\n",
              "\n",
              "    .dataframe thead th {\n",
              "        text-align: right;\n",
              "    }\n",
              "</style>\n",
              "<table border=\"1\" class=\"dataframe\">\n",
              "  <thead>\n",
              "    <tr style=\"text-align: right;\">\n",
              "      <th></th>\n",
              "      <th>developmentname</th>\n",
              "      <th>borough</th>\n",
              "      <th>accountname</th>\n",
              "      <th>location</th>\n",
              "      <th>tds</th>\n",
              "      <th>rccode</th>\n",
              "      <th>umisbillid</th>\n",
              "      <th>revenuemonth</th>\n",
              "      <th>servicestartdate</th>\n",
              "      <th>serviceenddate</th>\n",
              "      <th>days</th>\n",
              "      <th>meternumber</th>\n",
              "      <th>currentcharges</th>\n",
              "      <th>rateclass</th>\n",
              "      <th>consumptionhcf</th>\n",
              "      <th>watersewercharges</th>\n",
              "      <th>othercharges</th>\n",
              "    </tr>\n",
              "  </thead>\n",
              "  <tbody>\n",
              "    <tr>\n",
              "      <th>count</th>\n",
              "      <td>50155</td>\n",
              "      <td>50155</td>\n",
              "      <td>50155</td>\n",
              "      <td>50155</td>\n",
              "      <td>50155.000000</td>\n",
              "      <td>50155</td>\n",
              "      <td>5.015500e+04</td>\n",
              "      <td>50155</td>\n",
              "      <td>50148</td>\n",
              "      <td>50148</td>\n",
              "      <td>50155.000000</td>\n",
              "      <td>50155</td>\n",
              "      <td>50155.000000</td>\n",
              "      <td>50155</td>\n",
              "      <td>50155.000000</td>\n",
              "      <td>50155.000000</td>\n",
              "      <td>50155.000000</td>\n",
              "    </tr>\n",
              "    <tr>\n",
              "      <th>unique</th>\n",
              "      <td>110</td>\n",
              "      <td>7</td>\n",
              "      <td>117</td>\n",
              "      <td>305</td>\n",
              "      <td>NaN</td>\n",
              "      <td>114</td>\n",
              "      <td>NaN</td>\n",
              "      <td>NaN</td>\n",
              "      <td>NaN</td>\n",
              "      <td>NaN</td>\n",
              "      <td>NaN</td>\n",
              "      <td>794</td>\n",
              "      <td>NaN</td>\n",
              "      <td>5</td>\n",
              "      <td>NaN</td>\n",
              "      <td>NaN</td>\n",
              "      <td>NaN</td>\n",
              "    </tr>\n",
              "    <tr>\n",
              "      <th>top</th>\n",
              "      <td>FHA REPOSSESSED HOUSES (GROUP V)</td>\n",
              "      <td>FHA</td>\n",
              "      <td>FHA REPOSSESSED HOUSES (GROUP V)</td>\n",
              "      <td>BLD 01</td>\n",
              "      <td>NaN</td>\n",
              "      <td>Q026000</td>\n",
              "      <td>NaN</td>\n",
              "      <td>NaN</td>\n",
              "      <td>NaN</td>\n",
              "      <td>NaN</td>\n",
              "      <td>NaN</td>\n",
              "      <td>UN-METERED</td>\n",
              "      <td>NaN</td>\n",
              "      <td>Basic Water and Sewer</td>\n",
              "      <td>NaN</td>\n",
              "      <td>NaN</td>\n",
              "      <td>NaN</td>\n",
              "    </tr>\n",
              "    <tr>\n",
              "      <th>freq</th>\n",
              "      <td>4807</td>\n",
              "      <td>23409</td>\n",
              "      <td>4741</td>\n",
              "      <td>5259</td>\n",
              "      <td>NaN</td>\n",
              "      <td>4747</td>\n",
              "      <td>NaN</td>\n",
              "      <td>NaN</td>\n",
              "      <td>NaN</td>\n",
              "      <td>NaN</td>\n",
              "      <td>NaN</td>\n",
              "      <td>179</td>\n",
              "      <td>NaN</td>\n",
              "      <td>50051</td>\n",
              "      <td>NaN</td>\n",
              "      <td>NaN</td>\n",
              "      <td>NaN</td>\n",
              "    </tr>\n",
              "    <tr>\n",
              "      <th>mean</th>\n",
              "      <td>NaN</td>\n",
              "      <td>NaN</td>\n",
              "      <td>NaN</td>\n",
              "      <td>NaN</td>\n",
              "      <td>258.691437</td>\n",
              "      <td>NaN</td>\n",
              "      <td>6.584326e+06</td>\n",
              "      <td>2017-10-12 22:50:13.936795904</td>\n",
              "      <td>2017-10-01 04:17:48.198133504</td>\n",
              "      <td>2017-11-03 08:43:21.579325184</td>\n",
              "      <td>33.201595</td>\n",
              "      <td>NaN</td>\n",
              "      <td>2143.459285</td>\n",
              "      <td>NaN</td>\n",
              "      <td>223.798864</td>\n",
              "      <td>2129.285951</td>\n",
              "      <td>14.173333</td>\n",
              "    </tr>\n",
              "    <tr>\n",
              "      <th>min</th>\n",
              "      <td>NaN</td>\n",
              "      <td>NaN</td>\n",
              "      <td>NaN</td>\n",
              "      <td>NaN</td>\n",
              "      <td>1.000000</td>\n",
              "      <td>NaN</td>\n",
              "      <td>2.576038e+06</td>\n",
              "      <td>2013-01-01 00:00:00</td>\n",
              "      <td>2002-12-22 00:00:00</td>\n",
              "      <td>2013-01-14 00:00:00</td>\n",
              "      <td>0.000000</td>\n",
              "      <td>NaN</td>\n",
              "      <td>0.000000</td>\n",
              "      <td>NaN</td>\n",
              "      <td>0.000000</td>\n",
              "      <td>0.000000</td>\n",
              "      <td>0.000000</td>\n",
              "    </tr>\n",
              "    <tr>\n",
              "      <th>25%</th>\n",
              "      <td>NaN</td>\n",
              "      <td>NaN</td>\n",
              "      <td>NaN</td>\n",
              "      <td>NaN</td>\n",
              "      <td>209.000000</td>\n",
              "      <td>NaN</td>\n",
              "      <td>4.132341e+06</td>\n",
              "      <td>2015-04-01 00:00:00</td>\n",
              "      <td>2015-03-22 00:00:00</td>\n",
              "      <td>2015-04-21 00:00:00</td>\n",
              "      <td>29.000000</td>\n",
              "      <td>NaN</td>\n",
              "      <td>46.460000</td>\n",
              "      <td>NaN</td>\n",
              "      <td>5.000000</td>\n",
              "      <td>46.360000</td>\n",
              "      <td>0.000000</td>\n",
              "    </tr>\n",
              "    <tr>\n",
              "      <th>50%</th>\n",
              "      <td>NaN</td>\n",
              "      <td>NaN</td>\n",
              "      <td>NaN</td>\n",
              "      <td>NaN</td>\n",
              "      <td>273.000000</td>\n",
              "      <td>NaN</td>\n",
              "      <td>6.353682e+06</td>\n",
              "      <td>2017-11-01 00:00:00</td>\n",
              "      <td>2017-10-22 00:00:00</td>\n",
              "      <td>2017-11-23 00:00:00</td>\n",
              "      <td>30.000000</td>\n",
              "      <td>NaN</td>\n",
              "      <td>197.360000</td>\n",
              "      <td>NaN</td>\n",
              "      <td>26.000000</td>\n",
              "      <td>196.350000</td>\n",
              "      <td>0.000000</td>\n",
              "    </tr>\n",
              "    <tr>\n",
              "      <th>75%</th>\n",
              "      <td>NaN</td>\n",
              "      <td>NaN</td>\n",
              "      <td>NaN</td>\n",
              "      <td>NaN</td>\n",
              "      <td>338.000000</td>\n",
              "      <td>NaN</td>\n",
              "      <td>8.562616e+06</td>\n",
              "      <td>2020-01-01 00:00:00</td>\n",
              "      <td>2019-12-23 00:00:00</td>\n",
              "      <td>2020-01-26 00:00:00</td>\n",
              "      <td>32.000000</td>\n",
              "      <td>NaN</td>\n",
              "      <td>2595.260000</td>\n",
              "      <td>NaN</td>\n",
              "      <td>236.000000</td>\n",
              "      <td>2565.650000</td>\n",
              "      <td>0.000000</td>\n",
              "    </tr>\n",
              "    <tr>\n",
              "      <th>max</th>\n",
              "      <td>NaN</td>\n",
              "      <td>NaN</td>\n",
              "      <td>NaN</td>\n",
              "      <td>NaN</td>\n",
              "      <td>559.000000</td>\n",
              "      <td>NaN</td>\n",
              "      <td>1.217584e+07</td>\n",
              "      <td>2023-01-01 00:00:00</td>\n",
              "      <td>2022-12-29 00:00:00</td>\n",
              "      <td>2023-01-27 00:00:00</td>\n",
              "      <td>6968.000000</td>\n",
              "      <td>NaN</td>\n",
              "      <td>392036.460000</td>\n",
              "      <td>NaN</td>\n",
              "      <td>434200.000000</td>\n",
              "      <td>392036.460000</td>\n",
              "      <td>77796.690000</td>\n",
              "    </tr>\n",
              "    <tr>\n",
              "      <th>std</th>\n",
              "      <td>NaN</td>\n",
              "      <td>NaN</td>\n",
              "      <td>NaN</td>\n",
              "      <td>NaN</td>\n",
              "      <td>101.519212</td>\n",
              "      <td>NaN</td>\n",
              "      <td>2.661534e+06</td>\n",
              "      <td>NaN</td>\n",
              "      <td>NaN</td>\n",
              "      <td>NaN</td>\n",
              "      <td>53.115153</td>\n",
              "      <td>NaN</td>\n",
              "      <td>5600.139052</td>\n",
              "      <td>NaN</td>\n",
              "      <td>2023.422602</td>\n",
              "      <td>5558.584594</td>\n",
              "      <td>479.151676</td>\n",
              "    </tr>\n",
              "  </tbody>\n",
              "</table>\n",
              "</div>\n",
              "    <div class=\"colab-df-buttons\">\n",
              "\n",
              "  <div class=\"colab-df-container\">\n",
              "    <button class=\"colab-df-convert\" onclick=\"convertToInteractive('df-76ecbc40-c35d-4f00-9023-1f6a5ac6c3b5')\"\n",
              "            title=\"Convert this dataframe to an interactive table.\"\n",
              "            style=\"display:none;\">\n",
              "\n",
              "  <svg xmlns=\"http://www.w3.org/2000/svg\" height=\"24px\" viewBox=\"0 -960 960 960\">\n",
              "    <path d=\"M120-120v-720h720v720H120Zm60-500h600v-160H180v160Zm220 220h160v-160H400v160Zm0 220h160v-160H400v160ZM180-400h160v-160H180v160Zm440 0h160v-160H620v160ZM180-180h160v-160H180v160Zm440 0h160v-160H620v160Z\"/>\n",
              "  </svg>\n",
              "    </button>\n",
              "\n",
              "  <style>\n",
              "    .colab-df-container {\n",
              "      display:flex;\n",
              "      gap: 12px;\n",
              "    }\n",
              "\n",
              "    .colab-df-convert {\n",
              "      background-color: #E8F0FE;\n",
              "      border: none;\n",
              "      border-radius: 50%;\n",
              "      cursor: pointer;\n",
              "      display: none;\n",
              "      fill: #1967D2;\n",
              "      height: 32px;\n",
              "      padding: 0 0 0 0;\n",
              "      width: 32px;\n",
              "    }\n",
              "\n",
              "    .colab-df-convert:hover {\n",
              "      background-color: #E2EBFA;\n",
              "      box-shadow: 0px 1px 2px rgba(60, 64, 67, 0.3), 0px 1px 3px 1px rgba(60, 64, 67, 0.15);\n",
              "      fill: #174EA6;\n",
              "    }\n",
              "\n",
              "    .colab-df-buttons div {\n",
              "      margin-bottom: 4px;\n",
              "    }\n",
              "\n",
              "    [theme=dark] .colab-df-convert {\n",
              "      background-color: #3B4455;\n",
              "      fill: #D2E3FC;\n",
              "    }\n",
              "\n",
              "    [theme=dark] .colab-df-convert:hover {\n",
              "      background-color: #434B5C;\n",
              "      box-shadow: 0px 1px 3px 1px rgba(0, 0, 0, 0.15);\n",
              "      filter: drop-shadow(0px 1px 2px rgba(0, 0, 0, 0.3));\n",
              "      fill: #FFFFFF;\n",
              "    }\n",
              "  </style>\n",
              "\n",
              "    <script>\n",
              "      const buttonEl =\n",
              "        document.querySelector('#df-76ecbc40-c35d-4f00-9023-1f6a5ac6c3b5 button.colab-df-convert');\n",
              "      buttonEl.style.display =\n",
              "        google.colab.kernel.accessAllowed ? 'block' : 'none';\n",
              "\n",
              "      async function convertToInteractive(key) {\n",
              "        const element = document.querySelector('#df-76ecbc40-c35d-4f00-9023-1f6a5ac6c3b5');\n",
              "        const dataTable =\n",
              "          await google.colab.kernel.invokeFunction('convertToInteractive',\n",
              "                                                    [key], {});\n",
              "        if (!dataTable) return;\n",
              "\n",
              "        const docLinkHtml = 'Like what you see? Visit the ' +\n",
              "          '<a target=\"_blank\" href=https://colab.research.google.com/notebooks/data_table.ipynb>data table notebook</a>'\n",
              "          + ' to learn more about interactive tables.';\n",
              "        element.innerHTML = '';\n",
              "        dataTable['output_type'] = 'display_data';\n",
              "        await google.colab.output.renderOutput(dataTable, element);\n",
              "        const docLink = document.createElement('div');\n",
              "        docLink.innerHTML = docLinkHtml;\n",
              "        element.appendChild(docLink);\n",
              "      }\n",
              "    </script>\n",
              "  </div>\n",
              "\n",
              "\n",
              "<div id=\"df-5b039f6e-ed09-439c-82a2-b8c21617b0f6\">\n",
              "  <button class=\"colab-df-quickchart\" onclick=\"quickchart('df-5b039f6e-ed09-439c-82a2-b8c21617b0f6')\"\n",
              "            title=\"Suggest charts\"\n",
              "            style=\"display:none;\">\n",
              "\n",
              "<svg xmlns=\"http://www.w3.org/2000/svg\" height=\"24px\"viewBox=\"0 0 24 24\"\n",
              "     width=\"24px\">\n",
              "    <g>\n",
              "        <path d=\"M19 3H5c-1.1 0-2 .9-2 2v14c0 1.1.9 2 2 2h14c1.1 0 2-.9 2-2V5c0-1.1-.9-2-2-2zM9 17H7v-7h2v7zm4 0h-2V7h2v10zm4 0h-2v-4h2v4z\"/>\n",
              "    </g>\n",
              "</svg>\n",
              "  </button>\n",
              "\n",
              "<style>\n",
              "  .colab-df-quickchart {\n",
              "      --bg-color: #E8F0FE;\n",
              "      --fill-color: #1967D2;\n",
              "      --hover-bg-color: #E2EBFA;\n",
              "      --hover-fill-color: #174EA6;\n",
              "      --disabled-fill-color: #AAA;\n",
              "      --disabled-bg-color: #DDD;\n",
              "  }\n",
              "\n",
              "  [theme=dark] .colab-df-quickchart {\n",
              "      --bg-color: #3B4455;\n",
              "      --fill-color: #D2E3FC;\n",
              "      --hover-bg-color: #434B5C;\n",
              "      --hover-fill-color: #FFFFFF;\n",
              "      --disabled-bg-color: #3B4455;\n",
              "      --disabled-fill-color: #666;\n",
              "  }\n",
              "\n",
              "  .colab-df-quickchart {\n",
              "    background-color: var(--bg-color);\n",
              "    border: none;\n",
              "    border-radius: 50%;\n",
              "    cursor: pointer;\n",
              "    display: none;\n",
              "    fill: var(--fill-color);\n",
              "    height: 32px;\n",
              "    padding: 0;\n",
              "    width: 32px;\n",
              "  }\n",
              "\n",
              "  .colab-df-quickchart:hover {\n",
              "    background-color: var(--hover-bg-color);\n",
              "    box-shadow: 0 1px 2px rgba(60, 64, 67, 0.3), 0 1px 3px 1px rgba(60, 64, 67, 0.15);\n",
              "    fill: var(--button-hover-fill-color);\n",
              "  }\n",
              "\n",
              "  .colab-df-quickchart-complete:disabled,\n",
              "  .colab-df-quickchart-complete:disabled:hover {\n",
              "    background-color: var(--disabled-bg-color);\n",
              "    fill: var(--disabled-fill-color);\n",
              "    box-shadow: none;\n",
              "  }\n",
              "\n",
              "  .colab-df-spinner {\n",
              "    border: 2px solid var(--fill-color);\n",
              "    border-color: transparent;\n",
              "    border-bottom-color: var(--fill-color);\n",
              "    animation:\n",
              "      spin 1s steps(1) infinite;\n",
              "  }\n",
              "\n",
              "  @keyframes spin {\n",
              "    0% {\n",
              "      border-color: transparent;\n",
              "      border-bottom-color: var(--fill-color);\n",
              "      border-left-color: var(--fill-color);\n",
              "    }\n",
              "    20% {\n",
              "      border-color: transparent;\n",
              "      border-left-color: var(--fill-color);\n",
              "      border-top-color: var(--fill-color);\n",
              "    }\n",
              "    30% {\n",
              "      border-color: transparent;\n",
              "      border-left-color: var(--fill-color);\n",
              "      border-top-color: var(--fill-color);\n",
              "      border-right-color: var(--fill-color);\n",
              "    }\n",
              "    40% {\n",
              "      border-color: transparent;\n",
              "      border-right-color: var(--fill-color);\n",
              "      border-top-color: var(--fill-color);\n",
              "    }\n",
              "    60% {\n",
              "      border-color: transparent;\n",
              "      border-right-color: var(--fill-color);\n",
              "    }\n",
              "    80% {\n",
              "      border-color: transparent;\n",
              "      border-right-color: var(--fill-color);\n",
              "      border-bottom-color: var(--fill-color);\n",
              "    }\n",
              "    90% {\n",
              "      border-color: transparent;\n",
              "      border-bottom-color: var(--fill-color);\n",
              "    }\n",
              "  }\n",
              "</style>\n",
              "\n",
              "  <script>\n",
              "    async function quickchart(key) {\n",
              "      const quickchartButtonEl =\n",
              "        document.querySelector('#' + key + ' button');\n",
              "      quickchartButtonEl.disabled = true;  // To prevent multiple clicks.\n",
              "      quickchartButtonEl.classList.add('colab-df-spinner');\n",
              "      try {\n",
              "        const charts = await google.colab.kernel.invokeFunction(\n",
              "            'suggestCharts', [key], {});\n",
              "      } catch (error) {\n",
              "        console.error('Error during call to suggestCharts:', error);\n",
              "      }\n",
              "      quickchartButtonEl.classList.remove('colab-df-spinner');\n",
              "      quickchartButtonEl.classList.add('colab-df-quickchart-complete');\n",
              "    }\n",
              "    (() => {\n",
              "      let quickchartButtonEl =\n",
              "        document.querySelector('#df-5b039f6e-ed09-439c-82a2-b8c21617b0f6 button');\n",
              "      quickchartButtonEl.style.display =\n",
              "        google.colab.kernel.accessAllowed ? 'block' : 'none';\n",
              "    })();\n",
              "  </script>\n",
              "</div>\n",
              "\n",
              "    </div>\n",
              "  </div>\n"
            ],
            "application/vnd.google.colaboratory.intrinsic+json": {
              "type": "dataframe",
              "summary": "{\n  \"name\": \"df\",\n  \"rows\": 11,\n  \"fields\": [\n    {\n      \"column\": \"developmentname\",\n      \"properties\": {\n        \"dtype\": \"category\",\n        \"num_unique_values\": 4,\n        \"samples\": [\n          110,\n          \"4807\",\n          \"50155\"\n        ],\n        \"semantic_type\": \"\",\n        \"description\": \"\"\n      }\n    },\n    {\n      \"column\": \"borough\",\n      \"properties\": {\n        \"dtype\": \"category\",\n        \"num_unique_values\": 4,\n        \"samples\": [\n          7,\n          \"23409\",\n          \"50155\"\n        ],\n        \"semantic_type\": \"\",\n        \"description\": \"\"\n      }\n    },\n    {\n      \"column\": \"accountname\",\n      \"properties\": {\n        \"dtype\": \"category\",\n        \"num_unique_values\": 4,\n        \"samples\": [\n          117,\n          \"4741\",\n          \"50155\"\n        ],\n        \"semantic_type\": \"\",\n        \"description\": \"\"\n      }\n    },\n    {\n      \"column\": \"location\",\n      \"properties\": {\n        \"dtype\": \"category\",\n        \"num_unique_values\": 4,\n        \"samples\": [\n          305,\n          \"5259\",\n          \"50155\"\n        ],\n        \"semantic_type\": \"\",\n        \"description\": \"\"\n      }\n    },\n    {\n      \"column\": \"tds\",\n      \"properties\": {\n        \"dtype\": \"number\",\n        \"std\": 17645.34368921459,\n        \"min\": 1.0,\n        \"max\": 50155.0,\n        \"num_unique_values\": 8,\n        \"samples\": [\n          258.69143654670523,\n          338.0,\n          50155.0\n        ],\n        \"semantic_type\": \"\",\n        \"description\": \"\"\n      }\n    },\n    {\n      \"column\": \"rccode\",\n      \"properties\": {\n        \"dtype\": \"category\",\n        \"num_unique_values\": 4,\n        \"samples\": [\n          114,\n          \"4747\",\n          \"50155\"\n        ],\n        \"semantic_type\": \"\",\n        \"description\": \"\"\n      }\n    },\n    {\n      \"column\": \"umisbillid\",\n      \"properties\": {\n        \"dtype\": \"number\",\n        \"std\": 3853137.88728814,\n        \"min\": 50155.0,\n        \"max\": 12175840.0,\n        \"num_unique_values\": 8,\n        \"samples\": [\n          6584326.121423587,\n          8562615.5,\n          50155.0\n        ],\n        \"semantic_type\": \"\",\n        \"description\": \"\"\n      }\n    },\n    {\n      \"column\": \"revenuemonth\",\n      \"properties\": {\n        \"dtype\": \"date\",\n        \"min\": \"1970-01-01 00:00:00.000050155\",\n        \"max\": \"2023-01-01 00:00:00\",\n        \"num_unique_values\": 7,\n        \"samples\": [\n          \"50155\",\n          \"2017-10-12 22:50:13.936795904\",\n          \"2020-01-01 00:00:00\"\n        ],\n        \"semantic_type\": \"\",\n        \"description\": \"\"\n      }\n    },\n    {\n      \"column\": \"servicestartdate\",\n      \"properties\": {\n        \"dtype\": \"date\",\n        \"min\": \"1970-01-01 00:00:00.000050148\",\n        \"max\": \"2022-12-29 00:00:00\",\n        \"num_unique_values\": 7,\n        \"samples\": [\n          \"50148\",\n          \"2017-10-01 04:17:48.198133504\",\n          \"2019-12-23 00:00:00\"\n        ],\n        \"semantic_type\": \"\",\n        \"description\": \"\"\n      }\n    },\n    {\n      \"column\": \"serviceenddate\",\n      \"properties\": {\n        \"dtype\": \"date\",\n        \"min\": \"1970-01-01 00:00:00.000050148\",\n        \"max\": \"2023-01-27 00:00:00\",\n        \"num_unique_values\": 7,\n        \"samples\": [\n          \"50148\",\n          \"2017-11-03 08:43:21.579325184\",\n          \"2020-01-26 00:00:00\"\n        ],\n        \"semantic_type\": \"\",\n        \"description\": \"\"\n      }\n    },\n    {\n      \"column\": \"days\",\n      \"properties\": {\n        \"dtype\": \"number\",\n        \"std\": 17540.434715798776,\n        \"min\": 0.0,\n        \"max\": 50155.0,\n        \"num_unique_values\": 8,\n        \"samples\": [\n          33.20159505532848,\n          32.0,\n          50155.0\n        ],\n        \"semantic_type\": \"\",\n        \"description\": \"\"\n      }\n    },\n    {\n      \"column\": \"meternumber\",\n      \"properties\": {\n        \"dtype\": \"category\",\n        \"num_unique_values\": 4,\n        \"samples\": [\n          794,\n          \"179\",\n          \"50155\"\n        ],\n        \"semantic_type\": \"\",\n        \"description\": \"\"\n      }\n    },\n    {\n      \"column\": \"currentcharges\",\n      \"properties\": {\n        \"dtype\": \"number\",\n        \"std\": 136604.37658230547,\n        \"min\": 0.0,\n        \"max\": 392036.46,\n        \"num_unique_values\": 8,\n        \"samples\": [\n          2143.4592846176856,\n          2595.26,\n          50155.0\n        ],\n        \"semantic_type\": \"\",\n        \"description\": \"\"\n      }\n    },\n    {\n      \"column\": \"rateclass\",\n      \"properties\": {\n        \"dtype\": \"category\",\n        \"num_unique_values\": 4,\n        \"samples\": [\n          5,\n          \"50051\",\n          \"50155\"\n        ],\n        \"semantic_type\": \"\",\n        \"description\": \"\"\n      }\n    },\n    {\n      \"column\": \"consumptionhcf\",\n      \"properties\": {\n        \"dtype\": \"number\",\n        \"std\": 151854.79901895853,\n        \"min\": 0.0,\n        \"max\": 434200.0,\n        \"num_unique_values\": 8,\n        \"samples\": [\n          223.79886352307847,\n          236.0,\n          50155.0\n        ],\n        \"semantic_type\": \"\",\n        \"description\": \"\"\n      }\n    },\n    {\n      \"column\": \"watersewercharges\",\n      \"properties\": {\n        \"dtype\": \"number\",\n        \"std\": 136609.13838487017,\n        \"min\": 0.0,\n        \"max\": 392036.46,\n        \"num_unique_values\": 8,\n        \"samples\": [\n          2129.2859513508124,\n          2565.65,\n          50155.0\n        ],\n        \"semantic_type\": \"\",\n        \"description\": \"\"\n      }\n    },\n    {\n      \"column\": \"othercharges\",\n      \"properties\": {\n        \"dtype\": \"number\",\n        \"std\": 30486.09414163562,\n        \"min\": 0.0,\n        \"max\": 77796.69,\n        \"num_unique_values\": 5,\n        \"samples\": [\n          14.173333266872696,\n          479.15167561649406,\n          0.0\n        ],\n        \"semantic_type\": \"\",\n        \"description\": \"\"\n      }\n    }\n  ]\n}"
            }
          },
          "metadata": {},
          "execution_count": 200
        }
      ]
    },
    {
      "cell_type": "markdown",
      "source": [
        "El número total de filas y columnas es."
      ],
      "metadata": {
        "id": "-dqKlNAbwmZ7"
      }
    },
    {
      "cell_type": "code",
      "source": [
        "print(f\"Filas: {df.shape[0]}, Columnas: {df.shape[1]}\")"
      ],
      "metadata": {
        "colab": {
          "base_uri": "https://localhost:8080/"
        },
        "id": "9On4eWxvwrNv",
        "outputId": "9dfd5408-2847-4395-8c51-c4990201f0fc"
      },
      "execution_count": 201,
      "outputs": [
        {
          "output_type": "stream",
          "name": "stdout",
          "text": [
            "Filas: 50155, Columnas: 17\n"
          ]
        }
      ]
    },
    {
      "cell_type": "markdown",
      "source": [
        "***Limpieza, Transformación y Normalización de Datos Categóricos***"
      ],
      "metadata": {
        "id": "lOD4vVHLDRlW"
      }
    },
    {
      "cell_type": "markdown",
      "source": [
        "Para este proceso de limpieza y transformación, se verificó primero el número de valores únicos en cada una de las columnas de tipo Category."
      ],
      "metadata": {
        "id": "eJsW8LrdDWSl"
      }
    },
    {
      "cell_type": "code",
      "source": [
        "for col in ['developmentname', 'borough', 'accountname', 'location', 'rateclass']:\n",
        "    print(f\"Valores únicos en {col}: {df[col].value_counts()}\")\n",
        "    print(\"\\n\")"
      ],
      "metadata": {
        "colab": {
          "base_uri": "https://localhost:8080/"
        },
        "id": "crNSn4U8Dvyu",
        "outputId": "a766ba93-5006-4434-cd02-aebb1e05720d"
      },
      "execution_count": 202,
      "outputs": [
        {
          "output_type": "stream",
          "name": "stdout",
          "text": [
            "Valores únicos en developmentname: developmentname\n",
            "FHA REPOSSESSED HOUSES (GROUP V)            4807\n",
            "SAMUEL (CITY)                               3914\n",
            "FHA REPOSSESSED HOUSES (GROUP I)            3730\n",
            "FHA REPOSSESSED HOUSES (GROUP X)            3031\n",
            "SOUTH JAMAICA II                            2600\n",
            "                                            ... \n",
            "EDENWALD                                      11\n",
            "BRYANT AVENUE-EAST 174TH STREET                9\n",
            "EAST 152ND STREET-COURTLANDT AVENUE            9\n",
            "WEST TREMONT AVENUE-SEDGWICK AVENUE AREA       6\n",
            "FIRST HOUSES                                   1\n",
            "Name: count, Length: 110, dtype: int64\n",
            "\n",
            "\n",
            "Valores únicos en borough: borough\n",
            "FHA                         23409\n",
            "BROOKLYN                     9040\n",
            "MANHATTAN                    8162\n",
            "BRONX                        4883\n",
            "QUEENS                       4468\n",
            "STATEN ISLAND                 133\n",
            "NON DEVELOPMENT FACILITY       60\n",
            "Name: count, dtype: int64\n",
            "\n",
            "\n",
            "Valores únicos en accountname: accountname\n",
            "FHA REPOSSESSED HOUSES (GROUP V)              4741\n",
            "SAMUEL (CITY)                                 3914\n",
            "FHA REPOSSESSED HOUSES (GROUP I)              3590\n",
            "FHA REPOSSESSED HOUSES (GROUP X)              3025\n",
            "SOUTH JAMAICA II                              2600\n",
            "                                              ... \n",
            "ZZ_SOLD_FHA REPOSSESSED HOUSES (GROUP X)         6\n",
            "ZZ_SOLD_FHA REPOSSESSED HOUSES (GROUP I)         3\n",
            "ZZ_SOLD_FHA REPOSSESSED HOUSES (GROUP IV)        3\n",
            "ZZ_SOLD_FHA REPOSSESSED HOUSES (GROUP VII)       3\n",
            "FIRST HOUSES                                     1\n",
            "Name: count, Length: 117, dtype: int64\n",
            "\n",
            "\n",
            "Valores únicos en location: location\n",
            "BLD 01                 5259\n",
            "BLD 03                 2464\n",
            "BLD 02                 2076\n",
            "BLD 04                 1914\n",
            "BLD 05                 1446\n",
            "                       ... \n",
            "BLD 5                     9\n",
            "BLD16 - STORE 35-36       4\n",
            "BLD 7                     1\n",
            "BLD 8                     1\n",
            "BLD02 - STORE 6 & 7       1\n",
            "Name: count, Length: 305, dtype: int64\n",
            "\n",
            "\n",
            "Valores únicos en rateclass: rateclass\n",
            "Basic Water and Sewer         50051\n",
            "HOT OR COLD WATER IN STORE       90\n",
            "COMMERCIAL                        9\n",
            "WATER-METER                       3\n",
            "MULTIFAMILY                       2\n",
            "Name: count, dtype: int64\n",
            "\n",
            "\n"
          ]
        }
      ]
    },
    {
      "cell_type": "markdown",
      "source": [
        "Tras la verificación, se procedió a renombrar algunos datos. En este caso, se cambió 'Basic Water and Sewer' en la columna rateclass."
      ],
      "metadata": {
        "id": "Qj6o52SWGhr6"
      }
    },
    {
      "cell_type": "code",
      "source": [
        "df['rateclass'] = df['rateclass'].replace({'Basic Water and Sewer':'BASIC WATER AND SEWER'})"
      ],
      "metadata": {
        "id": "pwqzXVFdGiI-",
        "colab": {
          "base_uri": "https://localhost:8080/"
        },
        "outputId": "5a2a0c6b-818a-4174-ea39-5240a4b288a5"
      },
      "execution_count": 203,
      "outputs": [
        {
          "output_type": "stream",
          "name": "stderr",
          "text": [
            "<ipython-input-203-89d0124375b6>:1: FutureWarning: The behavior of Series.replace (and DataFrame.replace) with CategoricalDtype is deprecated. In a future version, replace will only be used for cases that preserve the categories. To change the categories, use ser.cat.rename_categories instead.\n",
            "  df['rateclass'] = df['rateclass'].replace({'Basic Water and Sewer':'BASIC WATER AND SEWER'})\n"
          ]
        }
      ]
    },
    {
      "cell_type": "markdown",
      "source": [
        "Se volvió a verificar los valores únicos."
      ],
      "metadata": {
        "id": "7S9AifwMVrhx"
      }
    },
    {
      "cell_type": "code",
      "source": [
        "print(df['rateclass'].unique())"
      ],
      "metadata": {
        "colab": {
          "base_uri": "https://localhost:8080/"
        },
        "id": "V53Q6-zpRbx3",
        "outputId": "d2199eb4-a0cb-426e-be24-e8e47ccd3502"
      },
      "execution_count": 204,
      "outputs": [
        {
          "output_type": "stream",
          "name": "stdout",
          "text": [
            "['BASIC WATER AND SEWER', 'MULTIFAMILY', 'WATER-METER', 'COMMERCIAL', 'HOT OR COLD WATER IN STORE']\n",
            "Categories (5, object): ['BASIC WATER AND SEWER', 'COMMERCIAL', 'HOT OR COLD WATER IN STORE', 'MULTIFAMILY',\n",
            "                         'WATER-METER']\n"
          ]
        }
      ]
    },
    {
      "cell_type": "markdown",
      "source": [
        "Se realizó un conteo de los valores únicos."
      ],
      "metadata": {
        "id": "i4Ny6GiFVxo1"
      }
    },
    {
      "cell_type": "code",
      "source": [
        "print(df['rateclass'].value_counts())"
      ],
      "metadata": {
        "colab": {
          "base_uri": "https://localhost:8080/"
        },
        "id": "6yuUPUGsQ601",
        "outputId": "8679207a-00f3-4447-9c14-01de63ca7a97"
      },
      "execution_count": 205,
      "outputs": [
        {
          "output_type": "stream",
          "name": "stdout",
          "text": [
            "rateclass\n",
            "BASIC WATER AND SEWER         50051\n",
            "HOT OR COLD WATER IN STORE       90\n",
            "COMMERCIAL                        9\n",
            "WATER-METER                       3\n",
            "MULTIFAMILY                       2\n",
            "Name: count, dtype: int64\n"
          ]
        }
      ]
    },
    {
      "cell_type": "markdown",
      "source": [
        "Por último, para la columna location, se renombraron los valores 'Lot' y, utilizando una expresión regular, se actualizaron los valores que terminan con 'Community Center'."
      ],
      "metadata": {
        "id": "uzHfC4AvS0hL"
      }
    },
    {
      "cell_type": "code",
      "source": [
        "df['location'] = df['location'].replace({'Lot':'LOT'})\n",
        "df['location'] = df['location'].str.replace(r'Community Center$', 'COMMUNITY CENTER', regex=True)"
      ],
      "metadata": {
        "id": "_yxQMudJS2dJ",
        "colab": {
          "base_uri": "https://localhost:8080/"
        },
        "outputId": "0997b299-7b75-4c81-ff3d-f3d6646f0a67"
      },
      "execution_count": 206,
      "outputs": [
        {
          "output_type": "stream",
          "name": "stderr",
          "text": [
            "<ipython-input-206-58496da882d6>:1: FutureWarning: The behavior of Series.replace (and DataFrame.replace) with CategoricalDtype is deprecated. In a future version, replace will only be used for cases that preserve the categories. To change the categories, use ser.cat.rename_categories instead.\n",
            "  df['location'] = df['location'].replace({'Lot':'LOT'})\n"
          ]
        }
      ]
    },
    {
      "cell_type": "markdown",
      "source": [
        "Se verificaron los valores únicos."
      ],
      "metadata": {
        "id": "38E6OYgqYAQh"
      }
    },
    {
      "cell_type": "code",
      "source": [
        "print(df['location'].unique())"
      ],
      "metadata": {
        "colab": {
          "base_uri": "https://localhost:8080/"
        },
        "id": "JlWEOJzKUVtd",
        "outputId": "4d895a6a-0fba-486e-e6f1-942b1986b880"
      },
      "execution_count": 207,
      "outputs": [
        {
          "output_type": "stream",
          "name": "stdout",
          "text": [
            "['BLD 02' 'BLD 09' 'BLD 25 - COMMUNITY CENTER' 'BLD 04' 'BLD 03' 'BLD 01'\n",
            " 'BLD 06' 'BLD 07' 'BLD 15' 'BLD 13' 'BLD 11' 'BLD 08' 'BLD 18' 'BLD 16'\n",
            " 'BLD 10' 'BLD 14' 'BLD 12' 'BLD 05' 'BLD 17' '202-06 116TH AVENUE'\n",
            " '148-13 SUTTER AVENUE' '1502 BEACH 12TH STREET' '114-22 166TH STREET'\n",
            " '132-19 BENNETT COURT' '143-03 105TH AVENUE' '104-06 FARMERS BOULEVARD'\n",
            " '150-36 116TH ROAD' '118-03 204TH STREET' '178-14 BAISLEY BOULEVARD'\n",
            " '194-17 114TH DRIVE' '132-33 218TH STREET' '1504 BEACH 12TH STREET'\n",
            " '114-69 145TH STREET' '218-34 119TH AVENUE' '187-24 KEESEVILLE AVENUE'\n",
            " '213-24 NASHVILLE BOULEVARD' '117-22 133RD STREET'\n",
            " '137-22 WESTGATE STREET' '114-11 130TH STREET' '130-34 147TH STREET'\n",
            " '104-33 203RD STREET' '138-11 LINDEN BOULEVARD' '171-28 111TH AVENUE'\n",
            " '110-16 207TH STREET' '114-42 139TH STREET' '133-11 148TH STREET'\n",
            " '215-32 112TH AVENUE' '126-01 116TH AVENUE' '69-33 BAYFIELD AVENUE'\n",
            " '444 TORRY AVENUE' '223-20 FRANCIS LEWIS BOULEVARD' '105-11 171ST PLACE'\n",
            " '113-14 196TH STREET' '110-26 216TH STREET' '129-04 142ND STREET'\n",
            " '111-32 209TH STREET' '115-52 147TH STREET' '138-17 230TH PLACE'\n",
            " '144-23 166TH STREET' '100-38 FRANCIS LEWIS BOULEVARD'\n",
            " '188-23 LEWISTON AVENUE' '115-27 208TH STREET' '115-21 135TH STREET'\n",
            " '148-06 133RD AVENUE' '209-47 112TH AVENUE' '3027 EDSON AVENUE'\n",
            " '99-19 194TH STREET' '197-22 122ND AVENUE' '119-44 INWOOD STREET'\n",
            " '190-18 119TH AVENUE' '120-56 233RD STREET' '447 EFFINGHAM AVENUE'\n",
            " '107-27 132ND STREET' '113-32 205TH STREET' '119-12 219TH STREET'\n",
            " '209-26 NASHVILLE BOULEVARD' '111-20 205TH STREET'\n",
            " '186-10 FOCH BOULEVARD' '184-20 EDGEWOOD AVENUE' '353 BERRIMAN STREET'\n",
            " '458 ATKINS AVENUE' '367 DOUGLASS STREET' '182 ADELPHI STREET'\n",
            " '349 BERRIMAN STREET' '140 EAST 91ST STREET' '110 WAVERLY AVENUE'\n",
            " '71 WAVERLY AVENUE' '75 WAVERLY AVENUE' '359 BERRIMAN STREET'\n",
            " '341 BERRIMAN STREET' '173-09 143RD ROAD' '165-17 116TH AVENUE'\n",
            " '205-20 112TH AVENUE' '124-18 135TH PLACE' '131-41 135TH PLACE'\n",
            " '120-26 178TH STREET' '107-29 164TH STREET' '190-15 109TH ROAD'\n",
            " '194-47 115TH AVENUE' '116-17 FARMERS BOULEVARD' '144-29 105TH AVENUE'\n",
            " '108-15 164TH PLACE' '110-15 169TH STREET' '109-20 212TH STREET'\n",
            " '134-17 120TH AVENUE' '137-24 219TH STREET' '163-34 CLAUDE AVENUE'\n",
            " '174-36 126TH AVENUE' '102-36 187TH STREET' '115-22 210TH STREET'\n",
            " '198-15 116TH AVENUE' '184-12 GALWAY AVENUE' '113-30 200th Street'\n",
            " '111-21 LIVERPOOL STREET' '219-30 102ND AVENUE' '112-22 198TH STREET'\n",
            " '119-01 146TH STREET' '142-06 FOCH BOULEVARD' '104-28 209TH STREET'\n",
            " '133-24 135TH PLACE' '117-37 192ND STREET' '117-11 192ND STREET'\n",
            " '113-44 SPRINGFIELD BOULEVARD' '104-14 164TH PLACE' '114-44 198TH STREET'\n",
            " '117-24 143RD STREET' '116-31 FARMERS BOULEVARD'\n",
            " '105-36 FARMERS BOULEVARD' '180-15 144TH AVENUE' '146-23 176TH STREET'\n",
            " '122-28 191ST STREET' '129-37 132ND STREET' '117-11 143RD STREET'\n",
            " '118-15 199TH STREET' '114-42 200TH STREET' '219-30 MURDOCK AVENUE'\n",
            " '111-50 WITTHOFF STREET' '123-19 145TH STREET' '109-33 130TH STREET'\n",
            " '139-10 109TH ROAD' '118-22 197TH STREET' '114-39 203RD STREET'\n",
            " '198-16 116TH AVENUE' '220-23 135TH AVENUE' '106-10 215TH STREET'\n",
            " '111-37 144TH STREET' '111-46 156TH STREET' '214-15 HOLLIS AVENUE'\n",
            " '114-54 INWOOD STREET' '153 BEACH 59TH STREET' '138-20 102ND AVENUE'\n",
            " '174-16 111TH AVENUE' '131-27 135TH PLACE' '188-56 120TH ROAD'\n",
            " '110-05 225TH STREET' '114-34 146TH STREET' '118-35 153RD STREET'\n",
            " '104-10 212TH STREET' '191-18 120TH AVENUE' '111-27 207TH STREET'\n",
            " '217-09 110TH AVENUE' '119-55 177TH STREET' '117-17 204TH STREET'\n",
            " 'BLD 03 - COMMUNITY CENTER' 'BLD 35' 'BLD 29' 'BLD 09 - COMMUNITY CENTER'\n",
            " 'LOT' 'BLD 08 - COMMUNITY CENTER' 'BLD 14&16' 'BLD 28'\n",
            " 'BLD 26 - COMMUNITY CENTER' 'BLD 30' 'BLD 23' 'BLD 25' 'BLD 44' 'BLD 48'\n",
            " 'BLD 32' 'BLD 27' 'BLD 19' 'BLD 24' 'BLD 43' 'BLD 42' 'BLD 39' 'BLD 41'\n",
            " 'BLD 31 - COMMUNITY CENTER' 'BLD 20' 'BLD 22' 'BLD 26' 'BLD 21'\n",
            " 'BLD 07 - COMMUNITY CENTER' 'BLD 24 - COMMUNITY CENTER'\n",
            " 'BLD 21 - COMMUNITY CENTER' 'BLD 1' 'BLD 2' '115-21 200TH STREET'\n",
            " '213-34 NASHVILLE BOULEVARD' 'BLD 51' '111-19 196TH STREET' 'BLD 02-03'\n",
            " 'BLD 05 - COMMUNITY CENTER' 'BLD 3' '100-40 202ND STREET'\n",
            " '111-33 205TH STREET' '177-48 BAISLEY BOULEVARD' '115-69 224TH STREET'\n",
            " '116-02 139TH STREET' '133-17 149TH STREET' '223-19 111TH AVENUE'\n",
            " '114-26 208TH STREET' '123-25 152ND STREET' '109-40 176TH STREET'\n",
            " '114-18 INWOOD STREET' '113-10 201ST STREET' '190-17 115TH DRIVE'\n",
            " '104-17 187TH STREET' '111-33 207TH STREET' '131-68 225TH STREET'\n",
            " '109-11 208TH STREET' '130-15 135TH PLACE' '168-32 119TH AVENUE'\n",
            " '177-19 120TH AVENUE' '210-35 113TH AVENUE' '133-18 134TH STREET'\n",
            " '105 EAST 45TH STREET' '145-03 123RD AVENUE' '190-17 109TH ROAD'\n",
            " '89-24 168TH PLACE' '146-10 123RD AVENUE' '144-41 158TH STREET'\n",
            " '114-34 149TH STREET' '129-41 135TH STREET' '105-12 220TH STREET'\n",
            " '202-02 111TH AVENUE' '115-32 173RD STREET' '186-16 104TH AVENUE'\n",
            " '82 EAST 91ST STREET' '107-16 REMINGTON STREET' '107-34 PRINCETON STREET'\n",
            " '107-38 139TH STREET' '115-41 147TH STREET' '556 SCHENECTADY AVENUE'\n",
            " '133-16 VAN WYCK EXPRESSWAY' '221-02 131ST AVENUE' '114-70 211TH STREET'\n",
            " '147-06 SUTTER AVENUE' '171-48 119TH ROAD' '91-09 138TH PLACE'\n",
            " '110-17 172ND STREET' '190-48 111TH ROAD' '109-38 131ST STREET'\n",
            " '186-20 FOCH BOULEVARD' '133-22 223RD STREET' '101-64 132ND STREET'\n",
            " '134-19 111TH AVENUE' '978 LENOX ROAD' '110-39 164TH PLACE'\n",
            " '182-09 147TH AVENUE' '218-38 140TH AVENUE' '167-08 110TH AVENUE'\n",
            " '145-07 167TH STREET' '129-59 135TH STREET' '190-41 112TH AVENUE'\n",
            " '131-15 SUTTER AVENUE' '228-39 MENTONE AVENUE' '113-20 209th Street'\n",
            " '236-11 119TH AVENUE' '168-31 118TH ROAD' '195-09 119TH AVENUE'\n",
            " '129-23 135TH PLACE' '190-01 118TH ROAD' '111-21 212TH STREET'\n",
            " '192-07 104TH AVENUE' '117-31 135TH STREET' '80-44 162ND STREET'\n",
            " '89-55 208TH STREET' '99-19 203RD STREET' '197-18 116TH AVENUE'\n",
            " '150-22 118TH AVENUE' '94-29 211TH STREET' '109-16 210TH STREET'\n",
            " '145-12 229TH STREET' '112-23 208TH STREET' '130-16 149TH STREET'\n",
            " '136-15 221ST STREET' '142-21 129TH AVENUE' '102-47 187TH STREET'\n",
            " '193-10 WOODHULL AVENUE' '117-27 204TH STREET' '198-14 119TH AVENUE'\n",
            " '121-28 BENTON STREET' 'BLD02 - STORE 6 & 7' 'BLD 8' 'BLD 7' 'BLD 5'\n",
            " 'BLD 11 - STORE 10' 'BLD 45' 'BLD 33' 'BLD 31' 'BLD 34' 'BLD 37' 'BLD 46'\n",
            " 'BLD 38' 'BLD16 - STORE 35-36' '1091 LONGFELLOW AVE']\n"
          ]
        }
      ]
    },
    {
      "cell_type": "markdown",
      "source": [
        "Se realizó el conteo de los valores únicos."
      ],
      "metadata": {
        "id": "DC8iFLiZYGQg"
      }
    },
    {
      "cell_type": "code",
      "source": [
        "print(df['location'].value_counts())"
      ],
      "metadata": {
        "colab": {
          "base_uri": "https://localhost:8080/"
        },
        "id": "mNWAi-K9UYwT",
        "outputId": "c333cc12-29d1-45e4-8cf1-f30f131fad8a"
      },
      "execution_count": 208,
      "outputs": [
        {
          "output_type": "stream",
          "name": "stdout",
          "text": [
            "location\n",
            "BLD 01                 5259\n",
            "BLD 03                 2464\n",
            "BLD 02                 2076\n",
            "BLD 04                 1914\n",
            "BLD 05                 1446\n",
            "                       ... \n",
            "BLD 5                     9\n",
            "BLD16 - STORE 35-36       4\n",
            "BLD 7                     1\n",
            "BLD 8                     1\n",
            "BLD02 - STORE 6 & 7       1\n",
            "Name: count, Length: 305, dtype: int64\n"
          ]
        }
      ]
    },
    {
      "cell_type": "markdown",
      "source": [
        "***Outliers***"
      ],
      "metadata": {
        "id": "jJxDOBJ8bfVt"
      }
    },
    {
      "cell_type": "markdown",
      "source": [
        "Para la detección de valores atípicos se realizaron una serie de pasos, el primero fue realizar una descripción estadística de algunas de las columnas de tipo númerico.\n",
        "\n",
        "Nota: la columna umisbillid no se tomó en cuenta debido a que es un ID y es un valor único por cada registro."
      ],
      "metadata": {
        "id": "qrF2kR-qbk7s"
      }
    },
    {
      "cell_type": "code",
      "source": [
        "columnas = ['tds', 'days', 'currentcharges', 'consumptionhcf', 'watersewercharges', 'othercharges']\n",
        "print(df[columnas].describe())\n"
      ],
      "metadata": {
        "colab": {
          "base_uri": "https://localhost:8080/"
        },
        "id": "_vu0xL0wbnvM",
        "outputId": "5520fec5-c24e-4ed5-a576-3f79a83a3882"
      },
      "execution_count": 209,
      "outputs": [
        {
          "output_type": "stream",
          "name": "stdout",
          "text": [
            "                tds          days  currentcharges  consumptionhcf  \\\n",
            "count  50155.000000  50155.000000    50155.000000    50155.000000   \n",
            "mean     258.691437     33.201595     2143.459285      223.798864   \n",
            "std      101.519212     53.115153     5600.139052     2023.422602   \n",
            "min        1.000000      0.000000        0.000000        0.000000   \n",
            "25%      209.000000     29.000000       46.460000        5.000000   \n",
            "50%      273.000000     30.000000      197.360000       26.000000   \n",
            "75%      338.000000     32.000000     2595.260000      236.000000   \n",
            "max      559.000000   6968.000000   392036.460000   434200.000000   \n",
            "\n",
            "       watersewercharges  othercharges  \n",
            "count       50155.000000  50155.000000  \n",
            "mean         2129.285951     14.173333  \n",
            "std          5558.584594    479.151676  \n",
            "min             0.000000      0.000000  \n",
            "25%            46.360000      0.000000  \n",
            "50%           196.350000      0.000000  \n",
            "75%          2565.650000      0.000000  \n",
            "max        392036.460000  77796.690000  \n"
          ]
        }
      ]
    },
    {
      "cell_type": "markdown",
      "source": [
        "Después, se obtuvó la desviación estándar de cada una de las columnas."
      ],
      "metadata": {
        "id": "7_4afGfAdEtV"
      }
    },
    {
      "cell_type": "code",
      "source": [
        "df[columnas].std()"
      ],
      "metadata": {
        "colab": {
          "base_uri": "https://localhost:8080/",
          "height": 272
        },
        "id": "c9ni3EjfdFx_",
        "outputId": "47287067-c764-4879-a61d-fd27f8482a57"
      },
      "execution_count": 210,
      "outputs": [
        {
          "output_type": "execute_result",
          "data": {
            "text/plain": [
              "tds                   101.519212\n",
              "days                   53.115153\n",
              "currentcharges       5600.139052\n",
              "consumptionhcf       2023.422602\n",
              "watersewercharges    5558.584594\n",
              "othercharges          479.151676\n",
              "dtype: float64"
            ],
            "text/html": [
              "<div>\n",
              "<style scoped>\n",
              "    .dataframe tbody tr th:only-of-type {\n",
              "        vertical-align: middle;\n",
              "    }\n",
              "\n",
              "    .dataframe tbody tr th {\n",
              "        vertical-align: top;\n",
              "    }\n",
              "\n",
              "    .dataframe thead th {\n",
              "        text-align: right;\n",
              "    }\n",
              "</style>\n",
              "<table border=\"1\" class=\"dataframe\">\n",
              "  <thead>\n",
              "    <tr style=\"text-align: right;\">\n",
              "      <th></th>\n",
              "      <th>0</th>\n",
              "    </tr>\n",
              "  </thead>\n",
              "  <tbody>\n",
              "    <tr>\n",
              "      <th>tds</th>\n",
              "      <td>101.519212</td>\n",
              "    </tr>\n",
              "    <tr>\n",
              "      <th>days</th>\n",
              "      <td>53.115153</td>\n",
              "    </tr>\n",
              "    <tr>\n",
              "      <th>currentcharges</th>\n",
              "      <td>5600.139052</td>\n",
              "    </tr>\n",
              "    <tr>\n",
              "      <th>consumptionhcf</th>\n",
              "      <td>2023.422602</td>\n",
              "    </tr>\n",
              "    <tr>\n",
              "      <th>watersewercharges</th>\n",
              "      <td>5558.584594</td>\n",
              "    </tr>\n",
              "    <tr>\n",
              "      <th>othercharges</th>\n",
              "      <td>479.151676</td>\n",
              "    </tr>\n",
              "  </tbody>\n",
              "</table>\n",
              "</div><br><label><b>dtype:</b> float64</label>"
            ]
          },
          "metadata": {},
          "execution_count": 210
        }
      ]
    },
    {
      "cell_type": "markdown",
      "source": [
        "Posterior al cálculo de la desviación estándar, se realizó el proceso de filtrado con el objetivo de obtener aquellos valores que son mayores a 3 veces por la desviación estándar."
      ],
      "metadata": {
        "id": "oHUr34mJdcJv"
      }
    },
    {
      "cell_type": "code",
      "source": [
        "atipicos = df[columnas][(np.abs(df[columnas])>(3*df[columnas].std())).any(axis=1)]\n",
        "print(atipicos)"
      ],
      "metadata": {
        "colab": {
          "base_uri": "https://localhost:8080/"
        },
        "id": "uqI80KJ1dcoe",
        "outputId": "3e244007-5262-4201-fc79-52f5694b56c0"
      },
      "execution_count": 211,
      "outputs": [
        {
          "output_type": "stream",
          "name": "stdout",
          "text": [
            "       tds  days  currentcharges  consumptionhcf  watersewercharges  \\\n",
            "0      339    31         2945.22             285            2945.22   \n",
            "9      357    34         3968.29             384            3968.29   \n",
            "10     357    18         1932.48             187            1932.48   \n",
            "11     357    34         4309.32             417            4309.32   \n",
            "12     357    18         2769.54             268            2769.54   \n",
            "...    ...   ...             ...             ...                ...   \n",
            "50297  174    32        16438.21             204            6346.80   \n",
            "50308  246    91        49686.30             204           49686.30   \n",
            "50309  246    91        33959.56             204           33959.56   \n",
            "50310  246     1        43139.82             204           43139.82   \n",
            "50311  246    90        33422.14             204           33422.14   \n",
            "\n",
            "       othercharges  \n",
            "0              0.00  \n",
            "9              0.00  \n",
            "10             0.00  \n",
            "11             0.00  \n",
            "12             0.00  \n",
            "...             ...  \n",
            "50297      10091.41  \n",
            "50308          0.00  \n",
            "50309          0.00  \n",
            "50310          0.00  \n",
            "50311          0.00  \n",
            "\n",
            "[16438 rows x 6 columns]\n"
          ]
        }
      ]
    },
    {
      "cell_type": "markdown",
      "source": [
        "Para resolver el tema de los valores atípicos, se utilizó el método de Winsorización debido a que sólo se buscaba reemplazar valores extremos por menores sin afectar el tamaño del conjunto de datos.\n",
        "\n",
        "Como primer paso, se identificaron y manejaron valores atípicos para la columna tds. Después se imprimió la estadística después de la Winsorización."
      ],
      "metadata": {
        "id": "cq-xLlPCiWMH"
      }
    },
    {
      "cell_type": "code",
      "source": [
        "winsorizing_fraction = 0.1\n",
        "df['tds_Winsorized'] = winsorize(df['tds'], limits=[winsorizing_fraction, winsorizing_fraction])\n",
        "print(df['tds_Winsorized'].describe())"
      ],
      "metadata": {
        "colab": {
          "base_uri": "https://localhost:8080/"
        },
        "id": "Y7AZar6ugVfl",
        "outputId": "f6732ff5-9834-44a7-a45e-d4599f1867f2"
      },
      "execution_count": 212,
      "outputs": [
        {
          "output_type": "stream",
          "name": "stdout",
          "text": [
            "count    50155.000000\n",
            "mean       258.028671\n",
            "std         90.812302\n",
            "min         67.000000\n",
            "25%        209.000000\n",
            "50%        273.000000\n",
            "75%        338.000000\n",
            "max        377.000000\n",
            "Name: tds_Winsorized, dtype: float64\n"
          ]
        },
        {
          "output_type": "stream",
          "name": "stderr",
          "text": [
            "/usr/local/lib/python3.11/dist-packages/numpy/lib/function_base.py:4824: UserWarning: Warning: 'partition' will ignore the 'mask' of the MaskedArray.\n",
            "  arr.partition(\n"
          ]
        }
      ]
    },
    {
      "cell_type": "markdown",
      "source": [
        "Lo mismo para la columna days."
      ],
      "metadata": {
        "id": "h9VIbAOjishZ"
      }
    },
    {
      "cell_type": "code",
      "source": [
        "df['days_Winsorized'] = winsorize(df['days'], limits=[winsorizing_fraction, winsorizing_fraction])\n",
        "print(df['days_Winsorized'].describe())"
      ],
      "metadata": {
        "colab": {
          "base_uri": "https://localhost:8080/"
        },
        "id": "AbtucB5OitN-",
        "outputId": "6cee6e15-aece-4d6a-eccb-807740d65a49"
      },
      "execution_count": 213,
      "outputs": [
        {
          "output_type": "stream",
          "name": "stdout",
          "text": [
            "count    50155.000000\n",
            "mean        30.443146\n",
            "std          1.652079\n",
            "min         28.000000\n",
            "25%         29.000000\n",
            "50%         30.000000\n",
            "75%         32.000000\n",
            "max         33.000000\n",
            "Name: days_Winsorized, dtype: float64\n"
          ]
        },
        {
          "output_type": "stream",
          "name": "stderr",
          "text": [
            "/usr/local/lib/python3.11/dist-packages/numpy/lib/function_base.py:4824: UserWarning: Warning: 'partition' will ignore the 'mask' of the MaskedArray.\n",
            "  arr.partition(\n"
          ]
        }
      ]
    },
    {
      "cell_type": "markdown",
      "source": [
        "El mismo método para la columna currentcharges."
      ],
      "metadata": {
        "id": "DZDnjz4li6T5"
      }
    },
    {
      "cell_type": "code",
      "source": [
        "df['currentcharges_Winsorized'] = winsorize(df['currentcharges'], limits=[winsorizing_fraction, winsorizing_fraction])\n",
        "print(df['currentcharges_Winsorized'].describe())"
      ],
      "metadata": {
        "colab": {
          "base_uri": "https://localhost:8080/"
        },
        "id": "6sgXOB5ii7CJ",
        "outputId": "fd1b78ee-04f9-4a82-8351-058653e28c65"
      },
      "execution_count": 214,
      "outputs": [
        {
          "output_type": "stream",
          "name": "stdout",
          "text": [
            "count    50155.000000\n",
            "mean      1528.006831\n",
            "std       2105.485123\n",
            "min         38.070000\n",
            "25%         46.460000\n",
            "50%        197.360000\n",
            "75%       2595.260000\n",
            "max       6111.110000\n",
            "Name: currentcharges_Winsorized, dtype: float64\n"
          ]
        },
        {
          "output_type": "stream",
          "name": "stderr",
          "text": [
            "/usr/local/lib/python3.11/dist-packages/numpy/lib/function_base.py:4824: UserWarning: Warning: 'partition' will ignore the 'mask' of the MaskedArray.\n",
            "  arr.partition(\n"
          ]
        }
      ]
    },
    {
      "cell_type": "markdown",
      "source": [
        "Mismo método para la columna consumptionhcf."
      ],
      "metadata": {
        "id": "nIdCudBSi_h-"
      }
    },
    {
      "cell_type": "code",
      "source": [
        "df['consumptionhcf_Winsorized'] = winsorize(df['consumptionhcf'], limits=[winsorizing_fraction, winsorizing_fraction])\n",
        "print(df['consumptionhcf_Winsorized'].describe())"
      ],
      "metadata": {
        "colab": {
          "base_uri": "https://localhost:8080/"
        },
        "id": "LkeTNNmHjAD2",
        "outputId": "fb921c34-facd-4875-c93a-144ceae848d8"
      },
      "execution_count": 215,
      "outputs": [
        {
          "output_type": "stream",
          "name": "stdout",
          "text": [
            "count    50155.000000\n",
            "mean       154.476882\n",
            "std        200.977128\n",
            "min          1.000000\n",
            "25%          5.000000\n",
            "50%         26.000000\n",
            "75%        236.000000\n",
            "max        595.000000\n",
            "Name: consumptionhcf_Winsorized, dtype: float64\n"
          ]
        },
        {
          "output_type": "stream",
          "name": "stderr",
          "text": [
            "/usr/local/lib/python3.11/dist-packages/numpy/lib/function_base.py:4824: UserWarning: Warning: 'partition' will ignore the 'mask' of the MaskedArray.\n",
            "  arr.partition(\n"
          ]
        }
      ]
    },
    {
      "cell_type": "markdown",
      "source": [
        "En la columna watersewercharges."
      ],
      "metadata": {
        "id": "mpAB5jVOjQFD"
      }
    },
    {
      "cell_type": "code",
      "source": [
        "df['watersewercharges_Winsorized'] = winsorize(df['watersewercharges'], limits=[winsorizing_fraction, winsorizing_fraction])\n",
        "print(df['watersewercharges_Winsorized'].describe())"
      ],
      "metadata": {
        "colab": {
          "base_uri": "https://localhost:8080/"
        },
        "id": "MBjDbGU9jQb3",
        "outputId": "e59d0ba4-4c5a-4dc9-8ae4-b5d43762085a"
      },
      "execution_count": 216,
      "outputs": [
        {
          "output_type": "stream",
          "name": "stdout",
          "text": [
            "count    50155.000000\n",
            "mean      1519.280709\n",
            "std       2101.270227\n",
            "min         36.800000\n",
            "25%         46.360000\n",
            "50%        196.350000\n",
            "75%       2565.650000\n",
            "max       6102.950000\n",
            "Name: watersewercharges_Winsorized, dtype: float64\n"
          ]
        },
        {
          "output_type": "stream",
          "name": "stderr",
          "text": [
            "/usr/local/lib/python3.11/dist-packages/numpy/lib/function_base.py:4824: UserWarning: Warning: 'partition' will ignore the 'mask' of the MaskedArray.\n",
            "  arr.partition(\n"
          ]
        }
      ]
    },
    {
      "cell_type": "markdown",
      "source": [
        "Por último, en la columna othercharges"
      ],
      "metadata": {
        "id": "O_nsZIhRvMEO"
      }
    },
    {
      "cell_type": "code",
      "source": [
        "df['othercharges_Winsorized'] = winsorize(df['othercharges'], limits=[winsorizing_fraction, winsorizing_fraction])\n",
        "print(df['othercharges_Winsorized'].describe())"
      ],
      "metadata": {
        "colab": {
          "base_uri": "https://localhost:8080/"
        },
        "id": "W5KLi3axvZdp",
        "outputId": "27140fbc-cece-40c0-d2c4-37b2296b97d3"
      },
      "execution_count": 217,
      "outputs": [
        {
          "output_type": "stream",
          "name": "stdout",
          "text": [
            "count    50155.0\n",
            "mean         0.0\n",
            "std          0.0\n",
            "min          0.0\n",
            "25%          0.0\n",
            "50%          0.0\n",
            "75%          0.0\n",
            "max          0.0\n",
            "Name: othercharges_Winsorized, dtype: float64\n"
          ]
        },
        {
          "output_type": "stream",
          "name": "stderr",
          "text": [
            "/usr/local/lib/python3.11/dist-packages/numpy/lib/function_base.py:4824: UserWarning: Warning: 'partition' will ignore the 'mask' of the MaskedArray.\n",
            "  arr.partition(\n"
          ]
        }
      ]
    },
    {
      "cell_type": "markdown",
      "source": [
        "Aquí se muestran las gráficas de la Winsorización"
      ],
      "metadata": {
        "id": "GYeWcNazv_NL"
      }
    },
    {
      "cell_type": "code",
      "source": [
        "fig, axes = plt.subplots(nrows=3, ncols=2, figsize=(15, 15))\n",
        "axes = axes.ravel()\n",
        "\n",
        "winsorized_columns = ['tds_Winsorized', 'days_Winsorized', 'currentcharges_Winsorized',\n",
        "                      'consumptionhcf_Winsorized', 'watersewercharges_Winsorized', 'othercharges_Winsorized']\n",
        "\n",
        "for i, col in enumerate(winsorized_columns):\n",
        "    try:\n",
        "        df[col].hist(ax=axes[i])\n",
        "        axes[i].set_title(f'Distribución Winsorizada de {col}')\n",
        "        axes[i].set_xlabel(col)\n",
        "        axes[i].set_ylabel('Frecuencia')\n",
        "    except Exception as e:\n",
        "        axes[i].set_title(f\"Error al trazar {col}: {e}\")\n",
        "\n",
        "plt.tight_layout()\n",
        "plt.show()\n"
      ],
      "metadata": {
        "colab": {
          "base_uri": "https://localhost:8080/",
          "height": 1000
        },
        "id": "mGwgwRmyvrEP",
        "outputId": "5fe16e37-127a-45db-d373-a37900a79c58"
      },
      "execution_count": 218,
      "outputs": [
        {
          "output_type": "display_data",
          "data": {
            "text/plain": [
              "<Figure size 1500x1500 with 6 Axes>"
            ],
            "image/png": "[encoded data removed]"
          },
          "metadata": {}
        }
      ]
    },
    {
      "cell_type": "markdown",
      "source": [
        "# **5. Análisis Descriptivo de Datos**\n",
        "\n",
        "## - Preguntas a responder con el AD\n",
        "## - Explicación de Estadísticas Básicas Aplicadas, Visualización de Datos con Gráficos, y Resumen de las respuestas"
      ],
      "metadata": {
        "id": "3gERzOTAfuOL"
      }
    },
    {
      "cell_type": "markdown",
      "source": [
        "# **6. Análisis Exploratorio de los Datos**\n",
        "\n",
        "## - Preguntas a responder\n",
        "## - Estadísticas Empleadas, visualización y Resumen de las respuestas encontradas.\n",
        "\n",
        "RECUERDA AGREGAR UNA O VARIAS CELDAS DE CÓDIGO"
      ],
      "metadata": {
        "id": "_s8IXMLsfrI5"
      }
    },
    {
      "cell_type": "markdown",
      "source": [],
      "metadata": {
        "id": "AvV5oAjUqVcs"
      }
    },
    {
      "cell_type": "markdown",
      "source": [
        "# **7. Análisis Predictivo**\n",
        "\n",
        "## - Preprocesamiento para Análisis Predictivo: Problemas, Técnicas y Código\n",
        "\n",
        "## - Modelado Predictivo\n",
        "### - Modelo elegido y parámetros\n",
        "### - Entrenamiento y Evaluación\n",
        "## - Resultados\n",
        "RECUERDA AGREGAR UNA O VARIAS CELDAS DE CÓDIGO"
      ],
      "metadata": {
        "id": "D8irLVFimFqa"
      }
    },
    {
      "cell_type": "markdown",
      "source": [
        "# **8. Conclusiones y Trabajos Futuros**\n",
        "\n",
        "## - Resumen del trabajo realizado, hallazgos y posibles mejoras\n",
        "\n",
        "RECUERDA AGREGAR UNA O VARIAS CELDAS DE CÓDIGO"
      ],
      "metadata": {
        "id": "8ESQV5mmmSRI"
      }
    }
  ]
}