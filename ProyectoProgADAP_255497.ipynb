{
  "nbformat": 4,
  "nbformat_minor": 0,
  "metadata": {
    "colab": {
      "provenance": [],
      "include_colab_link": true
    },
    "kernelspec": {
      "name": "python3",
      "display_name": "Python 3"
    },
    "language_info": {
      "name": "python"
    }
  },
  "cells": [
    {
      "cell_type": "markdown",
      "metadata": {
        "id": "view-in-github",
        "colab_type": "text"
      },
      "source": [
        "<a href=\"https://colab.research.google.com/github/jonathanahc/Proyecto/blob/main/ProyectoProgADAP_255497.ipynb\" target=\"_parent\"><img src=\"https://colab.research.google.com/assets/colab-badge.svg\" alt=\"Open In Colab\"/></a>"
      ]
    },
    {
      "cell_type": "markdown",
      "source": [
        "# **Proyecto de Programación para Analítica Descriptiva y Predictiva**\n",
        "## Nombre del Proyecto: Consumo y costo del agua en Nueva York\n",
        "## Grupo: A\n",
        "## Autor: Jonathan Adrian Herrera Castro\n",
        "## Matrícula: 255497\n",
        "## Fecha: 19/02/2025"
      ],
      "metadata": {
        "id": "V5SiSwjFaQ8j"
      }
    },
    {
      "cell_type": "markdown",
      "source": [
        "# **1. Introducción**\n",
        "\n",
        "## - Descripción del problema: ¿Qué queremos analizar o predecir?\n",
        "## - Objetivo del análisis: ¿Qué impacto tendrá este análisis?\n",
        "## - Fuente de datos: ¿De dónde provienen los datos?\n"
      ],
      "metadata": {
        "id": "6ljsvIIXbAHF"
      }
    },
    {
      "cell_type": "markdown",
      "source": [
        "# **2. Captura y Carga de Datos**\n",
        "\n",
        "## - Explicación de la fuente de datos: ¿Cuáles son las fuentes de datos?, ¿Qué formato tienen los datos (CSV, SQL, API, etc.)?, ¿Cuántas observaciones y variables contiene el dataset?\n",
        "\n",
        "## - Explicación sobre problemas en la carga de Datos y el Código para la carga de datos desde archivos (bibiotecas, etc.)"
      ],
      "metadata": {
        "id": "R2awiYXqa6Tv"
      }
    },
    {
      "cell_type": "code",
      "source": [
        "from google.colab import drive\n",
        "drive.mount('/content/drive')\n",
        "\n",
        "import pandas as pd"
      ],
      "metadata": {
        "id": "jqxsWihhkT82",
        "outputId": "6e5450c0-45cd-4336-9511-e4648e97d050",
        "colab": {
          "base_uri": "https://localhost:8080/"
        }
      },
      "execution_count": 3,
      "outputs": [
        {
          "output_type": "stream",
          "name": "stdout",
          "text": [
            "Drive already mounted at /content/drive; to attempt to forcibly remount, call drive.mount(\"/content/drive\", force_remount=True).\n"
          ]
        }
      ]
    },
    {
      "cell_type": "code",
      "source": [
        "df = pd.read_csv('/content/drive/MyDrive/ProyectoProgramacion/Water_Consumption_And_Cost__2013_-_Feb_2023__20250216.csv', engine=\"python\")\n",
        "df.head()\n",
        "\n",
        "df.info()"
      ],
      "metadata": {
        "id": "WhRzTahMkqwq",
        "outputId": "f8909997-0240-4c2f-97bd-1d8ffdee8c29",
        "colab": {
          "base_uri": "https://localhost:8080/"
        }
      },
      "execution_count": 7,
      "outputs": [
        {
          "output_type": "stream",
          "name": "stdout",
          "text": [
            "<class 'pandas.core.frame.DataFrame'>\n",
            "RangeIndex: 50315 entries, 0 to 50314\n",
            "Data columns (total 25 columns):\n",
            " #   Column               Non-Null Count  Dtype  \n",
            "---  ------               --------------  -----  \n",
            " 0   Development Name     50255 non-null  object \n",
            " 1   Borough              50315 non-null  object \n",
            " 2   Account Name         50315 non-null  object \n",
            " 3   Location             49487 non-null  object \n",
            " 4   Meter AMR            49805 non-null  object \n",
            " 5   Meter Scope          12782 non-null  object \n",
            " 6   TDS #                50255 non-null  float64\n",
            " 7   EDP                  50315 non-null  int64  \n",
            " 8   RC Code              50315 non-null  object \n",
            " 9   Funding Source       50239 non-null  object \n",
            " 10  AMP #                50193 non-null  object \n",
            " 11  Vendor Name          50315 non-null  object \n",
            " 12  UMIS BILL ID         50315 non-null  int64  \n",
            " 13  Revenue Month        50315 non-null  object \n",
            " 14  Service Start Date   50308 non-null  object \n",
            " 15  Service End Date     50308 non-null  object \n",
            " 16  # days               50308 non-null  float64\n",
            " 17  Meter Number         50315 non-null  object \n",
            " 18  Estimated            50315 non-null  object \n",
            " 19  Current Charges      50315 non-null  float64\n",
            " 20  Rate Class           50279 non-null  object \n",
            " 21  Bill Analyzed        50315 non-null  object \n",
            " 22  Consumption (HCF)    50315 non-null  int64  \n",
            " 23  Water&Sewer Charges  50315 non-null  float64\n",
            " 24  Other Charges        50315 non-null  float64\n",
            "dtypes: float64(5), int64(3), object(17)\n",
            "memory usage: 9.6+ MB\n"
          ]
        }
      ]
    },
    {
      "cell_type": "markdown",
      "source": [
        "#**3.Transformación y Preprocesamiento - Data Wrangling**\n",
        "\n",
        "## - Identificación de Tipos de Datos\n",
        "## - Cantidad de Valores nulos\n",
        "##- Explicación sobre cada una de las problemáticas encontradas, las soluciones y el código"
      ],
      "metadata": {
        "id": "oKCLUQvPcSOm"
      }
    },
    {
      "cell_type": "markdown",
      "source": [
        "# **4. Análisis Descriptivo de Datos**\n",
        "\n",
        "## - Preguntas a responder con el AD\n",
        "## - Explicación de Estadísticas Básicas Aplicadas, Visualización de Datos con Gráficos, y Resumen de las respuestas"
      ],
      "metadata": {
        "id": "3gERzOTAfuOL"
      }
    },
    {
      "cell_type": "markdown",
      "source": [
        "# **5. Análisis Exploratorio de los Datos**\n",
        "\n",
        "## - Preguntas a responder\n",
        "## - Estadísticas Empleadas, visualización y Resumen de las respuestas encontradas."
      ],
      "metadata": {
        "id": "_s8IXMLsfrI5"
      }
    },
    {
      "cell_type": "markdown",
      "source": [
        "# **6. Análisis Predictivo**\n",
        "\n",
        "## - Preprocesamiento para Análisis Predictivo: Problemas, Técnicas y Código\n",
        "\n",
        "## - Modelado Predictivo\n",
        "### - Modelo elegido y parámetros\n",
        "### - Entrenamiento y Evaluación\n",
        "## - Resultados\n"
      ],
      "metadata": {
        "id": "D8irLVFimFqa"
      }
    },
    {
      "cell_type": "markdown",
      "source": [
        "# **7. Conclusiones y Trabajos Futuros**\n",
        "\n",
        "## - Resumen del trabajo realizado, hallazgos y posibles mejoras"
      ],
      "metadata": {
        "id": "8ESQV5mmmSRI"
      }
    }
  ]
}